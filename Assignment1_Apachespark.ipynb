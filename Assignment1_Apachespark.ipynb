{
  "nbformat": 4,
  "nbformat_minor": 0,
  "metadata": {
    "colab": {
      "provenance": [],
      "collapsed_sections": []
    },
    "kernelspec": {
      "name": "python3",
      "display_name": "Python 3"
    },
    "language_info": {
      "name": "python"
    }
  },
  "cells": [
    {
      "cell_type": "code",
      "source": [
        "!apt-get update "
      ],
      "metadata": {
        "colab": {
          "base_uri": "https://localhost:8080/"
        },
        "id": "zd85cx_RAuFh",
        "outputId": "9025ca3d-b875-4c86-a26d-e8bd2105a282"
      },
      "execution_count": null,
      "outputs": [
        {
          "output_type": "stream",
          "name": "stdout",
          "text": [
            "\r0% [Working]\r            \rGet:1 http://security.ubuntu.com/ubuntu bionic-security InRelease [88.7 kB]\n",
            "\r0% [Connecting to archive.ubuntu.com (185.125.190.39)] [1 InRelease 14.2 kB/88.\r                                                                               \rGet:2 https://cloud.r-project.org/bin/linux/ubuntu bionic-cran40/ InRelease [3,626 B]\n",
            "\r0% [Waiting for headers] [1 InRelease 69.2 kB/88.7 kB 78%] [2 InRelease 0 B/3,6\r0% [Waiting for headers] [1 InRelease 88.7 kB/88.7 kB 100%] [Waiting for header\r                                                                               \r0% [Waiting for headers] [Waiting for headers] [Waiting for headers]\r0% [2 InRelease gpgv 3,626 B] [Waiting for headers] [Waiting for headers] [Wait\r                                                                               \rIgn:3 https://developer.download.nvidia.com/compute/machine-learning/repos/ubuntu1804/x86_64  InRelease\n",
            "\r0% [2 InRelease gpgv 3,626 B] [Waiting for headers] [Waiting for headers] [Wait\r                                                                               \rHit:4 https://developer.download.nvidia.com/compute/cuda/repos/ubuntu1804/x86_64  InRelease\n",
            "\r                                                                               \r0% [2 InRelease gpgv 3,626 B] [Waiting for headers] [Waiting for headers]\r                                                                         \rGet:5 http://ppa.launchpad.net/c2d4u.team/c2d4u4.0+/ubuntu bionic InRelease [15.9 kB]\n",
            "\r0% [2 InRelease gpgv 3,626 B] [Waiting for headers] [Waiting for headers] [5 In\r                                                                               \rHit:6 http://archive.ubuntu.com/ubuntu bionic InRelease\n",
            "Hit:7 https://developer.download.nvidia.com/compute/machine-learning/repos/ubuntu1804/x86_64  Release\n",
            "Get:8 http://archive.ubuntu.com/ubuntu bionic-updates InRelease [88.7 kB]\n",
            "Hit:9 http://ppa.launchpad.net/cran/libgit2/ubuntu bionic InRelease\n",
            "Get:10 http://archive.ubuntu.com/ubuntu bionic-backports InRelease [83.3 kB]\n",
            "Hit:11 http://ppa.launchpad.net/deadsnakes/ppa/ubuntu bionic InRelease\n",
            "Get:12 http://security.ubuntu.com/ubuntu bionic-security/universe amd64 Packages [1,550 kB]\n",
            "Hit:13 http://ppa.launchpad.net/graphics-drivers/ppa/ubuntu bionic InRelease\n",
            "Get:14 http://security.ubuntu.com/ubuntu bionic-security/restricted amd64 Packages [1,183 kB]\n",
            "Get:15 http://security.ubuntu.com/ubuntu bionic-security/main amd64 Packages [3,005 kB]\n",
            "Get:17 http://ppa.launchpad.net/c2d4u.team/c2d4u4.0+/ubuntu bionic/main Sources [2,164 kB]\n",
            "Get:18 http://archive.ubuntu.com/ubuntu bionic-updates/universe amd64 Packages [2,328 kB]\n",
            "Get:19 http://ppa.launchpad.net/c2d4u.team/c2d4u4.0+/ubuntu bionic/main amd64 Packages [1,109 kB]\n",
            "Get:20 http://archive.ubuntu.com/ubuntu bionic-updates/main amd64 Packages [3,436 kB]\n",
            "Get:21 http://archive.ubuntu.com/ubuntu bionic-updates/restricted amd64 Packages [1,223 kB]\n",
            "Fetched 16.3 MB in 4s (4,334 kB/s)\n",
            "Reading package lists... Done\n"
          ]
        }
      ]
    },
    {
      "cell_type": "code",
      "source": [
        "!apt-get install openjdk-8-jdk-headless -qq > /dev/null"
      ],
      "metadata": {
        "id": "IHsdawd2BDDs"
      },
      "execution_count": null,
      "outputs": []
    },
    {
      "cell_type": "code",
      "source": [
        "!wget -q https://archive.apache.org/dist/spark/spark-3.2.1/spark-3.2.1-bin-hadoop2.7.tgz\n",
        "!tar xf spark-3.2.1-bin hadoop2.7.tgz"
      ],
      "metadata": {
        "colab": {
          "base_uri": "https://localhost:8080/"
        },
        "id": "hi3KQD-dCaZP",
        "outputId": "1ad5b2b3-0e54-415f-e03c-24da2a6c5934"
      },
      "execution_count": null,
      "outputs": [
        {
          "output_type": "stream",
          "name": "stdout",
          "text": [
            "tar: spark-3.2.1-bin: Cannot open: No such file or directory\n",
            "tar: Error is not recoverable: exiting now\n"
          ]
        }
      ]
    },
    {
      "cell_type": "code",
      "source": [
        "import os\n",
        "os.environ[\"JAVA_HOME\"] = \"/usr/lib/jvm/java-8-openjdk-amd64\""
      ],
      "metadata": {
        "id": "n9UjSDXJBmZd"
      },
      "execution_count": null,
      "outputs": []
    },
    {
      "cell_type": "code",
      "source": [],
      "metadata": {
        "id": "NEcf_oy6CY_V"
      },
      "execution_count": null,
      "outputs": []
    },
    {
      "cell_type": "code",
      "source": [
        "import os\n",
        "print(os.environ[\"SPARK_HOME\"])"
      ],
      "metadata": {
        "colab": {
          "base_uri": "https://localhost:8080/"
        },
        "id": "R1he21eCDf-4",
        "outputId": "fe088bab-ad31-4fd2-f9af-5367ba681427"
      },
      "execution_count": null,
      "outputs": [
        {
          "output_type": "stream",
          "name": "stdout",
          "text": [
            "/usr/local/lib/python3.7/dist-packages/pyspark\n"
          ]
        }
      ]
    },
    {
      "cell_type": "code",
      "source": [
        "from google.colab import drive\n",
        "drive.mount('/content/drive')"
      ],
      "metadata": {
        "colab": {
          "base_uri": "https://localhost:8080/"
        },
        "id": "3UEzM1IZzUGf",
        "outputId": "3a36abba-e43d-484f-b141-17fbe6dac2a2"
      },
      "execution_count": null,
      "outputs": [
        {
          "output_type": "stream",
          "name": "stdout",
          "text": [
            "Drive already mounted at /content/drive; to attempt to forcibly remount, call drive.mount(\"/content/drive\", force_remount=True).\n"
          ]
        }
      ]
    },
    {
      "cell_type": "code",
      "source": [
        "from google.colab import files"
      ],
      "metadata": {
        "id": "OcWN-hoU1IEE"
      },
      "execution_count": null,
      "outputs": []
    },
    {
      "cell_type": "code",
      "source": [
        "!ls sample_data/"
      ],
      "metadata": {
        "colab": {
          "base_uri": "https://localhost:8080/"
        },
        "id": "549IyE_317LA",
        "outputId": "af18b1fa-8cf4-4d40-e1bf-dfb2396dbb74"
      },
      "execution_count": null,
      "outputs": [
        {
          "output_type": "stream",
          "name": "stdout",
          "text": [
            "anscombe.json\t\t      mnist_test.csv\n",
            "california_housing_test.csv   mnist_train_small.csv\n",
            "california_housing_train.csv  README.md\n"
          ]
        }
      ]
    },
    {
      "cell_type": "code",
      "source": [
        "!pip install pyspark"
      ],
      "metadata": {
        "colab": {
          "base_uri": "https://localhost:8080/"
        },
        "id": "s52UJrG-v_fw",
        "outputId": "1b0747c3-2b24-4dd6-fef8-2575c3684c16"
      },
      "execution_count": 2,
      "outputs": [
        {
          "output_type": "stream",
          "name": "stdout",
          "text": [
            "Looking in indexes: https://pypi.org/simple, https://us-python.pkg.dev/colab-wheels/public/simple/\n",
            "Collecting pyspark\n",
            "  Downloading pyspark-3.3.0.tar.gz (281.3 MB)\n",
            "\u001b[K     |████████████████████████████████| 281.3 MB 50 kB/s \n",
            "\u001b[?25hCollecting py4j==0.10.9.5\n",
            "  Downloading py4j-0.10.9.5-py2.py3-none-any.whl (199 kB)\n",
            "\u001b[K     |████████████████████████████████| 199 kB 51.5 MB/s \n",
            "\u001b[?25hBuilding wheels for collected packages: pyspark\n",
            "  Building wheel for pyspark (setup.py) ... \u001b[?25l\u001b[?25hdone\n",
            "  Created wheel for pyspark: filename=pyspark-3.3.0-py2.py3-none-any.whl size=281764026 sha256=04cc9c68652e34e4f8eedeca07090989126e134f2533ac36a5ed434f10f3f9ea\n",
            "  Stored in directory: /root/.cache/pip/wheels/7a/8e/1b/f73a52650d2e5f337708d9f6a1750d451a7349a867f928b885\n",
            "Successfully built pyspark\n",
            "Installing collected packages: py4j, pyspark\n",
            "Successfully installed py4j-0.10.9.5 pyspark-3.3.0\n"
          ]
        }
      ]
    },
    {
      "cell_type": "code",
      "source": [
        "!pip install findspark"
      ],
      "metadata": {
        "colab": {
          "base_uri": "https://localhost:8080/"
        },
        "id": "vClaP9Bhwady",
        "outputId": "baac3d1e-5545-4f12-aa07-2df9956f4089"
      },
      "execution_count": 3,
      "outputs": [
        {
          "output_type": "stream",
          "name": "stdout",
          "text": [
            "Looking in indexes: https://pypi.org/simple, https://us-python.pkg.dev/colab-wheels/public/simple/\n",
            "Collecting findspark\n",
            "  Downloading findspark-2.0.1-py2.py3-none-any.whl (4.4 kB)\n",
            "Installing collected packages: findspark\n",
            "Successfully installed findspark-2.0.1\n"
          ]
        }
      ]
    },
    {
      "cell_type": "code",
      "source": [
        "import findspark\n",
        "findspark.init()\n",
        "findspark.find()"
      ],
      "metadata": {
        "colab": {
          "base_uri": "https://localhost:8080/",
          "height": 36
        },
        "id": "fZK8q0N8wbLF",
        "outputId": "9656f6af-ebac-4c58-8294-5a91d34f6c85"
      },
      "execution_count": 4,
      "outputs": [
        {
          "output_type": "execute_result",
          "data": {
            "text/plain": [
              "'/usr/local/lib/python3.7/dist-packages/pyspark'"
            ],
            "application/vnd.google.colaboratory.intrinsic+json": {
              "type": "string"
            }
          },
          "metadata": {},
          "execution_count": 4
        }
      ]
    },
    {
      "cell_type": "code",
      "source": [
        "from pyspark import SparkContext"
      ],
      "metadata": {
        "id": "wrlk4fwbwlax"
      },
      "execution_count": 5,
      "outputs": []
    },
    {
      "cell_type": "code",
      "source": [
        "sc=SparkContext.getOrCreate()\n",
        "sc"
      ],
      "metadata": {
        "colab": {
          "base_uri": "https://localhost:8080/",
          "height": 196
        },
        "id": "4RSfqp49z43Q",
        "outputId": "88dba170-ce9a-43f0-8663-27c37eae576b"
      },
      "execution_count": 6,
      "outputs": [
        {
          "output_type": "execute_result",
          "data": {
            "text/plain": [
              "<SparkContext master=local[*] appName=pyspark-shell>"
            ],
            "text/html": [
              "\n",
              "        <div>\n",
              "            <p><b>SparkContext</b></p>\n",
              "\n",
              "            <p><a href=\"http://3c40d0131e75:4040\">Spark UI</a></p>\n",
              "\n",
              "            <dl>\n",
              "              <dt>Version</dt>\n",
              "                <dd><code>v3.3.0</code></dd>\n",
              "              <dt>Master</dt>\n",
              "                <dd><code>local[*]</code></dd>\n",
              "              <dt>AppName</dt>\n",
              "                <dd><code>pyspark-shell</code></dd>\n",
              "            </dl>\n",
              "        </div>\n",
              "        "
            ]
          },
          "metadata": {},
          "execution_count": 6
        }
      ]
    },
    {
      "cell_type": "code",
      "source": [
        "from pyspark.sql import SparkSession\n",
        "spark=SparkSession.builder.appName('Test').getOrCreate()"
      ],
      "metadata": {
        "id": "suXECfnV0ALr"
      },
      "execution_count": 7,
      "outputs": []
    },
    {
      "cell_type": "code",
      "source": [
        "spark"
      ],
      "metadata": {
        "colab": {
          "base_uri": "https://localhost:8080/",
          "height": 219
        },
        "id": "ftNh1MUD0gCY",
        "outputId": "12fe5faa-8638-4bbb-9b19-ff76b714122b"
      },
      "execution_count": 8,
      "outputs": [
        {
          "output_type": "execute_result",
          "data": {
            "text/plain": [
              "<pyspark.sql.session.SparkSession at 0x7f8980548f10>"
            ],
            "text/html": [
              "\n",
              "            <div>\n",
              "                <p><b>SparkSession - in-memory</b></p>\n",
              "                \n",
              "        <div>\n",
              "            <p><b>SparkContext</b></p>\n",
              "\n",
              "            <p><a href=\"http://3c40d0131e75:4040\">Spark UI</a></p>\n",
              "\n",
              "            <dl>\n",
              "              <dt>Version</dt>\n",
              "                <dd><code>v3.3.0</code></dd>\n",
              "              <dt>Master</dt>\n",
              "                <dd><code>local[*]</code></dd>\n",
              "              <dt>AppName</dt>\n",
              "                <dd><code>pyspark-shell</code></dd>\n",
              "            </dl>\n",
              "        </div>\n",
              "        \n",
              "            </div>\n",
              "        "
            ]
          },
          "metadata": {},
          "execution_count": 8
        }
      ]
    },
    {
      "cell_type": "code",
      "source": [
        "#Question 1)  \n",
        "%%time\n",
        " #File location and type \n",
        "path='/content/drive/MyDrive/covid-19.csv'\n",
        "file_type =\"csv\"\n",
        "\n",
        " #using infer schema we import the file\n",
        "infer_schema =\"true\",\n",
        "first_row_is_header = \"true\",\n",
        "delimiter =\",\"\n",
        "\n",
        "#Import csv.\n",
        "df=spark.read.option(\"header\",True).csv('/content/drive/MyDrive/covid-19.csv')\n",
        "#df=spark.read.format(file_type) \\\n",
        "#.option(\"inferschema\",infer_schema) \\\n",
        "#.option(\"header\",first_row_is_header) \\\n",
        "#.option(\"sep\",delimiter) \\\n",
        "#.load(path)"
      ],
      "metadata": {
        "id": "ozDI4XYpSrT9",
        "colab": {
          "base_uri": "https://localhost:8080/"
        },
        "outputId": "534bc448-9a15-4ec9-da70-cd3701d2c309"
      },
      "execution_count": 12,
      "outputs": [
        {
          "output_type": "stream",
          "name": "stdout",
          "text": [
            "CPU times: user 27.4 ms, sys: 2.02 ms, total: 29.4 ms\n",
            "Wall time: 3.82 s\n"
          ]
        }
      ]
    },
    {
      "cell_type": "code",
      "source": [
        "df.show()"
      ],
      "metadata": {
        "colab": {
          "base_uri": "https://localhost:8080/"
        },
        "id": "RmZnPcokBA6B",
        "outputId": "c1bcc143-8326-4710-d412-3d8364b21649"
      },
      "execution_count": 13,
      "outputs": [
        {
          "output_type": "stream",
          "name": "stdout",
          "text": [
            "+----------+-----------+----------------------+---------------+------------+-----------------------+----------------+\n",
            "|      date|    country|cumulative_total_cases|daily_new_cases|active_cases|cumulative_total_deaths|daily_new_deaths|\n",
            "+----------+-----------+----------------------+---------------+------------+-----------------------+----------------+\n",
            "|2020-02-15|Afghanistan|                     0|           null|           0|                      0|            null|\n",
            "|2020-02-16|Afghanistan|                     0|           null|           0|                      0|            null|\n",
            "|2020-02-17|Afghanistan|                     0|           null|           0|                      0|            null|\n",
            "|2020-02-18|Afghanistan|                     0|           null|           0|                      0|            null|\n",
            "|2020-02-19|Afghanistan|                     0|           null|           0|                      0|            null|\n",
            "|2020-02-20|Afghanistan|                     0|           null|           0|                      0|            null|\n",
            "|2020-02-21|Afghanistan|                     0|           null|           0|                      0|            null|\n",
            "|2020-02-22|Afghanistan|                     0|           null|           0|                      0|            null|\n",
            "|2020-02-23|Afghanistan|                     0|           null|           0|                      0|            null|\n",
            "|2020-02-24|Afghanistan|                     1|           null|           1|                      0|            null|\n",
            "|2020-02-25|Afghanistan|                     1|              0|           1|                      0|               0|\n",
            "|2020-02-26|Afghanistan|                     1|              0|           1|                      0|               0|\n",
            "|2020-02-27|Afghanistan|                     1|              0|           1|                      0|               0|\n",
            "|2020-02-28|Afghanistan|                     1|              0|           1|                      0|               0|\n",
            "|2020-02-29|Afghanistan|                     1|              0|           1|                      0|               0|\n",
            "|2020-03-01|Afghanistan|                     1|              0|           1|                      0|               0|\n",
            "|2020-03-02|Afghanistan|                     1|              0|           1|                      0|               0|\n",
            "|2020-03-03|Afghanistan|                     1|              0|           1|                      0|               0|\n",
            "|2020-03-04|Afghanistan|                     1|              0|           1|                      0|               0|\n",
            "|2020-03-05|Afghanistan|                     1|              0|           1|                      0|               0|\n",
            "+----------+-----------+----------------------+---------------+------------+-----------------------+----------------+\n",
            "only showing top 20 rows\n",
            "\n"
          ]
        }
      ]
    },
    {
      "cell_type": "code",
      "source": [
        "# Question 2)\n",
        "%%time\n",
        "from pyspark.sql.types import *\n",
        "\n",
        "path1= '/content/drive/MyDrive/covid-19.csv'\n",
        "\n",
        "# Defining schema  to import the file\n",
        "define_schema = StructType([\n",
        "  StructField(\"date\", StringType(), True),\n",
        "  StructField(\"country\", StringType(), True),\n",
        "  StructField(\"cumulative_total_cases\", IntegerType(), True),\n",
        "  StructField(\"daily_new_cases\", IntegerType(), True),\n",
        "  StructField(\"active_cases\", IntegerType(), True),\n",
        "  StructField(\"cumulative_total_deaths\", IntegerType(), True), \n",
        "  StructField(\"daily_new_deaths\", IntegerType(), True)])\n",
        "\n",
        "#dfschema=spark.read.option(\"header\",True).csv('/content/drive/MyDrive/covid-19.csv')\n",
        "define_schema1 = spark.read.format(\"csv\") \\\n",
        "      .option(\"header\", True) \\\n",
        "      .schema(define_schema) \\\n",
        "      .load(path1)"
      ],
      "metadata": {
        "colab": {
          "base_uri": "https://localhost:8080/"
        },
        "id": "5c-vwnsE5N79",
        "outputId": "38b2471d-c758-4bb6-be79-2a8a3f0985b6"
      },
      "execution_count": 14,
      "outputs": [
        {
          "output_type": "stream",
          "name": "stdout",
          "text": [
            "CPU times: user 3.55 ms, sys: 1.05 ms, total: 4.59 ms\n",
            "Wall time: 54.2 ms\n"
          ]
        }
      ]
    },
    {
      "cell_type": "code",
      "source": [
        "df.printSchema() #printing the data definition"
      ],
      "metadata": {
        "colab": {
          "base_uri": "https://localhost:8080/"
        },
        "id": "IbP-YMogFjYC",
        "outputId": "13bf3492-29ad-461f-895d-4831502e7f17"
      },
      "execution_count": 15,
      "outputs": [
        {
          "output_type": "stream",
          "name": "stdout",
          "text": [
            "root\n",
            " |-- date: string (nullable = true)\n",
            " |-- country: string (nullable = true)\n",
            " |-- cumulative_total_cases: string (nullable = true)\n",
            " |-- daily_new_cases: string (nullable = true)\n",
            " |-- active_cases: string (nullable = true)\n",
            " |-- cumulative_total_deaths: string (nullable = true)\n",
            " |-- daily_new_deaths: string (nullable = true)\n",
            "\n"
          ]
        }
      ]
    },
    {
      "cell_type": "code",
      "source": [
        "from pyspark.sql.types import IntegerType\n",
        "print(\"Before casting\")\n",
        "df.printSchema()\n",
        "df_cast=df.withColumn(\"daily_new_deaths\",df['daily_new_deaths'] \\\n",
        "                                  .cast('integer'))\n",
        "print(\"After casting\")\n",
        "df_cast.printSchema()\n"
      ],
      "metadata": {
        "colab": {
          "base_uri": "https://localhost:8080/"
        },
        "id": "1bntHXohFoAE",
        "outputId": "c8afc7fc-156a-4ded-ca6e-66cd0b0fa650"
      },
      "execution_count": 16,
      "outputs": [
        {
          "output_type": "stream",
          "name": "stdout",
          "text": [
            "Before casting\n",
            "root\n",
            " |-- date: string (nullable = true)\n",
            " |-- country: string (nullable = true)\n",
            " |-- cumulative_total_cases: string (nullable = true)\n",
            " |-- daily_new_cases: string (nullable = true)\n",
            " |-- active_cases: string (nullable = true)\n",
            " |-- cumulative_total_deaths: string (nullable = true)\n",
            " |-- daily_new_deaths: string (nullable = true)\n",
            "\n",
            "After casting\n",
            "root\n",
            " |-- date: string (nullable = true)\n",
            " |-- country: string (nullable = true)\n",
            " |-- cumulative_total_cases: string (nullable = true)\n",
            " |-- daily_new_cases: string (nullable = true)\n",
            " |-- active_cases: string (nullable = true)\n",
            " |-- cumulative_total_deaths: string (nullable = true)\n",
            " |-- daily_new_deaths: integer (nullable = true)\n",
            "\n"
          ]
        }
      ]
    },
    {
      "cell_type": "code",
      "source": [
        "from pyspark.sql.types import StringType, DateType, FloatType, IntegerType\n",
        "  #we casted the columns into required data types.\n",
        "df_cast = df \\\n",
        "  .withColumn(\"date\" ,\n",
        "              df[\"date\"]\n",
        "              .cast(StringType()))   \\\n",
        "  .withColumn(\"cumulative_total_cases\",\n",
        "              df[\"cumulative_total_cases\"]\n",
        "              .cast(IntegerType()))    \\\n",
        "  .withColumn(\"daily_new_cases\"  ,\n",
        "              df[\"daily_new_cases\"]\n",
        "              .cast(IntegerType())) \\\n",
        "  .withColumn(\"active_cases\" ,\n",
        "              df[\"active_cases\"]\n",
        "              .cast(IntegerType()))   \\\n",
        "  .withColumn(\"cumulative_total_deaths\",\n",
        "              df[\"cumulative_total_deaths\"]\n",
        "              .cast(IntegerType()))    \\\n",
        "  .withColumn(\"daily_new_deaths\"  ,\n",
        "              df[\"daily_new_deaths\"]\n",
        "              .cast(IntegerType())) \n",
        "\n",
        "df_cast.printSchema()"
      ],
      "metadata": {
        "colab": {
          "base_uri": "https://localhost:8080/"
        },
        "id": "cbeEy9KsHAH6",
        "outputId": "133709e6-a2fb-4fe1-cee4-2ab7f6c6a35e"
      },
      "execution_count": 17,
      "outputs": [
        {
          "output_type": "stream",
          "name": "stdout",
          "text": [
            "root\n",
            " |-- date: string (nullable = true)\n",
            " |-- country: string (nullable = true)\n",
            " |-- cumulative_total_cases: integer (nullable = true)\n",
            " |-- daily_new_cases: integer (nullable = true)\n",
            " |-- active_cases: integer (nullable = true)\n",
            " |-- cumulative_total_deaths: integer (nullable = true)\n",
            " |-- daily_new_deaths: integer (nullable = true)\n",
            "\n"
          ]
        }
      ]
    },
    {
      "cell_type": "code",
      "source": [
        "df_cast.printSchema()"
      ],
      "metadata": {
        "colab": {
          "base_uri": "https://localhost:8080/"
        },
        "id": "rpANW2gjLg20",
        "outputId": "ea1d9493-657e-4e42-e4df-ebfa03581ff4"
      },
      "execution_count": 172,
      "outputs": [
        {
          "output_type": "stream",
          "name": "stdout",
          "text": [
            "root\n",
            " |-- date: string (nullable = true)\n",
            " |-- country: string (nullable = true)\n",
            " |-- cumulative_total_cases: integer (nullable = true)\n",
            " |-- daily_new_cases: integer (nullable = true)\n",
            " |-- active_cases: integer (nullable = true)\n",
            " |-- cumulative_total_deaths: integer (nullable = true)\n",
            " |-- daily_new_deaths: integer (nullable = true)\n",
            "\n"
          ]
        }
      ]
    },
    {
      "cell_type": "code",
      "source": [
        "df_cast.show()"
      ],
      "metadata": {
        "colab": {
          "base_uri": "https://localhost:8080/"
        },
        "id": "m-fTE9NTNkFg",
        "outputId": "d0010757-add7-4866-e5ec-e8c5be80fa1f"
      },
      "execution_count": 18,
      "outputs": [
        {
          "output_type": "stream",
          "name": "stdout",
          "text": [
            "+----------+-----------+----------------------+---------------+------------+-----------------------+----------------+\n",
            "|      date|    country|cumulative_total_cases|daily_new_cases|active_cases|cumulative_total_deaths|daily_new_deaths|\n",
            "+----------+-----------+----------------------+---------------+------------+-----------------------+----------------+\n",
            "|2020-02-15|Afghanistan|                     0|           null|           0|                      0|            null|\n",
            "|2020-02-16|Afghanistan|                     0|           null|           0|                      0|            null|\n",
            "|2020-02-17|Afghanistan|                     0|           null|           0|                      0|            null|\n",
            "|2020-02-18|Afghanistan|                     0|           null|           0|                      0|            null|\n",
            "|2020-02-19|Afghanistan|                     0|           null|           0|                      0|            null|\n",
            "|2020-02-20|Afghanistan|                     0|           null|           0|                      0|            null|\n",
            "|2020-02-21|Afghanistan|                     0|           null|           0|                      0|            null|\n",
            "|2020-02-22|Afghanistan|                     0|           null|           0|                      0|            null|\n",
            "|2020-02-23|Afghanistan|                     0|           null|           0|                      0|            null|\n",
            "|2020-02-24|Afghanistan|                     1|           null|           1|                      0|            null|\n",
            "|2020-02-25|Afghanistan|                     1|              0|           1|                      0|               0|\n",
            "|2020-02-26|Afghanistan|                     1|              0|           1|                      0|               0|\n",
            "|2020-02-27|Afghanistan|                     1|              0|           1|                      0|               0|\n",
            "|2020-02-28|Afghanistan|                     1|              0|           1|                      0|               0|\n",
            "|2020-02-29|Afghanistan|                     1|              0|           1|                      0|               0|\n",
            "|2020-03-01|Afghanistan|                     1|              0|           1|                      0|               0|\n",
            "|2020-03-02|Afghanistan|                     1|              0|           1|                      0|               0|\n",
            "|2020-03-03|Afghanistan|                     1|              0|           1|                      0|               0|\n",
            "|2020-03-04|Afghanistan|                     1|              0|           1|                      0|               0|\n",
            "|2020-03-05|Afghanistan|                     1|              0|           1|                      0|               0|\n",
            "+----------+-----------+----------------------+---------------+------------+-----------------------+----------------+\n",
            "only showing top 20 rows\n",
            "\n"
          ]
        }
      ]
    },
    {
      "cell_type": "markdown",
      "source": [
        "# Question 3)\n",
        "\n",
        "I prefer creating the schema before importing the data because using inferred schema to import the data, it takes more time to execute as a result of consuming more memory. \n",
        "Also, from the execution of qn1) and qn 2) it is clear that using infer schema, it takes an execution time of 29.4ms whereas by creating schema it takes only 4.59ms"
      ],
      "metadata": {
        "id": "DIu5F49zDUtT"
      }
    },
    {
      "cell_type": "code",
      "source": [
        "# Question 4)\n",
        "\n",
        "df_cast.describe() #we have to add the show function to view the results"
      ],
      "metadata": {
        "id": "oc7UGV7OEheT",
        "colab": {
          "base_uri": "https://localhost:8080/"
        },
        "outputId": "01716c2d-998b-486c-e9b1-51a22e8a5adc"
      },
      "execution_count": 19,
      "outputs": [
        {
          "output_type": "execute_result",
          "data": {
            "text/plain": [
              "DataFrame[summary: string, date: string, country: string, cumulative_total_cases: string, daily_new_cases: string, active_cases: string, cumulative_total_deaths: string, daily_new_deaths: string]"
            ]
          },
          "metadata": {},
          "execution_count": 19
        }
      ]
    },
    {
      "cell_type": "code",
      "source": [
        "df_cast.describe().show()"
      ],
      "metadata": {
        "colab": {
          "base_uri": "https://localhost:8080/"
        },
        "id": "HrIDu0a2KD51",
        "outputId": "7483f3d0-ce3e-40d4-d4d7-fb72e13b19e4"
      },
      "execution_count": 20,
      "outputs": [
        {
          "output_type": "stream",
          "name": "stdout",
          "text": [
            "+-------+----------+-----------+----------------------+------------------+------------------+-----------------------+------------------+\n",
            "|summary|      date|    country|cumulative_total_cases|   daily_new_cases|      active_cases|cumulative_total_deaths|  daily_new_deaths|\n",
            "+-------+----------+-----------+----------------------+------------------+------------------+-----------------------+------------------+\n",
            "|  count|    184787|     184787|                184787|            174329|            166747|                 178227|            157850|\n",
            "|   mean|      null|       null|     725108.8640434663|2987.6332853397885| 62392.82504632767|     13885.998125985401|  39.8318340196389|\n",
            "| stddev|      null|       null|     3681471.361327732|17803.232663111467|395564.13753319724|      60495.21047198393|181.10276967779453|\n",
            "|    min|2020-01-22|Afghanistan|                     0|              -322|            -14321|                      0|               -39|\n",
            "|    max|2022-05-14|   Zimbabwe|              84209473|            909610|          17935434|                1026646|              5093|\n",
            "+-------+----------+-----------+----------------------+------------------+------------------+-----------------------+------------------+\n",
            "\n"
          ]
        }
      ]
    },
    {
      "cell_type": "code",
      "source": [],
      "metadata": {
        "id": "YeC4LklD8bfg"
      },
      "execution_count": null,
      "outputs": []
    },
    {
      "cell_type": "code",
      "source": [
        "# Question 5)\n",
        "\n",
        "df3_pandas=df2_pandas.groupby(['country'])['daily_new_cases'].sum().sort_values(ascending=False).head(10)\n",
        "df3_pandas  "
      ],
      "metadata": {
        "colab": {
          "base_uri": "https://localhost:8080/"
        },
        "id": "_d-A4pbJewZU",
        "outputId": "dab05b19-de44-483d-9fca-9d224b5dabb6"
      },
      "execution_count": 25,
      "outputs": [
        {
          "output_type": "execute_result",
          "data": {
            "text/plain": [
              "country\n",
              "USA            84209458.0\n",
              "India          43121596.0\n",
              "Brazil         30682093.0\n",
              "France         29160790.0\n",
              "Germany        25774493.0\n",
              "UK             22159772.0\n",
              "Russia         18255335.0\n",
              "South Korea    17756599.0\n",
              "Italy          17030708.0\n",
              "Turkey         15053165.0\n",
              "Name: daily_new_cases, dtype: float64"
            ]
          },
          "metadata": {},
          "execution_count": 25
        }
      ]
    },
    {
      "cell_type": "code",
      "source": [
        "# Question 6)\n",
        "df1 = df_cast.groupBy(\"country\", \"date\") \\\n",
        "      .sum(\"daily_new_cases\") \\\n",
        "      .groupBy(\"country\") \\\n",
        "      .pivot(\"date\") \\\n",
        "      .sum(\"sum(daily_new_cases)\") \\\n",
        "\n",
        "df1.show()"
      ],
      "metadata": {
        "colab": {
          "base_uri": "https://localhost:8080/"
        },
        "id": "aoXH4uGLOcNy",
        "outputId": "f43ce53e-e4d8-4ed5-8e31-8a27157fc0eb"
      },
      "execution_count": 21,
      "outputs": [
        {
          "output_type": "stream",
          "name": "stdout",
          "text": [
            "+--------------------+----------+----------+----------+----------+----------+----------+----------+----------+----------+----------+----------+----------+----------+----------+----------+----------+----------+----------+----------+----------+----------+----------+----------+----------+----------+----------+----------+----------+----------+----------+----------+----------+----------+----------+----------+----------+----------+----------+----------+----------+----------+----------+----------+----------+----------+----------+----------+----------+----------+----------+----------+----------+----------+----------+----------+----------+----------+----------+----------+----------+----------+----------+----------+----------+----------+----------+----------+----------+----------+----------+----------+----------+----------+----------+----------+----------+----------+----------+----------+----------+----------+----------+----------+----------+----------+----------+----------+----------+----------+----------+----------+----------+----------+----------+----------+----------+----------+----------+----------+----------+----------+----------+----------+----------+----------+----------+----------+----------+----------+----------+----------+----------+----------+----------+----------+----------+----------+----------+----------+----------+----------+----------+----------+----------+----------+----------+----------+----------+----------+----------+----------+----------+----------+----------+----------+----------+----------+----------+----------+----------+----------+----------+----------+----------+----------+----------+----------+----------+----------+----------+----------+----------+----------+----------+----------+----------+----------+----------+----------+----------+----------+----------+----------+----------+----------+----------+----------+----------+----------+----------+----------+----------+----------+----------+----------+----------+----------+----------+----------+----------+----------+----------+----------+----------+----------+----------+----------+----------+----------+----------+----------+----------+----------+----------+----------+----------+----------+----------+----------+----------+----------+----------+----------+----------+----------+----------+----------+----------+----------+----------+----------+----------+----------+----------+----------+----------+----------+----------+----------+----------+----------+----------+----------+----------+----------+----------+----------+----------+----------+----------+----------+----------+----------+----------+----------+----------+----------+----------+----------+----------+----------+----------+----------+----------+----------+----------+----------+----------+----------+----------+----------+----------+----------+----------+----------+----------+----------+----------+----------+----------+----------+----------+----------+----------+----------+----------+----------+----------+----------+----------+----------+----------+----------+----------+----------+----------+----------+----------+----------+----------+----------+----------+----------+----------+----------+----------+----------+----------+----------+----------+----------+----------+----------+----------+----------+----------+----------+----------+----------+----------+----------+----------+----------+----------+----------+----------+----------+----------+----------+----------+----------+----------+----------+----------+----------+----------+----------+----------+----------+----------+----------+----------+----------+----------+----------+----------+----------+----------+----------+----------+----------+----------+----------+----------+----------+----------+----------+----------+----------+----------+----------+----------+----------+----------+----------+----------+----------+----------+----------+----------+----------+----------+----------+----------+----------+----------+----------+----------+----------+----------+----------+----------+----------+----------+----------+----------+----------+----------+----------+----------+----------+----------+----------+----------+----------+----------+----------+----------+----------+----------+----------+----------+----------+----------+----------+----------+----------+----------+----------+----------+----------+----------+----------+----------+----------+----------+----------+----------+----------+----------+----------+----------+----------+----------+----------+----------+----------+----------+----------+----------+----------+----------+----------+----------+----------+----------+----------+----------+----------+----------+----------+----------+----------+----------+----------+----------+----------+----------+----------+----------+----------+----------+----------+----------+----------+----------+----------+----------+----------+----------+----------+----------+----------+----------+----------+----------+----------+----------+----------+----------+----------+----------+----------+----------+----------+----------+----------+----------+----------+----------+----------+----------+----------+----------+----------+----------+----------+----------+----------+----------+----------+----------+----------+----------+----------+----------+----------+----------+----------+----------+----------+----------+----------+----------+----------+----------+----------+----------+----------+----------+----------+----------+----------+----------+----------+----------+----------+----------+----------+----------+----------+----------+----------+----------+----------+----------+----------+----------+----------+----------+----------+----------+----------+----------+----------+----------+----------+----------+----------+----------+----------+----------+----------+----------+----------+----------+----------+----------+----------+----------+----------+----------+----------+----------+----------+----------+----------+----------+----------+----------+----------+----------+----------+----------+----------+----------+----------+----------+----------+----------+----------+----------+----------+----------+----------+----------+----------+----------+----------+----------+----------+----------+----------+----------+----------+----------+----------+----------+----------+----------+----------+----------+----------+----------+----------+----------+----------+----------+----------+----------+----------+----------+----------+----------+----------+----------+----------+----------+----------+----------+----------+----------+----------+----------+----------+----------+----------+----------+----------+----------+----------+----------+----------+----------+----------+----------+----------+----------+----------+----------+----------+----------+----------+----------+----------+----------+----------+----------+----------+----------+----------+----------+----------+----------+----------+----------+----------+----------+----------+----------+----------+----------+----------+----------+----------+----------+----------+----------+----------+----------+----------+----------+----------+----------+----------+----------+----------+----------+----------+----------+----------+----------+----------+----------+----------+----------+----------+----------+----------+----------+----------+----------+----------+----------+----------+----------+----------+----------+----------+----------+----------+----------+----------+----------+----------+----------+----------+----------+----------+----------+----------+----------+----------+----------+----------+----------+----------+----------+----------+----------+----------+----------+----------+----------+----------+----------+----------+----------+----------+----------+----------+----------+----------+----------+----------+----------+----------+----------+----------+----------+----------+----------+----------+----------+----------+----------+----------+----------+----------+----------+----------+----------+----------+----------+----------+----------+----------+----------+----------+----------+----------+----------+----------+----------+----------+----------+----------+----------+----------+----------+----------+----------+----------+----------+----------+----------+----------+----------+----------+----------+----------+----------+----------+----------+----------+----------+----------+----------+----------+----------+----------+----------+----------+----------+----------+----------+----------+----------+----------+----------+----------+----------+----------+----------+----------+----------+----------+----------+----------+----------+----------+----------+----------+----------+----------+----------+----------+----------+----------+----------+----------+----------+----------+----------+----------+----------+----------+----------+----------+----------+----------+----------+----------+----------+----------+----------+----------+----------+----------+----------+----------+----------+----------+----------+----------+----------+----------+----------+----------+----------+----------+----------+----------+----------+----------+----------+----------+----------+----------+----------+----------+----------+----------+----------+----------+----------+----------+----------+----------+----------+----------+----------+----------+----------+\n",
            "|             country|2020-01-22|2020-01-23|2020-01-24|2020-01-25|2020-01-26|2020-01-27|2020-01-28|2020-01-29|2020-01-30|2020-01-31|2020-02-01|2020-02-02|2020-02-03|2020-02-04|2020-02-05|2020-02-06|2020-02-07|2020-02-08|2020-02-09|2020-02-10|2020-02-11|2020-02-12|2020-02-13|2020-02-14|2020-02-15|2020-02-16|2020-02-17|2020-02-18|2020-02-19|2020-02-20|2020-02-21|2020-02-22|2020-02-23|2020-02-24|2020-02-25|2020-02-26|2020-02-27|2020-02-28|2020-02-29|2020-03-01|2020-03-02|2020-03-03|2020-03-04|2020-03-05|2020-03-06|2020-03-07|2020-03-08|2020-03-09|2020-03-10|2020-03-11|2020-03-12|2020-03-13|2020-03-14|2020-03-15|2020-03-16|2020-03-17|2020-03-18|2020-03-19|2020-03-20|2020-03-21|2020-03-22|2020-03-23|2020-03-24|2020-03-25|2020-03-26|2020-03-27|2020-03-28|2020-03-29|2020-03-30|2020-03-31|2020-04-01|2020-04-02|2020-04-03|2020-04-04|2020-04-05|2020-04-06|2020-04-07|2020-04-08|2020-04-09|2020-04-10|2020-04-11|2020-04-12|2020-04-13|2020-04-14|2020-04-15|2020-04-16|2020-04-17|2020-04-18|2020-04-19|2020-04-20|2020-04-21|2020-04-22|2020-04-23|2020-04-24|2020-04-25|2020-04-26|2020-04-27|2020-04-28|2020-04-29|2020-04-30|2020-05-01|2020-05-02|2020-05-03|2020-05-04|2020-05-05|2020-05-06|2020-05-07|2020-05-08|2020-05-09|2020-05-10|2020-05-11|2020-05-12|2020-05-13|2020-05-14|2020-05-15|2020-05-16|2020-05-17|2020-05-18|2020-05-19|2020-05-20|2020-05-21|2020-05-22|2020-05-23|2020-05-24|2020-05-25|2020-05-26|2020-05-27|2020-05-28|2020-05-29|2020-05-30|2020-05-31|2020-06-01|2020-06-02|2020-06-03|2020-06-04|2020-06-05|2020-06-06|2020-06-07|2020-06-08|2020-06-09|2020-06-10|2020-06-11|2020-06-12|2020-06-13|2020-06-14|2020-06-15|2020-06-16|2020-06-17|2020-06-18|2020-06-19|2020-06-20|2020-06-21|2020-06-22|2020-06-23|2020-06-24|2020-06-25|2020-06-26|2020-06-27|2020-06-28|2020-06-29|2020-06-30|2020-07-01|2020-07-02|2020-07-03|2020-07-04|2020-07-05|2020-07-06|2020-07-07|2020-07-08|2020-07-09|2020-07-10|2020-07-11|2020-07-12|2020-07-13|2020-07-14|2020-07-15|2020-07-16|2020-07-17|2020-07-18|2020-07-19|2020-07-20|2020-07-21|2020-07-22|2020-07-23|2020-07-24|2020-07-25|2020-07-26|2020-07-27|2020-07-28|2020-07-29|2020-07-30|2020-07-31|2020-08-01|2020-08-02|2020-08-03|2020-08-04|2020-08-05|2020-08-06|2020-08-07|2020-08-08|2020-08-09|2020-08-10|2020-08-11|2020-08-12|2020-08-13|2020-08-14|2020-08-15|2020-08-16|2020-08-17|2020-08-18|2020-08-19|2020-08-20|2020-08-21|2020-08-22|2020-08-23|2020-08-24|2020-08-25|2020-08-26|2020-08-27|2020-08-28|2020-08-29|2020-08-30|2020-08-31|2020-09-01|2020-09-02|2020-09-03|2020-09-04|2020-09-05|2020-09-06|2020-09-07|2020-09-08|2020-09-09|2020-09-10|2020-09-11|2020-09-12|2020-09-13|2020-09-14|2020-09-15|2020-09-16|2020-09-17|2020-09-18|2020-09-19|2020-09-20|2020-09-21|2020-09-22|2020-09-23|2020-09-24|2020-09-25|2020-09-26|2020-09-27|2020-09-28|2020-09-29|2020-09-30|2020-10-01|2020-10-02|2020-10-03|2020-10-04|2020-10-05|2020-10-06|2020-10-07|2020-10-08|2020-10-09|2020-10-10|2020-10-11|2020-10-12|2020-10-13|2020-10-14|2020-10-15|2020-10-16|2020-10-17|2020-10-18|2020-10-19|2020-10-20|2020-10-21|2020-10-22|2020-10-23|2020-10-24|2020-10-25|2020-10-26|2020-10-27|2020-10-28|2020-10-29|2020-10-30|2020-10-31|2020-11-01|2020-11-02|2020-11-03|2020-11-04|2020-11-05|2020-11-06|2020-11-07|2020-11-08|2020-11-09|2020-11-10|2020-11-11|2020-11-12|2020-11-13|2020-11-14|2020-11-15|2020-11-16|2020-11-17|2020-11-18|2020-11-19|2020-11-20|2020-11-21|2020-11-22|2020-11-23|2020-11-24|2020-11-25|2020-11-26|2020-11-27|2020-11-28|2020-11-29|2020-11-30|2020-12-01|2020-12-02|2020-12-03|2020-12-04|2020-12-05|2020-12-06|2020-12-07|2020-12-08|2020-12-09|2020-12-10|2020-12-11|2020-12-12|2020-12-13|2020-12-14|2020-12-15|2020-12-16|2020-12-17|2020-12-18|2020-12-19|2020-12-20|2020-12-21|2020-12-22|2020-12-23|2020-12-24|2020-12-25|2020-12-26|2020-12-27|2020-12-28|2020-12-29|2020-12-30|2020-12-31|2021-01-01|2021-01-02|2021-01-03|2021-01-04|2021-01-05|2021-01-06|2021-01-07|2021-01-08|2021-01-09|2021-01-10|2021-01-11|2021-01-12|2021-01-13|2021-01-14|2021-01-15|2021-01-16|2021-01-17|2021-01-18|2021-01-19|2021-01-20|2021-01-21|2021-01-22|2021-01-23|2021-01-24|2021-01-25|2021-01-26|2021-01-27|2021-01-28|2021-01-29|2021-01-30|2021-01-31|2021-02-01|2021-02-02|2021-02-03|2021-02-04|2021-02-05|2021-02-06|2021-02-07|2021-02-08|2021-02-09|2021-02-10|2021-02-11|2021-02-12|2021-02-13|2021-02-14|2021-02-15|2021-02-16|2021-02-17|2021-02-18|2021-02-19|2021-02-20|2021-02-21|2021-02-22|2021-02-23|2021-02-24|2021-02-25|2021-02-26|2021-02-27|2021-02-28|2021-03-01|2021-03-02|2021-03-03|2021-03-04|2021-03-05|2021-03-06|2021-03-07|2021-03-08|2021-03-09|2021-03-10|2021-03-11|2021-03-12|2021-03-13|2021-03-14|2021-03-15|2021-03-16|2021-03-17|2021-03-18|2021-03-19|2021-03-20|2021-03-21|2021-03-22|2021-03-23|2021-03-24|2021-03-25|2021-03-26|2021-03-27|2021-03-28|2021-03-29|2021-03-30|2021-03-31|2021-04-01|2021-04-02|2021-04-03|2021-04-04|2021-04-05|2021-04-06|2021-04-07|2021-04-08|2021-04-09|2021-04-10|2021-04-11|2021-04-12|2021-04-13|2021-04-14|2021-04-15|2021-04-16|2021-04-17|2021-04-18|2021-04-19|2021-04-20|2021-04-21|2021-04-22|2021-04-23|2021-04-24|2021-04-25|2021-04-26|2021-04-27|2021-04-28|2021-04-29|2021-04-30|2021-05-01|2021-05-02|2021-05-03|2021-05-04|2021-05-05|2021-05-06|2021-05-07|2021-05-08|2021-05-09|2021-05-10|2021-05-11|2021-05-12|2021-05-13|2021-05-14|2021-05-15|2021-05-16|2021-05-17|2021-05-18|2021-05-19|2021-05-20|2021-05-21|2021-05-22|2021-05-23|2021-05-24|2021-05-25|2021-05-26|2021-05-27|2021-05-28|2021-05-29|2021-05-30|2021-05-31|2021-06-01|2021-06-02|2021-06-03|2021-06-04|2021-06-05|2021-06-06|2021-06-07|2021-06-08|2021-06-09|2021-06-10|2021-06-11|2021-06-12|2021-06-13|2021-06-14|2021-06-15|2021-06-16|2021-06-17|2021-06-18|2021-06-19|2021-06-20|2021-06-21|2021-06-22|2021-06-23|2021-06-24|2021-06-25|2021-06-26|2021-06-27|2021-06-28|2021-06-29|2021-06-30|2021-07-01|2021-07-02|2021-07-03|2021-07-04|2021-07-05|2021-07-06|2021-07-07|2021-07-08|2021-07-09|2021-07-10|2021-07-11|2021-07-12|2021-07-13|2021-07-14|2021-07-15|2021-07-16|2021-07-17|2021-07-18|2021-07-19|2021-07-20|2021-07-21|2021-07-22|2021-07-23|2021-07-24|2021-07-25|2021-07-26|2021-07-27|2021-07-28|2021-07-29|2021-07-30|2021-07-31|2021-08-01|2021-08-02|2021-08-03|2021-08-04|2021-08-05|2021-08-06|2021-08-07|2021-08-08|2021-08-09|2021-08-10|2021-08-11|2021-08-12|2021-08-13|2021-08-14|2021-08-15|2021-08-16|2021-08-17|2021-08-18|2021-08-19|2021-08-20|2021-08-21|2021-08-22|2021-08-23|2021-08-24|2021-08-25|2021-08-26|2021-08-27|2021-08-28|2021-08-29|2021-08-30|2021-08-31|2021-09-01|2021-09-02|2021-09-03|2021-09-04|2021-09-05|2021-09-06|2021-09-07|2021-09-08|2021-09-09|2021-09-10|2021-09-11|2021-09-12|2021-09-13|2021-09-14|2021-09-15|2021-09-16|2021-09-17|2021-09-18|2021-09-19|2021-09-20|2021-09-21|2021-09-22|2021-09-23|2021-09-24|2021-09-25|2021-09-26|2021-09-27|2021-09-28|2021-09-29|2021-09-30|2021-10-01|2021-10-02|2021-10-03|2021-10-04|2021-10-05|2021-10-06|2021-10-07|2021-10-08|2021-10-09|2021-10-10|2021-10-11|2021-10-12|2021-10-13|2021-10-14|2021-10-15|2021-10-16|2021-10-17|2021-10-18|2021-10-19|2021-10-20|2021-10-21|2021-10-22|2021-10-23|2021-10-24|2021-10-25|2021-10-26|2021-10-27|2021-10-28|2021-10-29|2021-10-30|2021-10-31|2021-11-01|2021-11-02|2021-11-03|2021-11-04|2021-11-05|2021-11-06|2021-11-07|2021-11-08|2021-11-09|2021-11-10|2021-11-11|2021-11-12|2021-11-13|2021-11-14|2021-11-15|2021-11-16|2021-11-17|2021-11-18|2021-11-19|2021-11-20|2021-11-21|2021-11-22|2021-11-23|2021-11-24|2021-11-25|2021-11-26|2021-11-27|2021-11-28|2021-11-29|2021-11-30|2021-12-01|2021-12-02|2021-12-03|2021-12-04|2021-12-05|2021-12-06|2021-12-07|2021-12-08|2021-12-09|2021-12-10|2021-12-11|2021-12-12|2021-12-13|2021-12-14|2021-12-15|2021-12-16|2021-12-17|2021-12-18|2021-12-19|2021-12-20|2021-12-21|2021-12-22|2021-12-23|2021-12-24|2021-12-25|2021-12-26|2021-12-27|2021-12-28|2021-12-29|2021-12-30|2021-12-31|2022-01-01|2022-01-02|2022-01-03|2022-01-04|2022-01-05|2022-01-06|2022-01-07|2022-01-08|2022-01-09|2022-01-10|2022-01-11|2022-01-12|2022-01-13|2022-01-14|2022-01-15|2022-01-16|2022-01-17|2022-01-18|2022-01-19|2022-01-20|2022-01-21|2022-01-22|2022-01-23|2022-01-24|2022-01-25|2022-01-26|2022-01-27|2022-01-28|2022-01-29|2022-01-30|2022-01-31|2022-02-01|2022-02-02|2022-02-03|2022-02-04|2022-02-05|2022-02-06|2022-02-07|2022-02-08|2022-02-09|2022-02-10|2022-02-11|2022-02-12|2022-02-13|2022-02-14|2022-02-15|2022-02-16|2022-02-17|2022-02-18|2022-02-19|2022-02-20|2022-02-21|2022-02-22|2022-02-23|2022-02-24|2022-02-25|2022-02-26|2022-02-27|2022-02-28|2022-03-01|2022-03-02|2022-03-03|2022-03-04|2022-03-05|2022-03-06|2022-03-07|2022-03-08|2022-03-09|2022-03-10|2022-03-11|2022-03-12|2022-03-13|2022-03-14|2022-03-15|2022-03-16|2022-03-17|2022-03-18|2022-03-19|2022-03-20|2022-03-21|2022-03-22|2022-03-23|2022-03-24|2022-03-25|2022-03-26|2022-03-27|2022-03-28|2022-03-29|2022-03-30|2022-03-31|2022-04-01|2022-04-02|2022-04-03|2022-04-04|2022-04-05|2022-04-06|2022-04-07|2022-04-08|2022-04-09|2022-04-10|2022-04-11|2022-04-12|2022-04-13|2022-04-14|2022-04-15|2022-04-16|2022-04-17|2022-04-18|2022-04-19|2022-04-20|2022-04-21|2022-04-22|2022-04-23|2022-04-24|2022-04-25|2022-04-26|2022-04-27|2022-04-28|2022-04-29|2022-04-30|2022-05-01|2022-05-02|2022-05-03|2022-05-04|2022-05-05|2022-05-06|2022-05-07|2022-05-08|2022-05-09|2022-05-10|2022-05-11|2022-05-12|2022-05-13|2022-05-14|\n",
            "+--------------------+----------+----------+----------+----------+----------+----------+----------+----------+----------+----------+----------+----------+----------+----------+----------+----------+----------+----------+----------+----------+----------+----------+----------+----------+----------+----------+----------+----------+----------+----------+----------+----------+----------+----------+----------+----------+----------+----------+----------+----------+----------+----------+----------+----------+----------+----------+----------+----------+----------+----------+----------+----------+----------+----------+----------+----------+----------+----------+----------+----------+----------+----------+----------+----------+----------+----------+----------+----------+----------+----------+----------+----------+----------+----------+----------+----------+----------+----------+----------+----------+----------+----------+----------+----------+----------+----------+----------+----------+----------+----------+----------+----------+----------+----------+----------+----------+----------+----------+----------+----------+----------+----------+----------+----------+----------+----------+----------+----------+----------+----------+----------+----------+----------+----------+----------+----------+----------+----------+----------+----------+----------+----------+----------+----------+----------+----------+----------+----------+----------+----------+----------+----------+----------+----------+----------+----------+----------+----------+----------+----------+----------+----------+----------+----------+----------+----------+----------+----------+----------+----------+----------+----------+----------+----------+----------+----------+----------+----------+----------+----------+----------+----------+----------+----------+----------+----------+----------+----------+----------+----------+----------+----------+----------+----------+----------+----------+----------+----------+----------+----------+----------+----------+----------+----------+----------+----------+----------+----------+----------+----------+----------+----------+----------+----------+----------+----------+----------+----------+----------+----------+----------+----------+----------+----------+----------+----------+----------+----------+----------+----------+----------+----------+----------+----------+----------+----------+----------+----------+----------+----------+----------+----------+----------+----------+----------+----------+----------+----------+----------+----------+----------+----------+----------+----------+----------+----------+----------+----------+----------+----------+----------+----------+----------+----------+----------+----------+----------+----------+----------+----------+----------+----------+----------+----------+----------+----------+----------+----------+----------+----------+----------+----------+----------+----------+----------+----------+----------+----------+----------+----------+----------+----------+----------+----------+----------+----------+----------+----------+----------+----------+----------+----------+----------+----------+----------+----------+----------+----------+----------+----------+----------+----------+----------+----------+----------+----------+----------+----------+----------+----------+----------+----------+----------+----------+----------+----------+----------+----------+----------+----------+----------+----------+----------+----------+----------+----------+----------+----------+----------+----------+----------+----------+----------+----------+----------+----------+----------+----------+----------+----------+----------+----------+----------+----------+----------+----------+----------+----------+----------+----------+----------+----------+----------+----------+----------+----------+----------+----------+----------+----------+----------+----------+----------+----------+----------+----------+----------+----------+----------+----------+----------+----------+----------+----------+----------+----------+----------+----------+----------+----------+----------+----------+----------+----------+----------+----------+----------+----------+----------+----------+----------+----------+----------+----------+----------+----------+----------+----------+----------+----------+----------+----------+----------+----------+----------+----------+----------+----------+----------+----------+----------+----------+----------+----------+----------+----------+----------+----------+----------+----------+----------+----------+----------+----------+----------+----------+----------+----------+----------+----------+----------+----------+----------+----------+----------+----------+----------+----------+----------+----------+----------+----------+----------+----------+----------+----------+----------+----------+----------+----------+----------+----------+----------+----------+----------+----------+----------+----------+----------+----------+----------+----------+----------+----------+----------+----------+----------+----------+----------+----------+----------+----------+----------+----------+----------+----------+----------+----------+----------+----------+----------+----------+----------+----------+----------+----------+----------+----------+----------+----------+----------+----------+----------+----------+----------+----------+----------+----------+----------+----------+----------+----------+----------+----------+----------+----------+----------+----------+----------+----------+----------+----------+----------+----------+----------+----------+----------+----------+----------+----------+----------+----------+----------+----------+----------+----------+----------+----------+----------+----------+----------+----------+----------+----------+----------+----------+----------+----------+----------+----------+----------+----------+----------+----------+----------+----------+----------+----------+----------+----------+----------+----------+----------+----------+----------+----------+----------+----------+----------+----------+----------+----------+----------+----------+----------+----------+----------+----------+----------+----------+----------+----------+----------+----------+----------+----------+----------+----------+----------+----------+----------+----------+----------+----------+----------+----------+----------+----------+----------+----------+----------+----------+----------+----------+----------+----------+----------+----------+----------+----------+----------+----------+----------+----------+----------+----------+----------+----------+----------+----------+----------+----------+----------+----------+----------+----------+----------+----------+----------+----------+----------+----------+----------+----------+----------+----------+----------+----------+----------+----------+----------+----------+----------+----------+----------+----------+----------+----------+----------+----------+----------+----------+----------+----------+----------+----------+----------+----------+----------+----------+----------+----------+----------+----------+----------+----------+----------+----------+----------+----------+----------+----------+----------+----------+----------+----------+----------+----------+----------+----------+----------+----------+----------+----------+----------+----------+----------+----------+----------+----------+----------+----------+----------+----------+----------+----------+----------+----------+----------+----------+----------+----------+----------+----------+----------+----------+----------+----------+----------+----------+----------+----------+----------+----------+----------+----------+----------+----------+----------+----------+----------+----------+----------+----------+----------+----------+----------+----------+----------+----------+----------+----------+----------+----------+----------+----------+----------+----------+----------+----------+----------+----------+----------+----------+----------+----------+----------+----------+----------+----------+----------+----------+----------+----------+----------+----------+----------+----------+----------+----------+----------+----------+----------+----------+----------+----------+----------+----------+----------+----------+----------+----------+----------+----------+----------+----------+----------+----------+----------+----------+----------+----------+----------+----------+----------+----------+----------+----------+----------+----------+----------+----------+----------+----------+----------+----------+----------+----------+----------+----------+----------+----------+----------+----------+----------+----------+----------+----------+----------+----------+----------+----------+----------+----------+----------+----------+----------+----------+----------+----------+----------+----------+----------+----------+----------+----------+----------+----------+----------+----------+----------+----------+----------+----------+----------+----------+----------+----------+----------+----------+----------+----------+----------+----------+----------+----------+----------+----------+----------+----------+----------+----------+----------+----------+----------+----------+----------+----------+----------+----------+----------+----------+----------+----------+\n",
            "| China Hong Kong Sar|      null|      null|      null|      null|      null|      null|      null|      null|      null|      null|      null|      null|      null|      null|      null|      null|      null|      null|      null|      null|      null|      null|      null|      null|      null|         1|         3|         2|         3|         4|         0|         1|         4|         7|         4|         4|         3|         1|         2|         5|         0|         1|         2|         2|         3|         0|         7|         1|         5|         9|         1|         1|        10|         7|         6|        13|        25|        15|        48|        18|        44|        39|        30|        24|        43|        65|        41|        82|        41|        32|        51|        36|        43|        17|        29|        24|        21|        25|        13|        16|        11|         4|         5|         3|         4|         1|         4|         2|         2|         0|         4|         4|         2|         0|         2|         0|         0|         0|         0|         0|         2|         0|         0|         1|         0|         0|         4|         0|         0|         3|         0|         0|         3|         1|         1|         0|         3|         0|         0|         0|         8|         2|         0|         0|         0|         0|         1|         0|        13|         3|         2|         3|         6|         0|         5|         4|         3|         1|         1|         0|         0|         0|         1|         1|         0|         3|         0|         8|         4|         3|         1|         3|        30|        16|         2|        14|         3|         1|         2|         4|         2|        28|         9|         5|        11|        10|        17|        14|        24|        42|        38|        29|        37|        52|        48|        19|        67|        58|        64|       108|        73|        61|       112|       118|       123|       133|       128|       145|       106|       118|       149|       121|       124|       115|        78|        80|        85|        95|        89|        69|        72|        69|        33|        62|        69|        48|        46|        74|        44|        36|        26|        18|        27|        26|        25|         9|        19|        25|        20|        13|        18|        15|         9|        12|         8|         8|        12|         7|        21|        11|         6|         6|        12|        12|        13|        19|        14|         4|         9|         9|         3|        13|        23|         6|         8|         3|         7|         2|         1|         6|        10|         4|         8|        10|         7|         4|         5|        11|         8|        11|        18|         8|         6|         7|        11|         8|         0|        12|         7|        17|         4|        15|         5|         8|        11|         4|         5|         6|         8|         5|         2|         3|         7|         3|         7|         6|         9|         3|         7|         6|         3|        10|         6|         9|        18|        23|         6|         8|        14|         8|         4|         9|        12|        26|        43|        68|        73|        80|        85|        81|        92|        84|       115|        76|        82|       103|        90|       112|       101|        95|        78|       100|       104|       112|        86|        69|        95|        82|        98|        82|        96|        70|       109|        74|        85|        63|        53|        71|        57|        59|        70|        61|        53|        54|        68|        42|        35|        41|        53|        32|        25|        33|        45|        59|        31|        41|        60|        42|        29|        38|        50|        55|       107|        56|        77|        70|        61|        81|        76|        73|        64|        60|        39|        50|        28|        53|        34|        25|        19|        22|        37|        19|        27|        32|        26|        17|        21|        24|        12|        12|         9|         8|        16|         8|        13|        15|        20|        16|        12|        17|        13|        24|        33|        22|        14|        13|        14|         9|        11|         8|        16|         9|        21|         8|        22|        60|        47|        24|        30|        18|        11|        10|        13|         8|         8|        18|        12|        10|         9|        11|         6|         1|         8|         7|         6|        13|        19|         2|         7|        16|         7|         8|        10|        14|         5|        13|        13|        13|         5|         6|        17|        18|        30|        12|         8|         1|        14|         9|         3|         6|         4|         8|         7|        15|         4|         8|         2|         2|         4|         6|         2|         3|         5|         1|         4|         1|         2|         3|         1|         3|         3|         1|         1|         1|         1|         1|         1|         2|         1|         2|         1|         0|         0|         1|         0|         4|         7|         0|         1|         1|         1|         7|         7|         3|         4|         2|         0|         3|         0|         1|         2|         1|         0|         3|         1|         1|         3|         7|         2|         7|         4|         2|         6|         3|         1|         2|         4|        11|         1|         3|         1|         1|         1|         3|         1|         1|         1|         0|         1|         3|         0|         1|         0|         2|         0|         7|         5|         1|         2|         2|         3|         0|         1|         1|         2|         2|         0|         3|         3|         4|         2|         6|         2|         7|         2|         2|         4|         1|         5|         5|         2|         1|         3|         3|         3|         5|         2|         3|         5|         5|         7|         5|         3|        17|         6|         7|         3|         2|         1|         0|         0|         0|         8|         2|         6|         2|         2|         5|         4|         3|         1|         2|         1|         0|         3|         5|         3|         5|         1|         1|         2|         7|         9|         8|         3|        13|         5|         3|         4|         5|         0|         4|         7|         6|         8|         2|         8|         0|         7|         4|         3|         1|         9|         6|         3|         5|         2|         4|         6|         2|         6|         4|         4|         3|         5|         2|         5|         3|         1|         1|         2|         3|         7|         1|         7|         1|         0|         1|         5|         3|         1|         2|         1|         6|         1|         3|         4|         1|         3|         2|         3|         6|         1|         6|         4|         3|         3|         3|         6|         3|         6|         3|         4|         9|         5|         5|         0|         7|         4|         1|         5|         2|         5|         1|        10|         7|         5|         8|         7|         8|         7|         2|         5|        25|         9|         9|         6|        14|        12|        19|       627|       636|       639|       649|       648|       643|       643|       647|       643|       634|       631|       632|       624|       619|       615|       621|       617|       628|       626|       624|       634|       636|       750|       719|       734|       717|       774|       725|       729|       691|       702|       739|       726|       752|       741|       961|       952|      1224|      1235|      1771|      1596|      1935|      2125|      1958|      2682|      2230|      4896|      6727|      4240|      6674|      6678|      8145|      6823|      9286|      9410|     10622|     40101|     49074|     57515|     55646|     78402|     79876|     75572|     62598|     40708|     32838|     36163|     33679|     31402|     29281|     27747|     32430|     26908|     27765|     29272|     21650|     20082|     16597|     14149|     14068|     14152|     12240|     13074|     10405|      8841|      8037|      7685|      7596|      6981|      6646|      5823|      4475|      3709|      3138|      3254|      2777|      2644|      2492|      2535|      1921|      1407|      1433|      1272|      1043|       946|       794|       747|       613|       600|       668|       628|       574|       523|       429|       431|       347|       430|       413|       366|       363|       300|       283|       290|       313|       321|       324|       278|       266|       233|       273|       280|       294|       298|       284|\n",
            "|                Chad|      null|      null|      null|      null|      null|      null|      null|      null|      null|      null|      null|      null|      null|      null|      null|      null|      null|      null|      null|      null|      null|      null|      null|      null|      null|      null|      null|      null|      null|      null|      null|      null|      null|      null|      null|      null|      null|      null|      null|      null|      null|      null|      null|      null|      null|      null|      null|      null|      null|      null|      null|      null|      null|      null|      null|      null|      null|      null|         0|         0|         0|         1|         1|         0|         0|         0|         0|         0|         2|         2|         0|         1|         0|         1|         0|         0|         1|         0|         1|         0|         0|         7|         5|         0|         0|         4|         0|         6|         0|         0|         0|         0|         0|         7|         6|         0|         0|         6|         0|        21|         0|        44|         0|         0|        53|         0|        83|         7|        62|         0|         0|        35|        15|        27|        29|        46|        29|        16|        26|        20|        23|        23|        37|        27|        12|        13|        15|        11|        33|         0|        19|        12|        13|        17|         8|         8|         0|         1|         2|         5|         2|         2|         0|         0|         2|         0|         3|         1|         0|         4|         0|         0|         0|         2|         0|         3|         2|         0|         1|         0|         0|         0|         2|         3|         0|         1|         0|         1|         0|         0|         1|         0|         6|         0|         4|         1|         1|         1|         2|         0|         0|         0|         0|        26|         0|         0|         0|         7|         4|         0|         9|         1|         0|         0|         0|         2|         1|         3|         0|         0|         2|         1|         1|         3|         0|         2|         1|         4|         3|        11|         1|         1|         9|         1|         4|         1|         8|         3|         6|         4|         0|         4|         1|         4|         0|         1|         5|        11|         5|         1|         5|         3|         3|        30|         2|         1|         1|         2|         3|        25|        32|         2|         2|         2|         2|         9|         7|         4|         2|         1|         7|         8|         7|         3|         8|         3|         3|         6|        15|        13|        11|        12|        17|        13|         4|        13|         8|        21|        11|         4|        14|        11|         9|         5|         6|        13|        11|         3|         4|        19|         8|         5|        10|         0|        15|         1|        14|         4|        12|         9|         5|         4|         4|        10|         4|        13|        11|         2|         6|         6|         5|         8|         4|         6|         7|         9|         6|         1|         6|         6|         2|         0|        19|         6|        12|         5|         3|        11|         3|         3|         3|         1|         3|         7|         6|         6|        19|         1|        13|        16|        18|        21|        28|        23|        12|        14|        22|        20|        13|        15|        19|        10|        33|        29|        36|        28|        28|        44|        16|        60|        39|        30|        61|        91|        27|        52|        79|        41|        64|        34|        48|        40|        24|        58|        35|        53|        39|        33|        24|        21|        43|        44|        27|        25|        26|        29|         9|        19|        15|        14|        17|        23|        24|        11|        31|        29|        13|        16|        25|        23|        19|        25|        35|        27|        25|        18|        55|        19|        14|        22|        30|        23|        16|         0|        13|        34|        36|        33|        22|        50|        16|        16|        21|        17|        15|        28|        14|        21|        19|        16|        13|        23|        15|        15|        10|         7|        13|        13|        12|        15|        21|         5|         4|        13|        10|        19|        21|        16|         6|         0|         8|         3|        10|         3|         6|        11|         5|        11|        10|        11|        13|         5|        15|         2|        15|         8|         4|        12|         5|        18|         2|         7|        10|        21|         7|         7|         4|         0|         7|        12|         7|         8|        12|         3|         5|         6|         3|         4|         2|         4|         3|         0|         1|         9|         4|         1|         4|         1|         0|         0|         1|         1|         1|         1|         1|         2|         3|         1|         0|         3|         1|         0|         1|         2|         0|         0|         0|         0|         0|         1|         0|         0|         1|         1|         1|         0|         1|         1|         3|         0|         0|         0|         0|         0|         0|         0|         0|         0|         0|         0|         1|         0|         0|         1|         0|         1|         0|         0|         0|         1|         4|         5|         0|         0|         0|         1|         0|         0|         2|         2|         0|         0|         2|         1|         0|         1|         0|         0|         0|         0|         1|         2|         1|         0|         1|         2|         1|         0|         0|         0|         1|         0|         2|         0|         0|         0|         1|         0|         0|         2|         0|         0|         2|         0|         1|         1|         0|         1|         2|         0|         1|         0|         1|         0|         0|        15|         0|         1|         2|         2|         1|         2|         2|         0|         4|         1|         3|         0|         0|         1|         1|         0|         0|         1|         2|         2|         1|         1|         4|         0|         2|         0|         5|         2|         0|         7|         1|         0|         0|         2|         2|         0|         4|         0|         0|         0|         0|         0|         0|         0|         0|         0|         0|         0|         0|         0|         0|         0|         0|        38|        20|        20|        20|        20|        20|        20|        20|        20|        20|        20|        20|        20|        20|        21|        21|        21|        21|        21|        21|        21|        21|        21|        21|        21|        21|        21|        21|        21|        21|         0|         0|         0|         0|         0|         0|         0|         0|         0|         0|         0|         0|         0|         0|         0|         0|         0|         0|         0|         0|         0|         0|         0|         0|         0|         0|         0|         0|         0|         0|         0|       482|         0|         0|         0|         0|         0|         0|         0|         0|       373|         0|         0|         0|         0|         0|         0|       331|         0|         0|         0|         0|         0|         0|       186|         0|         0|         0|         0|         0|         0|        82|         0|         0|         0|         0|         0|         0|        59|         0|         0|         0|         0|         0|         0|         0|         0|         0|         0|         0|         0|         0|        32|         0|         0|         0|         0|         0|         0|         9|         0|         0|         0|         0|         0|         0|         3|         0|         0|         0|         0|         0|         0|         9|         0|         0|         0|         0|         0|         0|        19|         0|         0|         0|         0|         0|         0|        22|         0|         0|         0|         0|         0|         0|        39|         0|         0|         0|         0|         0|         0|        31|         0|         0|         0|         0|         0|         0|        18|         0|         0|         0|         0|         0|         0|        15|         0|         0|         0|         0|         0|         0|         1|         0|         0|         0|         0|         0|         0|         2|         0|         0|         0|         0|         0|\n",
            "|            Anguilla|      null|      null|      null|      null|      null|      null|      null|      null|      null|      null|      null|      null|      null|      null|      null|      null|      null|      null|      null|      null|      null|      null|      null|      null|      null|      null|      null|      null|      null|      null|      null|      null|      null|      null|      null|      null|      null|      null|      null|      null|      null|      null|      null|      null|      null|      null|      null|      null|      null|      null|      null|      null|      null|      null|      null|      null|      null|      null|      null|      null|      null|      null|      null|      null|      null|         0|         0|         0|         0|         0|         0|         1|         0|         0|         0|         0|         0|         0|         0|         0|         0|         0|         0|         0|         0|         0|         0|         0|         0|         0|         0|         0|         0|         0|         0|         0|         0|         0|         0|         0|         0|         0|         0|         0|         0|         0|         0|         0|         0|         0|         0|         0|         0|         0|         0|         0|         0|         0|         0|         0|         0|         0|         0|         0|         0|         0|         0|         0|         0|         0|         0|         0|         0|         0|         0|         0|         0|         0|         0|         0|         0|         0|         0|         0|         0|         0|         0|         0|         0|         0|         0|         0|         0|         0|         0|         0|         0|         0|         0|         0|         0|         0|         0|         0|         0|         0|         0|         0|         0|         0|         0|         0|         0|         0|         0|         0|         0|         0|         0|         0|         0|         0|         0|         0|         0|         0|         0|         0|         0|         0|         0|         0|         0|         0|         0|         0|         0|         0|         0|         0|         0|         0|         0|         0|         0|         0|         0|         0|         0|         0|         0|         0|         0|         0|         0|         0|         0|         0|         0|         0|         0|         0|         0|         0|         0|         0|         0|         0|         0|         0|         0|         0|         0|         0|         0|         0|         0|         0|         0|         0|         0|         0|         0|         0|         0|         0|         0|         0|         0|         0|         0|         0|         0|         0|         0|         0|         0|         0|         0|         0|         0|         0|         0|         0|         0|         0|         0|         0|         0|         0|         0|         0|         0|         0|         0|         0|         0|         0|         0|         0|         0|         0|         0|         0|         0|         0|         0|         0|         0|         0|         0|         0|         0|         0|         0|         0|         0|         0|         0|         0|         0|         0|         0|         0|         0|         0|         1|         0|         0|         0|         0|         0|         0|         2|         0|         0|         0|         1|         0|         0|         2|         1|         0|         0|         0|         0|         0|         0|         0|         0|         0|         0|         0|         0|         0|         0|         1|         0|         0|         1|         0|         1|         0|         0|         0|         0|         0|         2|         0|         0|         0|         0|         0|         0|         0|         0|         0|         0|         0|         0|         0|         0|         0|         0|         0|         0|         0|         0|         0|         0|         1|         0|         0|         0|         0|         0|         1|         0|         0|         0|         0|         0|         0|         0|         1|         0|         0|         0|         0|         0|         0|         0|         0|         0|         0|         0|         0|         0|         0|         0|         0|         0|         0|         0|         0|         0|         0|         0|         0|         0|         0|         0|         0|         0|         0|         0|         3|         0|         0|         0|         0|         0|         1|         0|         0|         0|         0|         0|         0|         0|         1|         2|         0|         0|         0|         0|         0|         0|         0|         0|         0|         0|         0|         0|         0|         0|         0|         0|         0|         0|         0|         4|         0|         0|         0|         0|         0|        29|         0|        14|         8|         4|         3|         4|         2|         0|         2|         0|         0|         0|         0|         0|         4|         0|         0|        10|         0|         0|         0|         0|         0|         0|         0|         0|         0|         0|         0|         0|         0|         0|         0|         0|         0|         0|         0|         0|         0|         0|         0|         0|         0|         0|         0|         0|         0|         0|         0|         0|         0|         0|         0|         0|         0|         0|         0|         0|         0|         0|         0|         0|         0|         0|         0|         0|         0|         0|         0|         0|         2|         0|         0|         0|         0|         0|         0|         0|         0|         0|         0|         0|         0|         1|         0|         0|         1|         0|         0|         0|         0|         0|         0|         0|         0|         0|         0|         0|         0|         0|         0|         0|         0|         0|         0|         0|         0|         0|         0|         0|        14|         0|         0|         0|        10|         0|         0|        17|         0|        12|         0|         0|         0|         8|        20|         0|         0|         7|        16|         0|         0|        39|         0|        23|         0|        17|         0|         9|         0|         7|         0|         0|         6|         0|         7|         0|         6|         0|         0|         9|         0|        10|         0|        14|         0|         0|        25|         0|        20|         0|        16|         0|         0|        28|         0|        46|         0|        45|         0|         0|        50|         0|        50|         0|        24|         0|         0|        30|         0|        45|         0|        50|         0|         0|         0|        66|         0|        33|         0|        52|         0|         0|         0|        40|        35|         0|        20|         0|         0|        38|         0|        32|         0|        28|         0|         0|        38|         0|         0|        93|         0|         0|         0|        66|         0|         0|         0|         0|         0|        52|         0|         0|        28|         0|         0|         0|        55|         0|         0|         0|        54|         0|         0|         0|        69|         0|         0|         0|         0|         0|        37|         0|         0|         0|        17|         0|         0|         0|        28|         0|         0|         0|         0|         0|         0|       103|         0|         0|         0|         0|         0|       165|         0|         0|         0|        98|         0|        69|         0|         0|        78|         0|         0|         0|         0|         0|        83|         0|         0|        54|         0|         0|         0|         0|        37|        23|         0|         0|         0|        52|         0|        22|         0|         0|         0|         0|        39|         0|         9|         0|         0|         0|         0|         0|        22|         0|         0|         0|         0|         0|        27|         0|         0|         0|         0|         0|         0|        19|         0|         0|         0|         0|         0|         0|        21|         0|         0|         0|         0|         0|         0|         0|        38|         0|         0|         0|         0|         0|        67|         0|         0|         0|         0|         0|         0|         0|        17|         0|         0|         0|         0|         0|        14|         0|         0|         0|         0|         0|         0|         0|         0|         0|         0|         0|         0|         0|         0|        57|         0|         0|         0|         0|         0|         0|         0|         0|         0|         0|         0|         0|         0|       196|         0|         0|         0|         0|\n",
            "|            Paraguay|      null|      null|      null|      null|      null|      null|      null|      null|      null|      null|      null|      null|      null|      null|      null|      null|      null|      null|      null|      null|      null|      null|      null|      null|      null|      null|      null|      null|      null|      null|      null|      null|      null|      null|      null|      null|      null|      null|      null|      null|      null|      null|      null|      null|      null|      null|         0|         0|         1|         3|         1|         0|         1|         1|         0|         1|         2|         2|         5|         4|         0|         0|         5|        10|         4|        11|         4|         3|         5|         1|         4|         8|        15|         4|         8|         9|         2|         4|         5|         5|         4|         1|        13|        12|         2|        13|        25|         3|         4|         2|         0|         5|         0|         7|         3|         5|         0|         2|         9|        10|        17|        67|        37|        26|        35|         9|        22|       101|       126|        24|        11|        13|         3|        14|         5|        19|         8|         2|        41|         4|         3|         2|        12|        12|         3|        12|         7|        16|        17|        47|        22|         9|        18|        57|        16|         1|         3|        45|        10|        42|        15|        28|        24|         7|        28|         7|         7|         5|        22|         6|        26|        17|        13|        30|       106|        41|       142|       231|       185|        64|        30|        39|        43|        46|        36|        42|        29|        46|        52|        84|        98|        84|       128|        32|        94|       124|       144|       115|       172|        92|        27|        69|       183|       113|       111|       104|       116|       104|       126|       192|       341|       131|       147|       159|        80|       128|       208|       315|       133|       197|       202|       327|       285|       499|       371|       633|       359|       410|       344|       471|       527|       684|       719|       438|       259|       369|       626|       644|       418|       583|       601|       631|       557|       676|       800|       821|       695|      1218|       615|       868|       862|       812|       605|       882|       812|       493|       670|       811|      1122|       694|      1015|       889|       505|       740|       568|       743|       834|       822|       696|       762|       748|       669|       657|      1042|       886|       768|       730|       533|       933|       788|       882|       960|       703|       697|       669|       854|       648|       751|       887|       533|       709|       728|       621|       746|       707|       733|       784|       551|       515|       448|       733|       760|       546|       589|       546|       425|       472|       630|       520|       703|       460|       648|       359|       549|       609|       547|       739|       673|       509|       525|       758|       782|       857|       563|       799|       619|       596|       819|       988|       639|       920|       695|       775|       518|      1056|      1004|       996|      1023|       714|       707|       803|       698|       725|       812|      1156|       800|       669|       641|      1131|       857|       819|      1269|       862|       632|       823|       933|       828|       959|       559|       274|       260|       953|       762|       822|       975|       417|       369|       355|       764|       960|       899|      1163|      1139|      1033|       707|       802|      1056|      1003|      1049|      1150|       860|       512|       428|       771|      1089|      1072|       853|       711|       571|       714|      1029|       769|       754|       970|       662|       679|       554|       701|       747|       794|       868|       713|       515|       828|       875|       979|       979|       823|       846|       599|      1054|      1122|      1038|      1370|      1063|      1048|       988|       941|      1133|      1115|      1286|      1415|       935|       938|       975|      1083|      1342|      1440|      1502|      1159|      1075|      1818|      2126|      2029|      1815|      1767|      1480|       943|      1401|      1935|      2542|      2607|      2007|      2101|      1524|      1991|      2024|      2690|      1878|      2005|      1894|      2059|      1771|      2267|      1977|      1612|      1609|      1508|      1815|      1457|      2074|      2381|      2481|      2549|      1604|      1548|      2251|      2601|      2021|      2368|      2279|      1559|      1802|      2279|      2605|      2662|      2678|      2754|      2163|      1787|      2272|      2462|      2357|      2697|      2213|      1947|      1521|      1911|      2215|      2308|      2568|      2695|      2074|      1484|      1896|      2378|      2830|      2570|      2182|      2109|      1782|      2021|      2706|      2783|      3033|      3168|      3230|      2516|      2722|      3225|      3309|      3138|      2829|      2430|      2076|      2698|      2862|      3198|      3264|      3483|      2840|      2145|      2833|      3137|      3102|      2760|      2700|      1964|      1787|      2047|      2669|      2614|      2484|      2150|      1684|      1146|      1502|      1747|      2149|      1843|      1864|      1524|      1488|      1435|      1826|      1694|      1717|      1321|      1225|      1202|      1142|      1484|      1435|      1464|      1259|      1103|      1096|      1046|      1134|      1160|      1152|      1172|      1050|       565|       573|       702|       880|       719|       645|       411|       423|       561|       592|       664|       537|       390|       303|       310|       333|       336|       427|       400|       348|       323|       255|       269|       291|       384|       227|       193|       105|       106|       147|       181|       199|       127|       123|       140|       113|       113|       133|       145|        91|        22|        62|       113|        51|        73|        86|       102|        83|        45|        40|        38|        55|        85|        71|        74|        50|        34|        49|        51|        70|        63|        56|        42|        28|        15|        30|        25|        31|        28|        25|        24|        27|        44|        49|        19|        38|        33|        27|        28|        31|        37|        33|        41|        27|        21|        23|        34|        41|        32|        29|        27|       196|        32|        37|        41|        39|        41|        30|        30|        38|        68|        86|        57|        37|        39|        42|        45|        46|        52|        41|        50|        38|        48|        52|        53|        54|        54|        50|        47|        45|        46|        56|        50|        37|        52|        44|        41|        48|        58|        64|        80|        72|        53|        48|        45|        57|        63|        78|        61|        55|        57|        55|        52|        43|        58|        70|        57|        48|        73|        98|        78|        92|       430|        56|        48|        73|        90|       102|       133|       102|       103|       105|       226|       260|       277|      1021|       903|       321|       587|       590|       937|       974|      1239|      1664|      1349|      1206|      3079|      2535|      4017|      3366|      4145|      3302|      3853|      3191|      5415|      6760|      6770|      5353|      3970|      4329|      5411|      5864|      5930|      5724|      5462|      5101|      6340|      6853|      5656|      5112|      3740|      3646|      3189|      2942|      2260|      2686|      3018|      2904|      1893|      1877|      1890|      1880|      2219|      2144|      1726|      1534|       802|       811|       929|       705|       928|       925|       735|       739|       769|       446|       417|       389|       409|       360|       277|       260|       320|       410|       411|       363|       272|       113|       115|       171|       229|       212|       135|       213|       125|       131|       169|       160|       110|       134|        90|        74|        70|        44|         0|         0|         0|       403|         0|         0|         0|         0|         0|         0|        93|         0|         0|         0|         0|         0|         0|         0|         0|         0|         0|       236|         0|         0|       352|         0|         0|         0|         0|         0|         0|       421|         0|         0|         0|         0|         0|         0|       263|         0|         0|         0|         0|         0|         0|         0|         0|\n",
            "|              Russia|      null|      null|      null|      null|      null|      null|      null|      null|      null|      null|      null|      null|      null|      null|      null|      null|      null|      null|      null|      null|      null|      null|      null|      null|      null|         0|         0|         0|         0|         0|         0|         0|         0|         0|         0|         0|         0|         0|         0|         0|         1|         0|         0|         4|         6|         1|         3|         3|         0|         8|         6|        11|        14|         4|        30|        21|        33|        52|        54|        53|        61|        71|        57|       163|       182|       196|       228|       270|       302|       501|       440|       771|       601|       582|       658|       954|      1154|      1175|      1459|      1786|      1667|      2186|      2558|      2774|      3388|      3448|      4070|      4785|      6060|      4268|      5642|      5236|      4774|      5849|      5966|      6361|      6198|      6411|      5841|      7099|      7933|      9623|     10633|     10581|     10102|     10559|     11231|     10699|     10817|     11012|     11656|     10899|     10028|      9974|     10598|      9200|      9709|      8926|      9263|      8764|      8849|      8894|      9434|      8599|      8946|      8915|      8338|      8371|      8572|      8952|      9268|      9035|      8863|      8536|      8831|      8726|      8855|      8984|      8985|      8595|      8404|      8779|      8987|      8706|      8835|      8246|      8248|      7843|      7790|      7972|      7889|      7728|      7600|      7425|      7176|      7113|      6800|      6852|      6791|      6719|      6693|      6556|      6760|      6718|      6632|      6736|      6611|      6368|      6562|      6509|      6635|      6611|      6615|      6537|      6248|      6422|      6428|      6406|      6234|      6109|      5940|      5842|      5862|      5848|      5811|      5871|      5765|      5635|      5395|      5475|      5509|      5482|      5462|      5427|      5394|      5159|      5204|      5267|      5241|      5212|      5189|      5118|      4945|      5102|      5057|      5065|      5061|      4969|      4892|      4748|      4828|      4785|      4870|      4921|      4852|      4744|      4696|      4676|      4711|      4829|      4941|      4980|      4993|      4729|      4952|      4995|      5110|      5205|      5195|      5185|      5099|      5218|      5363|      5504|      5488|      5449|      5509|      5529|      5670|      5762|      5905|      6065|      6148|      6196|      6215|      6431|      6595|      7212|      7523|      7867|      8135|      8232|      8481|      8945|      9412|      9859|     10499|     10888|     11615|     11115|     11493|     12126|     12846|     13634|     13592|     13868|     14231|     13754|     15150|     14922|     15099|     15982|     16319|     15700|     15971|     17340|     16521|     16710|     17347|     16550|     16202|     17717|     18283|     18140|     18665|     18257|     18648|     19768|     19404|     20582|     20396|     20498|     21798|     20977|     19851|     21608|     21983|     22702|     22572|     22778|     22410|     20985|     23610|     24318|     24822|     24581|     25173|     24326|     23675|     25487|     27543|     27100|     26683|     26338|     26402|     25345|     28145|     27403|     28782|     29039|     28142|     26097|     26190|     27927|     28585|     28137|     28080|     27328|     26689|     26509|     28214|     28552|     28209|     28948|     29350|     28776|     27250|     29935|     29018|     29258|     28284|     27787|     27002|     26513|     27747|     27039|     26301|     24150|     23351|     24246|     24217|     23541|     23652|     23309|     22851|     23315|     22934|     22850|     24763|     24715|     24092|     23586|     22857|     21734|     21152|     21887|     21513|     20921|     21127|     19290|     18241|     17741|     19138|     19238|     19032|     18359|     17648|     16643|     16474|     16714|     16688|     16627|     16048|     15916|     15019|     14494|     15038|     15089|     14861|     14185|     14207|     13233|     12828|     13447|     13433|     12953|     12742|     12604|     11823|     11749|     11198|     11086|     11534|     11359|     11571|     10565|     10535|     11385|     11024|     11022|     10595|     10253|      9445|      9079|      9270|      9794|      9908|     10083|      9437|      9393|      8998|      9803|      9699|      9632|      9299|      9284|      8457|      8861|      9221|      9167|      8885|      9088|      8711|      8277|      8275|      9169|      8792|      9021|      8817|      8646|      8328|      8294|      8672|      9150|      8704|      8702|      8320|      8173|      8326|      8944|      8995|      9321|      8632|      8589|      8164|      8271|      8996|      8840|      8828|      8780|      8803|      8053|      7848|      9284|      8731|      9270|      8697|      8489|      7770|      7975|      7639|      8386|      8329|      8419|      8465|      8115|      8217|      8380|      9462|      8790|      8554|      9328|      8183|      7920|      9232|      8937|      8709|      8951|      8406|      7884|      8373|      9039|      9252|      9289|      9694|      8475|      9500|      8832|      8933|      8947|      9145|      9163|      9429|      9977|     10407|     11699|     12505|     13510|     14723|     13721|     14185|     13397|     14057|     17262|     17906|     17611|     17378|     16715|     17594|     20182|     20393|     21665|     20538|     21650|     20616|     21042|     23543|     23218|     24439|     25142|     24353|     23378|     23962|     24818|     25766|     25082|     25033|     25140|     24702|     23827|     25293|     25704|     25116|     25018|     24633|     23770|     23704|     24471|     23811|     23947|     24072|     23239|     23032|     22420|     23270|     23564|     23807|     22804|     23508|     22010|     22589|     23120|     22660|     22320|     22866|     22160|     21378|     21571|     21932|     22277|     22144|     21624|     20765|     20958|     20914|     21058|     20992|     21000|     20564|     19454|     18833|     19536|     19630|     19509|     19492|     19286|     18325|     17813|     18368|     18985|     18856|     18780|     18645|     17856|     17425|     18024|     18380|     18341|     18891|     18554|     18178|     17837|     18841|     19594|     19905|     20329|     20174|     19744|     19179|     19706|     21438|     21379|     22041|     22498|     22236|     21559|     22430|     23888|     24522|     25219|     25769|     25781|     25110|     25133|     27550|     27246|     29362|     28647|     29409|     28190|     28717|     31299|     32196|     33208|     34303|     34325|     33740|     34073|     36339|     37141|     37678|     35660|     37930|     36446|     36582|     40096|     39849|     40251|     40993|     40402|     39008|     40443|     40217|     40735|     41335|     39165|     39400|     39160|     38058|     40759|     40123|     39256|     38823|     38420|     36818|     36626|     37374|     37156|     37120|     36970|     35681|     33996|     33558|     33796|     34690|     33946|     33548|     33860|     32648|     32837|     33389|     32930|     32974|     32602|     32136|     31096|     30752|     30209|     30873|     30288|     29929|     29558|     28343|     28363|     28486|     27743|     27434|     27967|     27022|     25907|     25264|     25667|     24703|     24946|     23721|     23210|     21922|     21119|     21073|     20638|     19751|     18233|     16343|     15903|     15772|     15316|     16735|     16568|     16246|     15830|     17525|     17946|     21155|     23820|     27179|     29230|     30726|     31252|     33899|     38850|     49513|     57212|     63205|     65109|     67809|     74692|     88816|     98040|    113122|    121228|    124070|    125836|    141883|    155768|    168201|    177282|    180071|    171905|    165643|    183103|    197076|    203949|    203766|    197949|    180456|    166631|    179284|    180622|    180071|    179147|    170699|    152337|    135172|    137642|    132998|    123460|    122995|    116093|    106920|     97333|     97455|     93026|     89174|     86769|     79863|     73162|     66576|     58675|     51231|     50743|     48154|     44989|     41055|     36678|     36519|     34819|     34442|     32958|     31035|     28709|     26394|     26826|     25387|     25382|     24072|     23280|     21101|     19660|     20145|     19277|     19164|     17949|     16828|     15291|     13947|     14661|     14355|     14311|     13573|     13056|     11855|     10910|     11754|     11348|     11432|     11095|     10263|      9434|      8640|      9195|      8875|      9001|      8829|      8446|      7651|      7107|      7705|      7681|      7710|      7363|      7047|      6207|      5466|      5093|      5011|      5541|      5500|      5447|      5030|      4531|      4102|      4065|      4896|      5047|\n",
            "|               Yemen|      null|      null|      null|      null|      null|      null|      null|      null|      null|      null|      null|      null|      null|      null|      null|      null|      null|      null|      null|      null|      null|      null|      null|      null|      null|      null|      null|      null|      null|      null|      null|      null|      null|      null|      null|      null|      null|      null|      null|      null|      null|      null|      null|      null|      null|      null|      null|      null|      null|      null|      null|      null|      null|      null|      null|      null|      null|      null|      null|      null|      null|      null|      null|      null|      null|      null|      null|      null|      null|      null|      null|      null|      null|      null|      null|      null|      null|      null|      null|      null|         0|         0|         0|         0|         0|         0|         0|         0|         0|         0|         0|         0|         0|         0|         0|         0|         0|         0|         5|         0|         1|         3|         0|         2|        10|         3|         0|         9|         0|        18|         5|         9|         5|        16|        22|        17|         6|         2|        38|        18|        13|        12|         3|        10|        11|        17|         7|        23|         5|        28|        13|        32|        46|        21|        35|        17|        13|         2|        12|        29|        37|        32|        41|        75|        24|       119|        41|        18|         7|        10|         3|        20|        27|        26|        24|        62|        13|        15|        16|        10|        31|        33|        32|        20|         8|        18|        20|        13|        22|        39|        25|         9|        78|        34|        19|        10|        27|        25|         5|        26|        13|        10|        11|        15|        21|         0|         7|        10|        12|         8|        16|         2|         2|         4|         0|        27|         3|         5|        29|         1|         7|        28|         0|        10|         6|        11|         0|        11|        13|         7|         3|         7|         7|         1|         4|         5|         8|         6|         3|        10|         3|         7|         5|         4|        15|         3|         4|         0|         4|         2|         5|         5|         4|         4|         2|         2|         2|         3|         3|         3|         2|         2|         0|         2|         0|         1|         0|         0|         1|         0|         1|         0|         3|         5|         1|         1|         0|         0|         6|         2|         1|         1|         0|         1|         0|         1|         0|         0|         2|         0|         1|         0|         1|         0|         0|         3|         0|         0|         0|         0|         1|         1|         0|         1|         0|         0|         0|         0|         0|         4|         1|         0|         0|         0|         0|         0|         0|         0|         0|         0|         0|         0|         0|         1|         0|         0|         3|         1|         0|         0|         1|         0|         3|         0|         0|         0|         0|         0|         0|         1|         0|         0|         1|         2|         1|         1|         0|         1|         1|         0|         2|         0|         0|         0|         0|         0|         0|         5|         0|         0|         2|         2|         0|         1|         2|         2|         0|         0|         0|         0|         1|         2|         0|         0|         0|         1|         2|         2|         1|         1|         1|         0|         1|         2|         0|         0|         3|         0|         0|         0|         1|         1|         0|         0|         0|         1|         1|         0|         0|         0|         2|         3|         0|         4|         0|         2|         1|         2|         0|         9|         0|         3|         3|         3|         3|         0|         8|        11|        11|        35|        35|        12|         2|        17|        26|        33|        22|        12|        37|        34|        30|        74|        41|        41|        41|        63|        43|        66|        74|        62|        70|        91|        93|        62|       143|       101|        99|        93|       116|        86|        71|        65|        84|       135|       113|       178|        91|        79|       104|        85|        96|        74|        88|       103|        44|        83|        91|        62|        77|        77|        59|        56|        43|        47|        61|        43|        61|        37|        50|        33|        47|        38|        44|        32|        24|         8|        17|        23|        28|        25|        12|        21|        17|        21|         3|         7|         6|         9|        17|        16|         5|        26|        19|         7|        21|        20|        18|         9|         4|         8|        19|         8|        28|         8|         6|         5|         9|         8|         8|         6|         7|         7|        26|        11|         9|         4|        21|         1|         5|         1|         1|         3|         2|         6|         2|         8|         4|         3|         6|         7|         0|         1|         2|         1|         9|         2|         3|         1|         2|         3|         0|         2|         3|         2|         4|         1|         7|         4|         9|         3|         3|         5|         5|         4|         6|         5|         5|         4|         2|         5|         4|         0|        10|         5|        16|        17|         3|         9|        11|         5|        10|         8|        28|         0|        35|        23|        11|        16|        21|        24|        18|        21|        16|        40|        26|        36|        48|        34|        23|        31|        41|        46|        52|        36|        41|        34|        46|        41|        32|        52|        68|        39|        53|        35|        40|        50|        38|        40|        53|        57|        39|        51|        26|        31|        37|        38|        38|        52|        35|        38|        41|        32|        31|        44|        55|        29|        24|        29|        45|        29|        33|        44|        20|        38|        29|        35|        12|        25|        34|        10|        28|        29|        29|        18|        15|        31|        20|        40|        22|        16|        12|        17|        17|        18|        18|        24|        23|         6|        12|         8|         7|         4|        22|        12|        16|        12|        13|         8|        11|         5|         5|         6|         0|        19|         0|        11|         3|         4|         1|         0|         6|         6|         5|         5|         2|         2|         6|         8|         9|         2|         5|         9|         1|         4|         9|         9|         4|         0|         9|         7|         6|         3|         3|         6|         5|         6|         5|         4|         1|         1|         0|         2|         4|         2|         4|         3|         5|         2|         1|         0|         1|         3|         8|         5|         3|         6|         7|        20|        20|         0|         0|        13|        45|        18|        26|        35|        58|        43|        60|        81|         0|         0|         0|         0|       245|        70|        56|        37|        21|        23|        44|        54|        34|        44|        46|        20|        17|        12|        25|        25|        36|        19|         5|         7|         8|        20|         8|        11|        13|         0|         5|         5|         5|         5|         3|         5|         1|         9|         2|         0|         0|         1|         2|         1|         2|         4|         0|         0|         2|         0|         1|         0|         9|         0|         4|         0|         0|         2|         2|         0|         1|         0|         1|         0|         0|         0|         0|         0|         2|         1|         0|         0|         0|         2|         4|         0|         0|         0|         1|         0|         1|         0|         1|         0|         2|         0|         0|         1|         0|         0|         0|         0|         0|         0|         0|         0|         0|         0|         0|         0|         0|         0|         1|         0|         0|         0|         0|         0|         0|         0|         0|         0|         0|         0|\n",
            "|     China Macao Sar|      null|      null|      null|      null|      null|      null|      null|      null|      null|      null|      null|      null|      null|      null|      null|      null|      null|      null|      null|      null|      null|      null|      null|      null|      null|         0|         0|         0|         0|         0|         0|         0|         0|         0|         0|         0|         0|         0|         0|         0|         0|         0|         0|         0|         0|         0|         0|         0|         0|         0|         0|         0|         0|         1|         1|         1|         4|         0|         0|         2|         3|         3|         4|         2|         2|         1|         0|         3|         1|         3|         0|         0|         1|         2|         0|         0|         0|         1|         0|         0|         0|         0|         0|         0|         0|         0|         0|         0|         0|         0|         0|         0|         0|         0|         0|         0|         0|         0|         0|         0|         0|         0|         0|         0|         0|         0|         0|         0|         0|         0|         0|         0|         0|         0|         0|         0|         0|         0|         0|         0|         0|         0|         0|         0|         0|         0|         0|         0|         0|         0|         0|         0|         0|         0|         0|         0|         0|         0|         0|         0|         0|         0|         0|         0|         0|         0|         0|         0|         0|         0|         0|         0|         0|         0|         0|         0|         1|         0|         0|         0|         0|         0|         0|         0|         0|         0|         0|         0|         0|         0|         0|         0|         0|         0|         0|         0|         0|         0|         0|         0|         0|         0|         0|         0|         0|         0|         0|         0|         0|         0|         0|         0|         0|         0|         0|         0|         0|         0|         0|         0|         0|         0|         0|         0|         0|         0|         0|         0|         0|         0|         0|         0|         0|         0|         0|         0|         0|         0|         0|         0|         0|         0|         0|         0|         0|         0|         0|         0|         0|         0|         0|         0|         0|         0|         0|         0|         0|         0|         0|         0|         0|         0|         0|         0|         0|         0|         0|         0|         0|         0|         0|         0|         0|         0|         0|         0|         0|         0|         0|         0|         0|         0|         0|         0|         0|         0|         0|         0|         0|         0|         0|         0|         0|         0|         0|         0|         0|         0|         0|         0|         0|         0|         0|         0|         0|         0|         0|         0|         0|         0|         0|         0|         0|         0|         0|         0|         0|         0|         0|         0|         0|         0|         0|         0|         0|         0|         0|         0|         0|         0|         0|         0|         0|         0|         0|         0|         0|         0|         0|         0|         0|         0|         0|         0|         0|         0|         0|         0|         0|         0|         0|         0|         0|         0|         0|         0|         0|         0|         0|         0|         0|         0|         0|         0|         0|         0|         0|         0|         0|         0|         0|         0|         0|         0|         0|         0|         0|         0|         0|         0|         0|         0|         0|         0|         0|         0|         1|         0|         0|         0|         0|         0|         0|         0|         0|         0|         0|         0|         0|         0|         1|         0|         0|         0|         0|         0|         0|         0|         0|         0|         0|         0|         0|         0|         0|         0|         0|         0|         0|         0|         0|         0|         0|         0|         0|         0|         0|         0|         0|         0|         0|         0|         0|         0|         0|         0|         0|         0|         0|         0|         0|         0|         0|         0|         0|         0|         0|         0|         0|         0|         0|         0|         0|         0|         0|         0|         0|         0|         0|         0|         0|         0|         0|         1|         0|         0|         0|         0|         0|         0|         0|         0|         0|         0|         0|         0|         0|         0|         0|         0|         0|         0|         0|         0|         0|         0|         0|         0|         0|         0|         0|         0|         0|         0|         0|         0|         0|         0|         0|         0|         0|         1|         0|         0|         0|         0|         0|         0|         0|         1|         0|         0|         0|         0|         0|         0|         0|         0|         0|         0|         0|         0|         0|         0|         0|         1|         0|         0|         0|         0|         0|         0|         1|         0|         0|         0|         0|         0|         0|         0|         0|         0|         0|         1|         0|         0|         0|         0|         0|         1|         0|         0|         0|         0|         0|         0|         0|         0|         0|         0|         0|         0|         0|         0|         0|         0|         1|         0|         0|         2|         1|         0|         0|         0|         0|         0|         0|         0|         0|         0|         4|         0|         0|         0|         0|         0|         0|         0|         0|         0|         0|         0|         0|         0|         0|         0|         0|         0|         0|         0|         0|         0|         0|         0|         0|         0|         0|         0|         0|         0|         0|         0|         0|         0|         0|         0|         0|         0|         0|         0|         0|         0|         0|         0|         0|         0|         0|         0|         0|         0|         0|         0|         3|         0|         1|         4|         0|         0|         0|         0|         0|         1|         3|         0|         0|         0|         2|         0|         0|         0|         0|         0|         0|         0|         0|         0|         0|         0|         0|         0|         0|         0|         0|         0|         0|         0|         0|         0|         0|         0|         0|         0|         0|         0|         0|         0|         0|         0|         0|         0|         0|         0|         0|         0|         0|         0|         0|         0|         0|         0|         0|         0|         0|         0|         0|         0|         0|         0|         0|         0|         0|         0|         0|         0|         0|         0|         0|         0|         0|         0|         0|         0|         0|         0|         0|         0|         0|         0|         0|         0|         0|         0|         0|         0|         0|         1|         0|         0|         1|         0|         0|         0|         0|         0|         0|         0|         0|         0|         0|         0|         0|         0|         0|         0|         0|         0|         0|         0|         0|         0|         0|         0|         0|         0|         0|         0|         0|         0|         0|         0|         0|         0|         0|         0|         0|         0|         0|         0|         0|         0|         0|         0|         0|         0|         0|         0|         0|         0|         0|         0|         0|         0|         1|         0|         0|         0|         0|         1|         0|         0|         0|         1|         0|         0|         0|         0|         0|         0|         0|         0|         0|         0|         0|         0|         0|         0|         0|         0|         0|         0|         0|         0|         0|         0|         0|         0|         0|         0|         0|         0|         0|         0|         0|         0|         0|         0|         0|         0|         0|         0|         0|         0|         0|         0|         0|         0|         0|         0|         0|         0|         0|         0|         0|         0|         0|         0|         0|         0|         0|         0|         0|         0|         0|         0|         0|         0|         0|         0|         0|         0|         0|         0|         0|         0|\n",
            "|             Senegal|      null|      null|      null|      null|      null|      null|      null|      null|      null|      null|      null|      null|      null|      null|      null|      null|      null|      null|      null|      null|      null|      null|      null|      null|      null|      null|      null|      null|      null|      null|      null|      null|      null|      null|      null|      null|      null|      null|      null|      null|      null|         1|         2|         0|         0|         0|         0|         0|         0|         0|         6|        11|         3|         0|         3|         0|         9|         0|        11|         9|        11|        12|         7|        13|         6|        14|        11|        12|        20|        13|        15|         5|        12|        12|         3|         4|        11|         7|         6|        15|        13|         2|        11|         8|        15|        21|         7|         8|        17|        10|        35|        30|        37|        66|        69|        57|        65|        87|        59|        51|        91|        91|        67|        89|        58|       104|        59|        59|        83|        75|       177|       109|       110|        84|       121|       119|        51|        64|        73|        97|        98|        97|        67|        71|        83|        31|        92|        95|        81|       106|       110|        94|        97|        96|        89|       134|        94|        79|        99|        89|       124|       119|        92|       145|        94|        83|        74|       122|       106|       164|       144|       105|        82|        64|        95|       104|       121|       105|       127|       112|        95|       132|       129|       110|       108|       128|        78|        69|       110|       127|        98|       132|       121|        63|        45|       126|       112|        63|       125|       141|       138|        37|       136|       145|       156|       130|       129|        83|        41|       156|       145|       126|        52|        60|        42|        46|       106|       177|       172|       116|       172|       137|        68|       207|       153|       132|       160|       130|        75|        68|       141|       113|       130|       161|        99|        64|        43|       130|       108|        90|        72|       100|        55|        44|        88|        83|        55|        67|        39|        27|        30|        58|        48|        43|        44|        43|        26|       223|        39|        50|        27|        43|        26|        24|        21|        36|        21|        23|        30|        40|        10|        26|        37|        37|        32|        17|        26|        28|        19|        33|        16|        23|        31|        24|        24|        15|        24|        17|        20|        24|        26|        14|        27|        25|        24|        17|        18|         8|        14|         6|        11|        11|        12|        11|        14|         7|         3|        10|        18|         8|        17|        15|         3|         9|        15|         9|        11|        24|        14|         8|         5|        17|        12|        13|        17|        17|        15|        11|        19|        33|        21|        46|        48|        14|        18|        66|        44|        80|       100|        80|        76|        43|        69|       101|       191|        40|        78|        71|        70|       120|       115|       108|       111|        88|       121|        66|        98|       157|       169|       154|        86|       119|        78|       139|       195|       224|       147|       186|       106|       161|       192|       220|       296|       328|       245|       288|       152|       198|       295|       218|       342|       290|       196|       168|       250|       267|       300|       250|       268|       265|       135|       280|       304|       184|       318|       310|       404|       153|       285|       368|       373|       383|       271|       297|       188|       276|       393|       462|       265|       366|       268|       201|       295|       328|       279|       252|       297|       172|       143|       211|       288|       290|       224|       265|       212|       100|       205|       210|       221|       164|       225|       102|        80|       156|       176|       198|       157|       166|       104|        66|       192|       174|       113|       152|       140|        89|        34|       178|       121|        99|       102|        64|        46|        52|        87|        77|       107|        64|        71|        69|        34|        37|        73|        70|        57|        67|        34|        30|        65|        46|        58|        67|        51|        39|        15|        74|        65|        47|        60|        53|        31|        27|        56|        46|        49|        44|        45|        31|        28|        52|        34|        43|        44|        27|        22|        15|        33|        28|        16|        22|        22|        22|        24|        29|        36|        62|        39|        28|        52|        16|        23|        67|        48|        35|        56|        29|        17|        61|        45|        42|        50|        49|        33|        12|        71|        54|        50|        52|        46|        25|        27|        68|        88|        53|        74|        71|        33|        35|       118|        87|        70|       104|        53|        25|        28|       176|       130|       164|       200|       141|       191|       121|       356|       354|       476|       380|       529|       334|       354|       733|       674|       738|      1366|      1722|       575|       902|       724|       523|      1041|       712|       690|       618|       642|       763|       884|      1075|      1045|       712|       518|       504|       498|       811|       917|       648|       681|       433|       336|       572|       656|       549|       288|       266|       175|       148|       264|       175|       187|       144|       155|        88|        71|       129|       100|       218|        85|        91|        44|        52|       115|        57|        70|        57|        84|        39|        30|        53|        43|        38|        49|        38|        22|        13|        26|        23|        26|        34|        23|         9|        14|        24|        14|        13|         9|        14|         5|        10|         7|        11|         7|        11|         7|         2|         4|        10|         9|         6|         4|         2|         4|         1|         6|         5|         6|         6|         1|         7|         2|         0|         1|         4|        11|         2|         3|         1|         5|         2|         5|         8|         0|         3|         2|         4|         5|         2|         2|         0|         4|         3|         3|         2|         1|         3|         3|         4|         1|         1|         2|         3|         0|         3|         1|         1|         3|         2|         0|         6|         4|         2|         0|         3|         6|        11|         6|        11|         7|         5|         7|        11|        11|        11|        10|         6|         2|        11|        10|        14|        12|        20|        22|        13|        27|        33|        46|        51|        59|        57|        47|       156|       198|       185|       282|       334|       288|       274|       520|       519|       663|       689|       666|       476|       388|       604|       608|       502|       403|       441|       274|       188|       313|       165|       303|       163|       177|        79|        79|       160|        96|        77|        70|        80|        63|        39|        34|        45|        26|        35|        28|        31|        19|        26|        26|        38|        24|        42|        28|        14|        15|        26|        26|        24|        19|        24|        12|        19|        18|        14|        15|        10|        17|         6|        13|        17|        10|         8|        10|        11|         4|         3|         7|         3|         0|        12|         9|         2|         7|         3|         2|         1|         6|         4|         1|         6|         4|        12|         6|         8|         8|         4|         6|         9|         6|        10|         8|         1|         4|         7|         9|         7|         2|         1|         2|         0|         2|         7|         4|         2|         1|         3|         1|         3|         3|         4|         2|         4|         1|         2|         2|         1|         1|         2|         4|         4|         2|         3|         2|         0|         0|         0|         4|         3|         4|         6|         3|         3|\n",
            "|          Cabo Verde|      null|      null|      null|      null|      null|      null|      null|      null|      null|      null|      null|      null|      null|      null|      null|      null|      null|      null|      null|      null|      null|      null|      null|      null|      null|      null|      null|      null|      null|      null|      null|      null|      null|      null|      null|      null|      null|      null|      null|      null|      null|      null|      null|      null|      null|      null|      null|      null|      null|      null|      null|      null|      null|      null|      null|      null|      null|      null|      null|         2|         0|         0|         0|         1|         1|         0|         1|         0|         0|         0|         0|         0|         0|         1|         0|         0|         0|         0|         0|         0|         1|         0|         2|         1|        45|         0|         0|         2|         3|         6|         1|         5|         9|         6|         2|        16|         3|         4|         0|         8|         1|        30|        13|        10|        11|         5|        27|        12|         6|        10|        14|         7|        22|        26|        11|         2|         0|         0|         7|        14|         7|         6|         9|         9|        10|         0|         0|         0|        15|        16|        14|        23|         8|        11|        25|        34|         6|        12|        13|        18|        30|        42|        40|        29|        24|        10|        21|        11|        31|        25|        15|        27|        54|        38|        17|         4|        24|        64|        64|        10|        62|        40|        34|        81|        39|        30|        12|        36|        43|        10|        39|        32|         0|        75|        24|        58|       114|        45|        75|        31|        26|        36|        47|        36|        30|        38|        49|        21|        26|        19|        45|        33|        29|        67|        36|        48|        58|        45|        46|        55|        23|        25|        37|        80|        73|        63|        27|        16|        24|        50|        68|        47|        44|        43|        54|        23|        36|        62|        69|        46|        33|        74|        32|        86|        78|        77|        75|        75|        55|        28|        42|        73|        84|        94|        60|       102|        26|        65|        74|        85|        78|        45|        71|        24|        56|        75|        67|       149|        73|        70|        46|        83|       124|       102|        79|        91|        64|        73|        85|       106|        93|        92|       104|       159|        83|        99|       117|        73|        82|       112|       114|        48|       101|       132|        89|        76|       124|        74|        27|        49|        76|        55|        91|        99|        55|        34|        62|       109|        96|        75|        67|        78|        50|        80|        61|       134|        47|        39|        42|        18|       120|        40|        82|        70|        82|        42|        26|        98|       126|        44|        56|        74|        47|        14|        55|        51|        71|        58|        40|        27|        35|        20|        74|        11|        59|        40|        55|         4|        34|        63|        44|        24|        41|        12|        21|        36|        32|        20|         8|         2|        16|         9|        29|        41|        47|        32|        11|        37|        29|        34|        69|        94|        91|        79|        76|        41|        73|        86|        72|       112|       125|        92|        53|        93|        85|        83|        74|        33|        75|        68|        62|       103|        62|       113|        84|        89|        28|        54|        62|        76|        16|        74|        43|        28|        28|        64|        58|        46|        53|        41|        20|        24|        63|        37|        63|        51|        49|        24|        17|        72|        40|        52|        71|        76|        32|        51|        75|        63|        62|        41|        58|        24|        20|        66|        40|        54|        49|        66|        19|        34|        96|        48|        76|        66|        51|        26|        38|       106|       126|       124|       107|       107|        65|        89|       191|       117|       130|       104|        50|        68|        84|       191|       208|       207|         0|       376|       105|       121|       294|       255|       195|       279|       212|       161|       154|       398|       321|       284|       310|       255|       237|       186|       409|       373|       328|       245|       241|       180|       194|       417|       367|       311|       274|       330|       137|       131|       320|       357|       286|       279|       217|       113|       129|       289|       199|       135|       165|       136|        77|       138|       214|       176|       183|       151|        86|        80|        84|       171|        80|       133|        96|        94|        50|        78|       114|        94|        79|        59|        44|        32|        57|        79|        75|        52|        54|        38|        37|        72|        81|        65|        56|        31|        28|        27|        58|        67|        70|        72|        39|        30|        10|        43|        39|        56|        45|        41|        37|        20|        27|        74|        53|        54|        36|        32|        15|        39|        39|        57|        52|        37|        36|        15|        34|        56|        39|        42|        28|        31|         8|        28|        48|        35|        35|        34|        42|        26|        34|        59|        64|        51|        58|        53|        10|        38|        84|        69|        47|        41|        52|        35|        52|        94|        73|        87|        68|        80|        56|        71|       152|       118|       115|       117|        72|        84|        74|       116|       125|       100|        92|        69|        52|        54|       122|        75|        79|        82|        56|        49|        22|        61|        50|        65|        45|        48|        24|        29|        34|        41|        28|        31|        23|         0|        60|        52|        38|        37|        25|        18|        14|        18|        31|        25|        30|        29|         5|         9|         3|        30|        16|         0|        32|        10|         8|         3|        18|        12|        16|        10|         8|         3|         1|         9|         5|         9|        11|         3|         7|         1|        14|         9|         6|         0|         3|         3|         3|         7|         4|         8|         3|         3|         4|         5|         9|         2|         6|         5|         4|         5|         3|        23|        12|        21|        13|        11|         3|         7|        10|        12|         7|         7|         7|         0|         6|        18|        14|        16|        16|        16|         7|        23|        36|        96|       114|       148|        59|       101|       172|       602|       791|       994|       731|       348|       756|      1025|      1397|      1387|      1469|      1005|       400|       709|      1048|       722|         0|      1055|       203|       213|       167|       270|       254|       132|       155|        78|        50|        95|        70|        72|        52|        40|        23|        19|        18|        26|        18|        15|        15|         3|        13|        17|         9|         9|         7|         6|         7|         2|         2|         2|        10|         0|         2|         2|         0|         3|         1|         6|         6|         4|         1|         1|         4|         1|         2|         0|         1|         2|         3|         3|         5|         1|         2|         0|         0|         0|         1|         4|         3|         3|         4|         4|         0|         2|         4|         3|         7|         4|         2|         1|         1|         1|         0|         2|         5|         1|         2|         1|         0|         2|         0|         7|         1|         1|         1|         1|         4|         8|         0|         2|         2|         1|         2|         5|         1|         2|         3|         0|         4|         2|         4|         2|         4|         2|         3|         3|         3|         5|        10|        10|         6|         3|        10|         5|        13|         6|         6|         0|\n",
            "|              Sweden|      null|      null|      null|      null|      null|      null|      null|      null|      null|      null|      null|      null|      null|      null|      null|      null|      null|      null|      null|      null|      null|      null|      null|      null|      null|         0|         0|         0|         0|         0|         0|         0|         0|         0|         0|         1|         1|         8|         3|         0|         5|        13|        30|        25|        59|        33|        46|       101|        98|       196|       151|       152|        71|        69|        83|       119|       145|       143|       180|       136|       118|       182|       230|       314|       286|       365|       300|       280|       416|       475|       486|       554|       602|       357|       340|       389|       739|       654|       645|       454|       395|       464|       437|       479|       604|       623|       688|       532|       388|       461|       707|       722|       758|       782|       473|       300|       563|       742|       799|       636|       532|       299|       261|       477|       657|       745|       785|       701|       509|       279|       455|       754|       698|       657|       688|       358|       259|       430|       666|       808|       610|       532|       403|       210|       490|       746|       800|       774|       773|       432|       265|       648|       900|      1046|      1039|      1146|       780|       462|       677|       937|      1437|      1293|      1329|      1032|       418|       685|      1209|      1457|      1494|      1209|       698|       315|       801|      1309|      1698|      1279|      1204|       755|       415|       726|       808|       685|       687|       694|       364|       315|       251|       278|       533|       334|       369|       308|       106|       170|       312|       287|       268|       284|       191|       110|       131|       226|       297|       220|       262|       138|        42|        71|       283|       301|       302|       258|       303|        38|       165|       333|       425|       378|       380|       260|        73|       196|       417|       443|       363|       344|       226|        63|       174|       314|       351|       333|       298|       160|        57|       174|       222|       244|       202|       179|       131|        48|       162|       171|       213|       286|       262|       171|        67|       185|       236|       314|       254|       291|       206|       106|       220|       292|       330|       389|       437|       279|       133|       266|       438|       553|       540|       630|       325|       167|       378|       613|       689|       633|       712|       461|       156|       374|       786|       831|       834|       783|       509|       161|       637|       916|       968|       902|      1179|       697|       321|       770|      1290|      1571|      1666|      1867|      1477|       514|      1069|      2414|      3389|      3262|      4056|      2987|      1297|      1569|      3608|      4482|      4744|      4454|      4451|      2097|      3725|      4497|      5709|      5564|      6732|      3511|      1581|      2544|      4458|      4961|      7609|      5459|      4492|      2422|      3876|      5674|      6066|      6903|      6462|      3825|      2753|      3480|      5819|      6547|      6986|      7338|      4864|      1803|      3782|      7446|      8398|      6693|      7717|      6538|      3057|      3534|      7001|      8824|      9640|      7917|      5509|      3752|      5160|      6595|     11376|      5036|      3793|      1966|      3208|      7091|      8872|     10459|      6999|      2618|      2530|      2754|      6982|      7545|      5029|      7148|      5691|      4735|      2318|      4647|      5334|      6595|      4743|      4205|      2160|      1250|      2111|      4732|      4946|      4196|      3722|      2368|      1147|      1884|      4188|      4103|      2368|      4252|      2695|      1164|      1551|      4315|      3737|      3395|      3260|      2333|      1013|      1505|      4069|      4353|      3805|      3568|      2771|      1211|      1900|      4206|      4965|      4134|      4028|      2781|      1599|      2538|      5407|      4974|      4830|      4583|      3107|      1242|      2826|      6190|      4868|      4883|      4069|      3454|      1449|      1982|      5928|      5326|      5332|      4994|      3953|      1039|      2715|      6786|      6431|      5736|      5406|      4380|      1579|      2687|      7652|      7706|      6365|      6294|      5196|      1980|      2962|      8468|      8289|      6977|      6836|      3403|      1449|      3103|      6813|      7824|      7760|      7626|      5626|      2390|      3471|      8870|      7093|      7665|      6440|      4983|      2514|      2713|      7538|      7706|      6248|      5502|      4567|      1756|      3069|      7267|      7144|      5931|      5424|      4753|      1718|      3068|      7035|      6482|      5716|      5244|      4476|      1657|      2460|      6311|      5269|      3918|      2579|      3969|      1408|      2106|      4642|      3410|      3166|      2317|      1909|       620|      1195|      2737|      1420|        92|       297|       285|      1948|      1898|      2783|      1364|      1080|       989|       758|       222|       490|      1183|       825|       729|       484|       524|       159|         0|         1|       396|      1830|       601|        19|         1|       678|       505|       380|       373|        31|         8|         8|       444|       251|       560|       284|       326|         3|         2|       415|       369|       258|       237|       228|         7|         0|       443|       369|       351|       366|       337|        11|         6|       628|       517|       582|       477|       444|        11|         2|       839|       653|       656|       621|       686|         4|         1|      1151|       959|       852|       819|       819|         6|         3|      1483|      1203|      1057|      1040|      1016|         8|        10|      1781|      1330|      1275|      1028|      1045|         1|         3|      1708|      2785|         0|      1269|       915|         0|         8|      2353|      1022|      1103|      1425|      1323|         1|         9|      2179|      1399|      1395|      1478|      1516|         2|         0|      2137|      1114|      1184|       994|       829|         1|         0|      1178|       891|       742|       771|       716|         0|         6|      1069|       845|       852|       766|       698|         2|         0|      1192|       738|       842|       741|       600|        15|         9|      1121|       905|       796|       668|       565|        14|         0|      1078|       818|       786|       777|       891|       525|       319|       539|      1262|       891|      1079|       977|       861|       301|       629|      1162|       837|       870|       687|       597|       278|       546|      1277|      1020|       925|       955|       785|       311|       574|      1340|      1161|      1130|      1314|      1137|       437|       953|      2077|      2151|      2070|      2025|      1759|       924|      1303|      2657|      2424|      2252|      2110|      2084|       927|      2298|      3289|      3255|      3072|      2865|      2395|      1475|      2712|      4063|      4008|      4116|      4179|      3470|      1938|      3036|      4668|      5256|      4978|      5815|      2364|      1791|      6125|      9231|     10926|     11462|     10599|      5271|      5727|      9980|     17578|     24084|     17707|     19924|     19499|     16510|     15076|     22924|     26564|     26072|     26185|     25788|     22076|     24197|     39314|     40621|     43715|     39807|     37704|     30982|     33908|     46669|     41677|     53892|     39515|     34327|     15066|     24797|     40929|     35946|     28294|     25700|     19987|     10068|      9653|     19604|     15839|      7422|      5829|      2817|      1175|      2546|      4884|      4044|      4215|      3418|      1969|      1083|      2293|      6543|         0|      3500|      2752|         0|      2572|      1457|         0|      5521|      2085|         0|      3158|       326|      1428|      2219|      2102|      1619|      1552|       780|       405|       879|      1693|      1804|      1863|      1921|         0|       342|       921|      1612|      1263|      1319|      1167|       508|       233|       731|      1103|      1071|       796|       756|         0|       511|       206|      1035|         0|      1682|       627|         0|       546|       553|       740|         0|      1214|       311|         0|       257|       145|       465|         0|      1212|       413|       213|       465|         0|       453|         0|       800|       402|       177|         0|       371|       456|       361|       340|       281|       174|         0|       274|       367|       368|         0|         0|         0|\n",
            "|            Kiribati|      null|      null|      null|      null|      null|      null|      null|      null|      null|      null|      null|      null|      null|      null|      null|      null|      null|      null|      null|      null|      null|      null|      null|      null|      null|      null|      null|      null|      null|      null|      null|      null|      null|      null|      null|      null|      null|      null|      null|      null|      null|      null|      null|      null|      null|      null|      null|      null|      null|      null|      null|      null|      null|      null|      null|      null|      null|      null|      null|      null|      null|      null|      null|      null|      null|      null|      null|      null|      null|      null|      null|      null|      null|      null|      null|      null|      null|      null|      null|      null|      null|      null|      null|      null|      null|      null|      null|      null|      null|      null|      null|      null|      null|      null|      null|      null|      null|      null|      null|      null|      null|      null|      null|      null|      null|      null|      null|      null|      null|      null|      null|      null|      null|      null|      null|      null|      null|      null|      null|      null|      null|      null|      null|      null|      null|      null|      null|      null|      null|      null|      null|      null|      null|      null|      null|      null|      null|      null|      null|      null|      null|      null|      null|      null|      null|      null|      null|      null|      null|      null|      null|      null|      null|      null|      null|      null|      null|      null|      null|      null|      null|      null|      null|      null|      null|      null|      null|      null|      null|      null|      null|      null|      null|      null|      null|      null|      null|      null|      null|      null|      null|      null|      null|      null|      null|      null|      null|      null|      null|      null|      null|      null|      null|      null|      null|      null|      null|      null|      null|      null|      null|      null|      null|      null|      null|      null|      null|      null|      null|      null|      null|      null|      null|      null|      null|      null|      null|      null|      null|      null|      null|      null|      null|      null|      null|      null|      null|      null|      null|      null|      null|      null|      null|      null|      null|      null|      null|      null|      null|      null|      null|      null|      null|      null|      null|      null|      null|      null|      null|      null|      null|      null|      null|      null|      null|      null|      null|      null|      null|      null|      null|      null|      null|      null|      null|      null|      null|      null|      null|      null|      null|      null|      null|      null|      null|      null|      null|      null|      null|      null|      null|      null|      null|      null|      null|      null|      null|      null|      null|      null|      null|      null|      null|      null|      null|      null|      null|      null|      null|      null|      null|      null|      null|      null|      null|      null|      null|      null|      null|      null|      null|      null|      null|      null|      null|      null|      null|      null|      null|      null|      null|      null|      null|      null|      null|      null|      null|      null|      null|      null|      null|      null|      null|      null|      null|      null|      null|      null|      null|      null|      null|      null|      null|      null|      null|      null|      null|      null|      null|      null|      null|      null|      null|      null|      null|      null|      null|      null|      null|      null|      null|      null|      null|      null|      null|      null|      null|      null|      null|      null|      null|      null|      null|      null|      null|      null|      null|      null|      null|      null|      null|      null|      null|      null|      null|      null|      null|      null|      null|      null|      null|      null|      null|      null|      null|      null|      null|      null|      null|      null|      null|      null|      null|      null|      null|      null|      null|      null|      null|      null|      null|      null|      null|      null|      null|      null|      null|      null|      null|      null|      null|      null|      null|      null|      null|      null|      null|      null|      null|      null|      null|      null|      null|      null|      null|      null|      null|      null|      null|      null|      null|      null|      null|      null|      null|      null|      null|      null|      null|      null|      null|      null|      null|      null|      null|      null|      null|      null|      null|      null|      null|      null|      null|      null|      null|      null|      null|      null|      null|      null|      null|      null|      null|      null|      null|      null|      null|      null|      null|      null|      null|      null|      null|      null|      null|      null|      null|      null|      null|      null|      null|      null|      null|      null|      null|      null|      null|      null|      null|      null|      null|      null|      null|      null|      null|      null|      null|      null|      null|      null|      null|      null|      null|      null|      null|      null|      null|      null|      null|      null|      null|      null|      null|      null|      null|      null|      null|      null|      null|      null|      null|      null|      null|      null|      null|      null|      null|      null|      null|      null|      null|      null|      null|      null|      null|      null|      null|      null|      null|      null|      null|      null|      null|      null|      null|      null|      null|      null|      null|      null|      null|      null|      null|      null|      null|      null|      null|      null|      null|      null|      null|      null|      null|      null|      null|      null|      null|      null|      null|      null|      null|      null|      null|      null|      null|      null|      null|      null|      null|      null|      null|      null|      null|      null|      null|      null|      null|      null|      null|      null|      null|      null|      null|      null|      null|      null|      null|      null|      null|      null|      null|      null|      null|      null|      null|      null|      null|      null|      null|      null|      null|      null|      null|      null|      null|      null|      null|      null|      null|      null|      null|      null|      null|      null|      null|      null|      null|      null|      null|      null|      null|      null|      null|      null|      null|      null|      null|      null|      null|      null|      null|      null|      null|      null|      null|      null|      null|      null|      null|      null|      null|      null|      null|      null|      null|      null|      null|      null|      null|      null|      null|      null|      null|      null|      null|      null|      null|      null|      null|      null|      null|      null|      null|      null|      null|      null|      null|      null|      null|      null|      null|      null|      null|      null|      null|      null|      null|      null|      null|      null|      null|      null|      null|      null|      null|      null|      null|      null|      null|      null|      null|      null|      null|      null|      null|      null|      null|      null|      null|      null|      null|      null|      null|      null|      null|      null|      null|      null|         0|         2|         0|         0|        20|         7|        13|        37|        65|        20|        65|        98|        96|       169|       138|       146|       124|       350|       156|       201|       207|       222|        62|        81|       135|        97|        34|        83|        72|        20|        53|        13|        10|        14|        14|         6|        16|         9|        12|        10|        13|        13|        13|        11|        10|        11|         1|         5|         9|         6|         4|         9|         3|         5|         6|         5|         3|         0|         1|         7|         0|         6|         2|         3|         1|         1|         3|         0|         0|         0|         0|         1|         0|         0|         1|         0|         0|         1|         0|         1|         0|         0|         0|         0|         0|         0|         2|         0|         3|         1|         1|         0|         0|         0|         0|         0|         4|         0|         0|         0|         1|         1|         2|         0|         0|         5|         0|         0|         0|         4|         0|         0|         0|         0|         0|         0|\n",
            "|              Guyana|      null|      null|      null|      null|      null|      null|      null|      null|      null|      null|      null|      null|      null|      null|      null|      null|      null|      null|      null|      null|      null|      null|      null|      null|      null|      null|      null|      null|      null|      null|      null|      null|      null|      null|      null|      null|      null|      null|      null|      null|      null|      null|      null|         0|         0|         0|         0|         0|         0|         0|         1|         0|         0|         3|         3|         0|        -3|         1|        10|         3|         1|         1|       -15|         0|         0|         0|         3|         0|         0|         4|         7|         0|         4|         0|         1|         7|         2|         4|         0|         0|         8|         0|         2|         0|         8|         0|         8|         0|         2|         0|         1|         1|         3|         3|         0|         1|         0|         0|         0|         8|         0|         0|         0|        10|         0|         1|         0|         1|         0|        10|         5|         4|         0|         0|         3|         1|         0|         7|         1|         0|         2|         0|         0|         8|         2|         2|         0|        11|         0|         2|         1|         0|         0|         0|         0|         0|         1|         0|         0|         2|         0|         2|         1|         0|         0|         0|        12|         0|        12|         0|         0|         1|        21|         1|         3|         6|         0|        15|         0|         5|        10|         3|         2|         6|        16|         1|         0|        11|         0|         2|         4|         1|         6|         3|         8|         5|         2|         5|         7|         9|         1|         2|        11|         1|         1|         8|        10|        19|         7|         2|         3|        12|        17|        44|         0|        23|        12|        29|         0|        16|        14|         0|        34|        21|         8|        18|        25|        35|         0|        28|        39|        70|        35|        44|        30|        74|        31|        33|        47|        40|         4|        50|        72|        67|         9|        19|        15|        43|         9|        92|        53|        90|        47|        13|        49|        41|        31|        74|         0|        69|        75|        66|       101|       133|        35|        98|        44|       130|        16|        47|        15|        59|        48|        35|        39|        37|        88|        95|         0|       104|        37|        29|        47|        64|        52|        44|        24|        31|        52|        38|        24|        31|        31|        54|        27|        83|        34|        29|         3|        35|        13|        24|        45|        19|        46|        30|         7|        79|        69|        64|        27|        30|        10|         6|        88|        44|        62|        70|        29|        51|        16|        24|        62|        29|        88|        40|        21|        35|        47|        40|        34|        28|        38|        30|        17|        26|        79|        73|        36|        28|        32|         3|        32|        79|        28|        40|        41|        23|        30|        43|        26|        34|        29|        20|        46|        45|        42|         8|        23|         0|         4|         5|         3|        18|        13|        16|         3|         7|        21|        28|        29|        33|         0|        72|        33|        14|        65|        43|        49|        60|        46|        57|        23|        19|        65|        52|        76|        79|        76|        19|        29|        34|        90|        58|        53|        60|        13|        24|        36|        66|       107|        52|        43|        41|        18|        51|        43|        46|        26|        24|         1|        30|        51|        25|        19|        42|        21|         7|        25|         5|        28|        28|        37|        35|        10|        31|        22|        51|        30|        43|        35|         7|        33|        81|        65|        76|        52|        39|        27|        51|        84|       120|        44|        99|        64|        19|        64|        88|        78|       109|        65|        96|        14|        10|        57|       126|        71|        94|        40|        26|        31|        81|       135|       105|        86|       105|        40|        88|        97|       153|       115|       120|       101|        38|        71|       160|       102|       214|       152|       103|        51|        72|       137|       143|       177|       121|       114|        46|        92|       173|       128|       116|       130|       159|        80|        89|       128|       186|       143|       180|       103|        81|       102|       153|       136|       160|       111|       116|         0|       105|       321|        98|        70|        98|        88|        42|       162|       143|       119|        83|       158|        48|        53|        87|       134|       149|       108|       107|        83|        60|        84|       128|        75|       104|       136|       123|        48|        90|         0|       331|       109|       100|       103|        14|        68|        96|        87|        89|        74|        73|        11|       179|        77|       112|        77|        90|        29|        49|        53|       168|        51|        77|       120|        91|        44|        62|        65|         0|       117|       240|        60|        31|        53|        81|        57|        86|        65|         0|         0|       120|        62|        84|        54|        89|        50|        10|        78|        86|        88|       100|       111|       106|        14|       100|       120|       141|       111|       177|       112|        36|       134|       207|       151|       103|       180|       176|        80|       145|       222|       181|       161|       183|       215|       101|       161|       289|       240|       218|       263|       194|       123|       135|       298|       299|       241|       273|       208|       130|       141|       362|       258|       252|       211|       241|        88|       123|       279|       189|       228|       242|       186|         0|       218|       250|       224|       162|       229|       130|        52|        75|       150|       159|       108|       122|        93|        59|        94|       118|        74|        77|       100|        90|        37|        66|        82|        98|        94|       104|         0|       109|        62|        81|       129|        64|        86|       101|        77|        48|       134|        94|       119|        89|        76|        55|        44|        83|        91|        94|        89|        52|        31|        89|        79|        89|        50|        44|        66|        52|        49|        77|        76|        41|        50|        42|        57|        44|        72|        69|        51|        39|        62|        14|        50|        66|        44|        23|        66|        53|        21|        35|        40|        32|        44|        44|        21|        12|        32|        87|       157|       178|       206|       281|        94|       485|       779|       967|       844|      1016|       657|       438|       665|      1000|      1186|       865|      1065|      1082|       892|      1083|       743|       815|       892|       957|       642|       173|       372|       424|       408|       375|       471|       353|        86|       220|       276|       291|       432|       296|       196|        16|       118|       167|       160|        95|         0|         0|       109|        95|       105|        72|        48|        53|        18|        12|        78|        33|        19|        58|        35|         0|        30|        25|        25|        31|        22|        16|        15|         7|        14|        14|        17|        20|         0|        17|         3|        10|        12|         6|         0|         8|        11|         1|         7|         6|         0|        15|         9|         2|         1|         4|         7|         7|         5|         9|         5|         1|        10|        11|        11|         5|         5|        11|         0|        14|         9|         9|         6|         4|         0|         3|         9|         9|        10|         8|         6|         3|         4|         0|        27|        10|         0|        16|         9|         2|         7|        27|        15|         0|        37|        13|         3|        42|        56|        52|        36|        32|\n",
            "|             Eritrea|      null|      null|      null|      null|      null|      null|      null|      null|      null|      null|      null|      null|      null|      null|      null|      null|      null|      null|      null|      null|      null|      null|      null|      null|      null|      null|      null|      null|      null|      null|      null|      null|      null|      null|      null|      null|      null|      null|      null|      null|      null|      null|      null|      null|      null|      null|      null|      null|      null|      null|      null|      null|      null|      null|      null|      null|      null|      null|      null|      null|         0|         0|         0|         3|         2|         0|         0|         6|         3|         0|         0|         7|         0|         7|         0|         2|         0|         2|         0|         1|         0|         0|         0|         1|         0|         0|         0|         4|         0|         0|         0|         0|         0|         0|         0|         0|         0|         0|         0|         0|         0|         0|         0|         0|         0|         0|         0|         0|         0|         0|         0|         0|         0|         0|         0|         0|         0|         0|         0|         0|         0|         0|         0|         0|         0|         0|         0|         0|         0|         0|         0|         0|         0|         0|         0|         0|         0|         0|         0|         0|         2|         0|         0|        24|        31|        13|        12|        10|        11|         0|         1|         0|         0|         0|         1|         0|        23|        24|         0|         0|        12|         0|        12|         0|         0|         0|         0|         0|         0|        17|         0|         0|         0|         0|         0|         0|        19|         0|         0|         0|         0|         0|         0|        10|         0|         2|         0|         2|         0|         0|        14|         0|         0|         0|         3|         0|         0|         0|         3|         0|         0|         0|         0|         0|         0|         0|         0|         0|         0|        19|         0|         2|         0|         0|         0|         0|         9|         0|         2|         0|         1|         0|         1|         0|         0|        11|         0|         0|         0|         0|        11|         0|        20|         0|         0|         0|         0|         3|         0|         0|         0|         0|         0|         0|         0|         0|         5|         0|         6|         0|         0|         0|         0|         6|         0|        17|         0|         0|         0|         0|         7|         0|         9|         0|         0|         0|         0|         8|         0|        30|         0|         0|         0|         0|         5|         4|         0|         0|         0|         0|         0|         0|         2|         0|         0|        17|         0|         0|         4|         0|         7|         0|         0|         0|         0|         2|         0|         0|         0|        25|         0|         0|         9|         0|        24|         0|         7|         0|         0|         8|         0|        11|         0|         0|         0|         0|        17|        38|         0|         0|        17|         0|         0|         7|         0|        55|         0|         0|         0|         0|        30|         0|        13|         0|        53|        25|        45|        74|        41|         0|        47|         0|       181|        32|        68|         0|         0|         0|        43|        82|         0|         0|       111|         0|         0|         0|        40|         0|       209|        72|         0|         0|         0|         0|        33|         3|        27|         0|         0|        10|        20|       115|         0|        50|         0|         0|         0|       132|        42|         0|        17|         0|         0|         0|        75|        17|        11|         0|         0|         0|       137|         0|        61|        48|        10|         0|         0|        18|        70|        16|        37|        21|         0|         0|        19|        18|         8|        21|         9|        22|         0|         0|         0|        44|        21|        29|         0|         0|        17|         7|        16|        17|        23|         0|         0|         0|        45|        20|         9|        16|         0|         0|        43|        28|         6|        23|        26|         0|         0|         6|        23|        11|        19|        54|         0|         0|        19|         3|        10|         7|         5|         0|         0|        46|        11|        16|        33|         8|         0|         0|        35|         0|        19|        12|         0|         0|         0|         2|         8|        26|        27|         8|         0|         0|        12|        64|         4|         0|         0|        22|         0|        24|        11|         8|        19|        15|        11|         0|         0|        16|        40|        22|        12|        39|         0|        33|        23|        28|         0|       282|         0|         0|        72|        98|        93|        76|        82|         0|         0|       133|        31|        96|        86|        91|        51|        26|        59|        87|        95|        61|        56|        60|         0|       104|        52|        73|        19|        23|        23|        14|        39|        61|        36|        18|        17|        18|         7|         0|        43|        20|        35|        20|         0|         0|        40|         8|        23|         7|        11|         4|         0|        11|        11|        22|         5|         1|         2|         0|        12|         5|         4|         5|         3|         0|         0|        13|         0|         4|         4|         3|         1|         0|         2|         6|         2|         7|         0|         2|         3|         1|         8|         3|         1|         3|         0|         1|         2|         0|         0|         0|         4|         1|         1|         0|         3|         0|         3|         1|         0|         0|         2|         4|         2|         4|         2|         2|         0|         3|         6|         0|         0|         5|         9|         0|         0|         3|        12|        13|         0|         0|         1|         0|         2|         4|         5|         3|         4|         3|        11|         3|         6|         0|         3|         6|         1|         2|         2|         2|         8|         0|         1|         3|         3|         3|         2|         6|        10|        15|         3|         5|        21|        21|        29|        17|        16|         5|        11|        20|        24|        10|        26|        12|         4|         8|        13|        15|        21|        21|        23|        19|        13|        35|        27|        19|        16|        20|        13|        23|        17|        35|        19|        30|        16|         0|        26|        29|        20|        50|        33|        13|        17|        10|        19|        11|        27|        18|        22|        10|        16|        28|        10|        12|        24|        20|        13|        16|        29|        17|        34|        29|        15|        23|        14|        65|        33|        50|        51|        41|        32|        84|       140|        94|       102|        90|        31|        34|        92|        83|        30|        45|        32|        58|        47|        35|        58|        18|        28|        53|        19|        17|        11|        23|        21|        21|        18|        12|         6|         7|         7|         1|         8|         2|         2|         4|         7|         4|         1|         1|         2|         4|         0|         2|         0|         5|         2|         2|         2|         0|         1|         3|         1|         2|         1|         7|         0|         1|         0|         2|         1|         1|         1|         0|         1|         0|         0|         0|         1|         0|         0|         0|         0|         0|         0|         1|         0|         0|         0|         0|         1|         3|         0|         0|         0|         0|         0|         0|         0|         0|         1|         2|         1|         0|         1|         0|         0|         0|         0|         0|         0|         0|         0|         0|         0|         0|         0|         1|         0|         0|         0|         0|         0|         0|         0|         1|         0|         2|         0|         0|         1|         0|         0|         2|         5|         0|\n",
            "|         Philippines|      null|      null|      null|      null|      null|      null|      null|      null|      null|      null|      null|      null|      null|      null|      null|      null|      null|      null|      null|      null|      null|      null|      null|      null|      null|         0|         0|         0|         0|         0|         0|         0|         0|         0|         0|         0|         0|         0|         0|         0|         0|         0|         0|         0|         2|         1|         4|        14|         9|        16|         3|        12|        47|        29|         2|        45|        15|        15|        13|        77|        73|        82|        90|        84|        71|        96|       272|       343|       128|       538|       227|       322|       385|        76|       152|       414|       104|       106|       206|       119|       233|       220|       284|       291|       230|       207|       218|       209|       172|       200|       140|       111|       271|       211|       102|       285|       198|       181|       254|       276|       284|       156|       295|       262|       199|       320|       339|       120|       147|       184|       292|       264|       268|       258|       215|       214|       208|       205|       224|       279|       213|       163|       180|       258|       284|       350|       380|       539|      1046|       590|       862|       552|       359|       751|       634|       244|       714|       555|       579|       518|       740|       443|       612|       605|       538|       490|       361|       457|       561|       660|       941|       652|       630|      1143|       470|       774|      1004|       730|       652|       983|      1076|       997|       294|      1531|      1494|      2424|      2079|      1540|      2486|      1395|      1160|      1308|      2037|       652|       547|      1310|      2392|      1787|      2268|      2162|      1436|      1862|      1515|      2151|      2103|      1968|      1971|      1612|      1617|      1808|      3871|      3978|      4884|      4951|      3137|      6277|      3381|      3476|      3379|      4131|      2795|      6871|      2754|      4219|      3920|      6123|      4266|      3327|      3217|      4747|      4559|      3896|      4786|      4884|      2317|      4633|      2885|      5248|      3213|      3949|      3618|      4261|      3408|      3441|      2194|      1942|      3683|      2485|      2818|      1383|      3240|      3159|      3798|      4004|      4916|      3345|      4674|      3521|      3530|      3355|      3229|      3934|      3283|      3439|      1604|      2817|      2156|      1778|      2722|      2984|      3063|      1990|      2396|      2403|      2589|      2651|      3164|      2269|      2072|      2694|      2268|      2903|      2162|      2413|      3471|      1903|      1811|      2174|      3054|      2574|      2292|      2604|      1599|      1490|      1652|      1886|      2043|      2218|      1597|      1507|      2047|      1753|      1999|      1791|      2385|      2287|      1761|       981|      1586|      2087|      2149|      2438|      2011|      1342|      1669|      1398|      1876|      1621|      1528|      1734|      1144|      1379|      1335|      1633|      1789|      1965|      1789|      1109|      1192|      1382|      1617|      1884|      2069|      1770|      1292|      1433|      1059|       934|      1721|      1759|      1560|      1392|      1380|      1378|      1495|      1285|      1079|      1310|      1128|      1145|      1463|      2113|      1482|      1749|      1717|      1307|      1140|      1768|      1883|      1404|       881|       756|       878|      1005|      1532|      1764|      1097|       886|       954|       934|      1040|      1346|      1769|      1939|      1900|      2050|      1513|      1446|      1905|      2035|      2049|      1891|      2154|      1350|      1857|      1775|      2173|      1788|      1745|      1578|      1169|      2244|      1158|      1843|      2108|      2099|      1656|      1582|      1257|      1584|      1887|      1940|      1785|      1687|      1223|      1333|      1730|      2017|      1953|      1927|      1680|      1385|      1179|      1738|      1891|      2233|      1887|      2283|      1412|      1548|      2265|      2650|      2913|      2105|      2031|      2065|      1775|      2444|      3040|      3437|      3271|      3353|      2662|      2877|      3741|      4571|      4988|      4890|      5394|      4428|      4383|      5269|      7094|      7980|      7736|      8013|      5859|      6630|      8743|      9829|      9570|      9461|     10007|      9275|      6119|      8908|     15280|     12556|     11020|      8344|      9363|      6400|      9179|     12206|     12652|     11660|     11365|      8546|      8098|     11389|     10706|     11084|     10082|      9610|      7353|      9202|      8739|      8698|      9642|      8138|      8915|      7186|      6862|      8250|      8715|      9210|      8333|      7239|      5661|      5665|      6617|      7718|      6946|      7164|      6833|      4704|      4822|      6344|      6765|      6725|      5773|      5955|      4470|      4684|      6090|      6241|      5343|      3004|      4967|      3966|      5281|      6459|      8733|      7430|      7048|      6673|      5169|      5223|      7205|      7431|      6932|      7215|      6531|      4759|      5447|      7461|      6662|      8012|      7290|      6415|      5376|      5402|      6623|      6818|      6951|      5778|      5238|      3651|      4338|      6024|      6799|      6856|      6088|      5595|      4471|      4492|      5784|      6185|      5892|      5951|      5364|      4103|      4280|      5473|      5870|      5665|      5748|      5199|      3595|      3793|      5208|      5667|      6025|      5401|      5642|      4502|      6549|      5814|      6813|      6211|      5456|      6502|      6955|      4363|      5710|      8556|      8136|      8641|      8067|      6820|      7207|      8033|     10598|     10925|      9569|      8782|      8423|     11905|     12201|     12947|     13795|     14369|     14404|      9770|     10698|     14461|     16788|     16234|     15723|     18310|     11891|     13372|     16127|     17245|     19236|     18341|     22194|     13709|     14124|     16395|     20085|     20622|     19951|     22380|     17958|     17818|     22734|     17912|     26208|     21400|     20684|     18012|     16909|     21208|     20277|     23062|     19201|     18876|     16272|     15515|     17327|     18659|     16775|     20755|     18261|     13808|     12753|     14241|     15466|     14739|     13166|     10723|      9034|      9813|      9962|     10616|     10963|     12119|      8235|      8517|      7123|      7770|      7570|      7718|      6888|      6896|      4474|      3592|      4761|      5794|      5784|      5258|      4377|      4352|      3166|      7133|      3958|      3978|      3392|      3095|      1954|      1569|      1734|      2355|      2643|      2599|      2078|      1380|      2609|      1947|      1862|      1997|      1884|      1528|       812|      1152|      1269|      1300|      1158|      1686|       798|      1103|       873|       881|       754|       691|       741|       599|       229|       371|       425|       443|       395|       439|       378|       234|       211|       387|       183|       186|       253|       190|        45|        49|       155|       382|       110|        93|        56|         0|        92|       107|       226|       259|       267|       216|       211|       736|      1381|      2851|      3462|      4404|      3950|      5285|     10727|     17148|     21572|     26323|     28621|     33105|     27922|     32000|     33917|     37070|     38867|     37062|     36983|     28380|     22638|     31034|     32633|     30416|     29730|     24851|     17535|     15752|     17597|     18561|     17313|     16929|     14516|      9465|      7122|      8679|      8344|      7425|      8345|      6507|      3466|      3475|      3849|      3727|      3654|      2982|      2718|      1996|      2671|      2096|      2132|      1666|      1608|      1166|       910|      1422|      1624|      1576|      1214|      1035|       946|      1062|       862|       978|       843|       935|       863|       733|       435|       222|       597|         0|       653|       564|       554|         0|       770|       593|       536|       525|       562|       415|       283|       402|       440|       409|       433|       328|       381|       246|       302|       324|       353|       344|       546|       273|       221|       257|       276|       287|       298|       276|       273|       204|       230|       271|       272|       224|       194|       168|       158|       364|       133|       226|       205|       204|       213|       122|       195|       190|       184|       239|       252|       188|       134|       159|       168|       150|       173|       149|       178|       126|       109|       139|       181|       174|\n",
            "|            Djibouti|      null|      null|      null|      null|      null|      null|      null|      null|      null|      null|      null|      null|      null|      null|      null|      null|      null|      null|      null|      null|      null|      null|      null|      null|      null|      null|      null|      null|      null|      null|      null|      null|      null|      null|      null|      null|      null|      null|      null|      null|      null|      null|      null|      null|      null|      null|      null|      null|      null|      null|      null|      null|      null|      null|      null|      null|      null|         0|         0|         0|         0|         2|         0|         8|         0|         1|         2|         4|         0|        12|         3|         7|         9|         1|         9|        31|         0|        45|         5|        10|        37|        27|        84|        65|        72|       156|       141|         0|       114|         0|        99|        29|        12|        13|         9|        15|        12|        37|         5|        12|         8|        15|         0|         4|         4|         4|         9|         2|        54|        21|        17|        29|        12|        16|        25|        22|        70|       117|       100|       210|       219|       223|         0|         0|       198|         0|       229|       217|         0|       280|       160|       215|       210|       156|       119|        69|        46|        38|        71|        53|        42|        25|        43|         8|        16|        36|        38|         6|        12|         8|         0|        17|        17|        18|        13|         5|         8|         0|         0|        13|        26|        22|        11|        21|         0|        56|        30|        56|        11|        66|        13|         0|         4|         5|         2|         6|         8|        10|         0|         8|         9|         7|         3|         1|         8|         0|        11|         9|         9|        13|         0|         3|         0|        77|        79|         8|        82|         0|         8|         0|         6|         3|         1|        10|         0|         9|         0|         2|         3|         2|         0|         0|         8|         0|         0|         1|         0|         0|         0|         0|         2|         0|         2|         0|         0|         0|         0|         0|         1|         0|         0|         3|         3|         0|         0|         1|         1|         0|         3|         0|         4|         0|         0|         1|         3|         0|         0|         2|         0|         0|         1|         6|         0|         1|         0|         1|         1|         2|         2|         0|         0|         0|         0|         0|         3|         2|        12|         3|         6|         3|         7|        10|        30|        13|        10|         6|         2|         6|         5|         3|        11|         3|         1|         2|         2|        10|         2|         5|        19|         5|         1|         3|        19|         6|         2|         6|         3|         1|         4|         6|         1|         2|         0|         2|         1|         7|         0|         1|         1|         6|         0|         0|         1|         2|         1|         2|         7|         1|         2|         9|         7|         6|         3|         0|         4|         4|         3|         5|        16|        10|        11|        10|         1|         0|         2|         3|         3|        11|         4|         1|         8|         0|         0|        11|         7|         9|         1|         1|         4|         8|         1|         2|         8|         1|         5|         6|         2|        12|         9|         3|         0|         2|         1|         4|         3|         3|         1|         1|         1|         1|         3|         3|         3|         1|         1|         1|         0|         3|         1|         0|         5|         0|         6|         3|         9|         3|         4|         1|         1|         3|         9|         1|        25|         2|        14|         0|         2|         2|        26|         0|         8|         2|         3|         1|        21|         2|        13|         8|        20|         4|        12|        11|        24|        46|         7|         2|        16|        16|        26|        42|        49|        67|        49|        17|        70|        70|       113|       124|       121|       153|        80|       112|       249|       180|       212|       178|       251|        78|         0|       187|       415|       195|       173|       183|        60|       154|        99|       102|       125|        73|       110|        27|        48|        50|        47|        76|        64|        41|         8|        56|        83|        46|        55|        40|        74|        21|        36|        44|        46|        21|        39|        12|        16|         0|        20|        14|        20|         0|        13|        12|        20|         4|        17|        13|        17|         5|         1|         2|         9|         5|         7|         9|         0|         0|         5|         5|         4|         5|         2|        10|         2|         6|         3|         1|         1|         3|         1|         1|         0|         3|         0|         2|         8|         1|         1|         0|         4|         4|         2|         0|         3|         0|         1|         0|         1|         0|         0|         0|         2|         1|         1|         3|         0|         5|         0|         0|         1|         6|         0|         0|         1|         0|         0|         5|         0|         1|         0|         0|         6|         0|         1|         2|         3|         7|         2|         2|         0|         1|         1|         2|         0|         1|         3|         0|         3|         1|         0|         6|         3|         4|         0|         6|         1|         6|         0|         0|         1|         0|         6|         2|         3|         6|         5|         9|         7|        13|         6|         3|         7|         8|         3|         7|         2|         8|         7|        15|        17|        15|         6|        15|        13|        24|        30|        33|         0|        45|        35|        45|        58|        64|        46|         0|         0|         0|       254|       129|        69|       106|        59|        11|        41|        54|        81|        59|        63|        34|         3|        13|        40|        51|        27|        22|         8|         6|        13|        19|         8|         0|         0|        13|         8|         7|         7|         3|         0|        11|         6|         0|         0|         4|         4|         1|         2|         2|         0|         0|         2|         0|         0|         1|         0|         1|         0|         1|         1|         3|         0|         1|         0|         0|         0|         2|         0|         1|         0|         0|         0|         0|         0|         0|         1|         1|         2|         0|         0|         0|         1|         5|         0|         0|         0|         0|         0|        12|         0|         1|         1|         7|         3|         8|         0|         9|         0|        13|         4|        21|        10|        16|        13|        24|        12|        17|        38|        46|        70|       109|        87|        49|        93|       140|        98|       126|       139|       121|        40|        59|        84|       105|        45|        66|        50|        21|        40|        38|        23|        24|        15|        18|        11|        11|        13|         8|         3|        17|        15|         3|         0|        14|         1|         2|         2|         1|         1|         3|         0|         1|         0|         0|         2|         4|         1|         0|         0|         1|         2|         1|         1|         0|         0|         0|         0|         2|         1|         0|         0|         0|         0|        14|         0|         0|         0|         1|         3|         0|         4|         0|         1|         0|         0|         0|         1|         4|         2|         0|         0|         0|         5|         0|         0|         2|         0|         1|         2|         0|         1|         0|         2|         0|         1|         0|         1|         0|         3|         0|         0|         0|         0|         0|         0|         0|        13|         0|         0|         0|         0|         0|         0|         0|         0|         0|        20|         0|         0|         0|         0|         0|         0|         0|         0|         0|         0|         0|         0|         0|\n",
            "|               Tonga|      null|      null|      null|      null|      null|      null|      null|      null|      null|      null|      null|      null|      null|      null|      null|      null|      null|      null|      null|      null|      null|      null|      null|      null|      null|      null|      null|      null|      null|      null|      null|      null|      null|      null|      null|      null|      null|      null|      null|      null|      null|      null|      null|      null|      null|      null|      null|      null|      null|      null|      null|      null|      null|      null|      null|      null|      null|      null|      null|      null|      null|      null|      null|      null|      null|      null|      null|      null|      null|      null|      null|      null|      null|      null|      null|      null|      null|      null|      null|      null|      null|      null|      null|      null|      null|      null|      null|      null|      null|      null|      null|      null|      null|      null|      null|      null|      null|      null|      null|      null|      null|      null|      null|      null|      null|      null|      null|      null|      null|      null|      null|      null|      null|      null|      null|      null|      null|      null|      null|      null|      null|      null|      null|      null|      null|      null|      null|      null|      null|      null|      null|      null|      null|      null|      null|      null|      null|      null|      null|      null|      null|      null|      null|      null|      null|      null|      null|      null|      null|      null|      null|      null|      null|      null|      null|      null|      null|      null|      null|      null|      null|      null|      null|      null|      null|      null|      null|      null|      null|      null|      null|      null|      null|      null|      null|      null|      null|      null|      null|      null|      null|      null|      null|      null|      null|      null|      null|      null|      null|      null|      null|      null|      null|      null|      null|      null|      null|      null|      null|      null|      null|      null|      null|      null|      null|      null|      null|      null|      null|      null|      null|      null|      null|      null|      null|      null|      null|      null|      null|      null|      null|      null|      null|      null|      null|      null|      null|      null|      null|      null|      null|      null|      null|      null|      null|      null|      null|      null|      null|      null|      null|      null|      null|      null|      null|      null|      null|      null|      null|      null|      null|      null|      null|      null|      null|      null|      null|      null|      null|      null|      null|      null|      null|      null|      null|      null|      null|      null|      null|      null|      null|      null|      null|      null|      null|      null|      null|      null|      null|      null|      null|      null|      null|      null|      null|      null|      null|      null|      null|      null|      null|      null|      null|      null|      null|      null|      null|      null|      null|      null|      null|      null|      null|      null|      null|      null|      null|      null|      null|      null|      null|      null|      null|      null|      null|      null|      null|      null|      null|      null|      null|      null|      null|      null|      null|      null|      null|      null|      null|      null|      null|      null|      null|      null|      null|      null|      null|      null|      null|      null|      null|      null|      null|      null|      null|      null|      null|      null|      null|      null|      null|      null|      null|      null|      null|      null|      null|      null|      null|      null|      null|      null|      null|      null|      null|      null|      null|      null|      null|      null|      null|      null|      null|      null|      null|      null|      null|      null|      null|      null|      null|      null|      null|      null|      null|      null|      null|      null|      null|      null|      null|      null|      null|      null|      null|      null|      null|      null|      null|      null|      null|      null|      null|      null|      null|      null|      null|      null|      null|      null|      null|      null|      null|      null|      null|      null|      null|      null|      null|      null|      null|      null|      null|      null|      null|      null|      null|      null|      null|      null|      null|      null|      null|      null|      null|      null|      null|      null|      null|      null|      null|      null|      null|      null|      null|      null|      null|      null|      null|      null|      null|      null|      null|      null|      null|      null|      null|      null|      null|      null|      null|      null|      null|      null|      null|      null|      null|      null|      null|      null|      null|      null|      null|      null|      null|      null|      null|      null|      null|      null|      null|      null|      null|      null|      null|      null|      null|      null|      null|      null|      null|      null|      null|      null|      null|      null|      null|      null|      null|      null|      null|      null|      null|      null|      null|      null|      null|      null|      null|      null|      null|      null|      null|      null|      null|      null|      null|      null|      null|      null|      null|      null|      null|      null|      null|      null|      null|      null|      null|      null|      null|      null|      null|      null|      null|      null|      null|      null|      null|      null|      null|      null|      null|      null|      null|      null|      null|      null|      null|      null|      null|      null|      null|      null|      null|      null|      null|      null|      null|      null|      null|      null|      null|      null|      null|      null|      null|      null|      null|      null|      null|      null|      null|      null|      null|      null|      null|      null|      null|      null|      null|      null|      null|      null|      null|      null|      null|      null|      null|      null|      null|      null|      null|      null|      null|      null|      null|      null|      null|      null|      null|      null|      null|      null|      null|      null|      null|      null|      null|      null|      null|      null|      null|      null|      null|      null|      null|      null|      null|      null|      null|      null|      null|      null|      null|      null|      null|      null|      null|      null|      null|      null|      null|      null|      null|      null|      null|      null|      null|      null|      null|      null|      null|      null|      null|      null|      null|      null|         0|         0|         0|         0|         0|         0|         0|         0|         0|         0|         0|         0|         0|         0|         0|         0|         0|         0|         0|         0|         0|         0|         0|         0|         0|         0|         0|         0|         0|         0|         0|         0|         0|         0|         0|         0|         0|         0|         0|         0|         0|         0|         0|         0|         0|         0|         0|         0|         0|         0|         0|         0|         0|         0|         0|         0|         0|         0|         0|         0|         0|         0|         0|         0|         0|         0|         0|         0|         0|         0|         0|         0|         0|         0|         0|         0|         0|         0|         0|         0|         0|         0|         0|         0|         0|         0|         0|         0|         0|         0|         0|         0|         0|         1|         3|         1|         1|         0|         2|         0|         4|        22|        31|         0|        44|         0|        31|         0|         0|        69|         0|        24|         0|         0|         0|        55|         0|        66|         0|         0|         0|         0|         0|       290|        70|       109|        65|       113|        57|       161|       100|        62|       131|       195|       155|       209|       185|       273|       258|       235|       209|       186|       366|       390|       363|       335|       460|       259|       256|       297|       279|         0|       418|       155|       131|       107|       151|       143|       137|       266|         0|       297|       216|       115|       202|        81|         0|       125|        58|         0|        81|       241|       121|        85|         0|       144|       102|        39|       112|       115|       131|         0|       124|       132|        42|         0|       210|        61|         0|         0|         0|        61|       124|        99|         0|         0|\n",
            "|Wallis And Futuna...|      null|      null|      null|      null|      null|      null|      null|      null|      null|      null|      null|      null|      null|      null|      null|      null|      null|      null|      null|      null|      null|      null|      null|      null|      null|      null|      null|      null|      null|      null|      null|      null|      null|      null|      null|      null|      null|      null|      null|      null|      null|      null|      null|      null|      null|      null|      null|      null|      null|      null|      null|      null|      null|      null|      null|      null|      null|      null|      null|      null|      null|      null|      null|      null|      null|      null|      null|      null|      null|      null|      null|      null|      null|      null|      null|      null|      null|      null|      null|      null|      null|      null|      null|      null|      null|      null|      null|      null|      null|      null|      null|      null|      null|      null|      null|      null|      null|      null|      null|      null|      null|      null|      null|      null|      null|      null|      null|      null|      null|      null|      null|      null|      null|      null|      null|      null|      null|      null|      null|      null|      null|      null|      null|      null|      null|      null|      null|      null|      null|      null|      null|      null|      null|      null|      null|      null|      null|      null|      null|      null|      null|      null|      null|      null|      null|      null|      null|      null|      null|      null|      null|      null|      null|      null|      null|      null|      null|      null|      null|      null|      null|      null|      null|      null|      null|      null|      null|      null|      null|      null|      null|      null|      null|      null|      null|      null|      null|      null|      null|      null|      null|      null|      null|      null|      null|      null|      null|      null|      null|      null|      null|      null|      null|      null|      null|      null|      null|      null|      null|      null|      null|      null|      null|      null|      null|      null|      null|      null|      null|      null|      null|      null|      null|      null|      null|      null|      null|      null|      null|      null|      null|      null|      null|      null|      null|      null|      null|      null|      null|      null|      null|      null|      null|      null|      null|      null|      null|      null|      null|      null|      null|      null|      null|      null|      null|      null|      null|      null|      null|      null|      null|      null|      null|      null|      null|      null|      null|      null|      null|      null|      null|      null|      null|      null|      null|      null|      null|      null|      null|         0|         0|         0|         0|         0|         0|         0|         0|         0|         0|         0|         0|         0|         0|         0|         0|         0|         0|         0|         0|         0|         0|         0|         0|         0|         0|         0|         0|         0|         0|         0|         1|         0|         0|         0|         0|         0|         0|         0|         1|         0|         0|         0|         0|         0|         0|         0|         0|         0|         0|         0|         0|         0|         0|         0|         0|         0|         0|         0|         0|         1|         0|         0|         0|         0|         0|         0|         0|         0|         0|         0|         0|         0|         0|         0|         0|         0|         0|         0|         0|         0|         0|         0|         0|         0|         0|         0|         0|         0|         0|         0|         0|         0|         0|         0|         0|         0|         0|         0|         0|         0|         1|         0|         0|         0|         0|         0|         0|         0|         0|         0|         0|         0|         0|         4|         0|         0|         0|         0|         0|         0|         0|         0|         0|         0|         0|         0|         0|         0|         0|         0|         0|         0|         0|         0|         0|         0|         0|         0|         0|         0|         1|         6|         3|        47|        63|        17|        30|         2|         8|        47|        28|        15|        15|        11|         6|        10|        11|        12|        11|         6|         9|         7|        11|         7|        11|         6|         1|         6|         0|         4|         2|         1|         6|         1|         2|         0|         5|         0|         0|         0|         1|         0|         0|         0|         1|         1|         0|         0|         1|         0|         1|         1|         0|         1|         0|         0|         0|         0|         0|         0|         1|         0|         0|         0|         0|         0|         0|         0|         0|         0|         0|         0|         0|         0|         0|         0|         0|         0|         0|         0|         0|         0|         0|         0|         0|         0|         0|         0|         0|         0|         0|         0|         0|         0|         0|         0|         0|         0|         0|         0|         0|         0|         0|         0|         0|         0|         0|         0|         0|         0|         0|         0|         0|         0|         0|         0|         0|         0|         0|         0|         0|         0|         0|         0|         0|         0|         0|         0|         0|         0|         0|         0|         0|         0|         0|         0|         0|         0|         0|         0|         0|         0|         0|         0|         0|         0|         0|         0|         0|         0|         0|         0|         0|         0|         0|         0|         0|         0|         0|         0|         0|         0|         0|         0|         0|         0|         0|         0|         0|         0|         0|         0|         0|         0|         0|         0|         0|         0|         0|         0|         0|         0|         0|         0|         0|         0|         0|         0|         0|         0|         0|         0|         0|         0|         0|         0|         0|         0|         0|         0|         0|         0|         0|         0|         0|         0|         0|         0|         0|         0|         0|         0|         0|         0|         0|         0|         0|         0|         0|         0|         0|         0|         0|         0|         0|         0|         0|         0|         0|         0|         0|         0|         0|         0|         0|         0|         0|         0|         0|         0|         0|         0|         0|         0|         0|         0|         0|         0|         0|         0|         0|         0|         0|         0|         0|         0|         0|         0|         0|         0|         0|         0|         0|         0|         0|         0|         0|         0|         0|         0|         0|         9|         0|         0|         0|         0|         0|         0|         0|         0|         0|         0|         0|         0|         0|         0|         0|         0|         0|         0|         0|         0|         0|         0|         0|         0|         0|         0|         0|         0|         0|         0|         0|         0|         0|         0|         0|         0|         0|         0|         0|         0|         0|         0|         0|         0|         0|         0|         0|         0|         0|         0|         0|         0|         0|         0|         0|         0|         0|         0|         0|         0|         0|         0|         0|         0|         0|         0|         0|         0|         0|         0|         0|         0|         0|         0|         0|         0|         0|         0|         0|         0|         0|         0|         0|         0|         0|         0|         0|         0|         0|         0|         0|         0|         0|         0|         0|         0|         0|         0|         0|         0|         0|         0|         0|         0|         0|         0|         0|         0|         0|         0|         0|         0|         0|         0|         0|         0|         0|         0|         0|         0|         0|         0|         0|         0|         0|         0|         0|         0|         0|         0|         0|         0|         0|         0|         0|         0|         0|         0|         0|         0|         0|         0|         0|         0|         0|         0|         0|         0|         0|         0|         0|         0|         0|         0|         0|         0|         0|         0|         0|         0|         0|         0|\n",
            "|            Malaysia|      null|      null|      null|      null|      null|      null|      null|      null|      null|      null|      null|      null|      null|      null|      null|      null|      null|      null|      null|      null|      null|      null|      null|      null|      null|         0|         0|         0|         0|         0|         0|         0|         0|         0|         0|         0|         1|         2|         0|         4|         0|         7|        14|         5|        28|        10|         6|        18|        12|        20|         9|        39|        41|       190|       125|       120|       117|       110|       130|       153|       123|       212|       106|       172|       235|       130|       159|       150|       156|       140|       142|       208|       217|       150|       179|       131|       170|       156|       109|       118|       184|       153|       134|       170|        85|       110|        69|        54|        84|        36|        57|        50|        71|        88|        51|        38|        40|        31|        94|        57|        69|       105|       122|        55|        30|        45|        39|        68|        54|        67|        70|        16|        37|        40|        36|        17|        22|        47|        37|        31|        50|        78|        48|        60|       172|       187|        15|        10|       103|        30|        57|        38|        20|        93|       277|        19|        37|        19|         7|         7|         2|        31|        33|        43|         8|        41|        11|        10|        14|         6|        21|        16|        15|         3|         6|         4|         6|        10|        18|         3|         2|         1|         3|         5|        10|         5|         5|         6|         3|         6|        13|         8|        14|         7|         4|         5|         3|        18|         9|        15|        21|        15|        16|         9|        21|        23|        13|         7|        39|        13|         8|        12|         9|        14|         2|         1|        21|        15|        25|         7|        13|        11|         9|        11|        15|        20|        26|        25|        12|         7|        16|         5|         9|         8|        10|         7|        11|         6|         5|        10|        11|        17|         6|        14|         6|        14|        11|         6|         6|        62|       100|        24|        45|       182|        58|        47|        31|        23|        62|        21|        95|        20|        52|        57|        82|       147|        72|       110|        82|       150|       115|       101|        89|       260|       287|       317|       293|       432|       691|       489|       375|       354|       374|       561|       563|       660|       660|       589|       629|       869|       871|       865|       862|       732|       847|       710|      1228|       823|      1240|       835|       801|       649|       799|       659|       957|       834|      1054|      1032|      1009|      1755|      1168|       852|       972|       869|       822|       919|      1304|      1114|      1208|      1103|      1210|       660|      1290|       958|      1041|      1096|      1884|      2188|       970|       935|      1109|      1315|      1309|      1212|      1472|       851|      1075|      1141|      1123|      1335|      1600|      1012|       959|      2234|      1810|      1937|      1229|      1371|      1772|      1295|      1220|      1683|      1153|      1340|      2018|      2062|      1348|      1581|      1247|      2335|      1196|      1594|      1925|      1870|      2525|      2068|      2295|      1704|      1741|      2027|      2593|      3027|      2643|      2451|      2433|      2232|      3309|      2985|      3337|      3211|      4029|      3339|      3306|      3631|      4008|      3170|      3631|      4275|      3346|      3048|      3585|      3680|      4094|      5725|      5728|      5298|      4214|      3455|      4284|      4571|      3391|      3847|      3731|      3100|      2764|      3288|      3384|      3318|      3499|      2464|      2176|      2720|      2998|      2712|      2936|      2461|      3297|      2192|      2468|      3545|      1924|      2253|      2364|      2437|      1828|      1555|      1745|      2063|      2154|      1680|      1683|      1529|      1280|      1448|      1647|      1575|      1470|      1354|      1208|      1063|      1219|      1213|      1576|      1671|      1327|      1116|      1384|      1268|      1360|      1275|      1199|      1302|       941|      1133|      1482|      1178|      1294|      1638|      1349|      1070|      1300|      1139|      1285|      1854|      1510|      1739|      1317|      1767|      1889|      2148|      2551|      2331|      2195|      2078|      2341|      2340|      2875|      2847|      2717|      2690|      2776|      2733|      3142|      3332|      3788|      2881|      3418|      2500|      3120|      3744|      3551|      4498|      4519|      3733|      3807|      3973|      4765|      4855|      4113|      4140|      3780|      4446|      4865|      6075|      6806|      6493|      6320|      6976|      6509|      7289|      7478|      7857|      8290|      9020|      6999|      6824|      7105|      7703|      8209|      7748|      7452|      6241|      5271|      5566|      6239|      5671|      6849|      5793|      5304|      4949|      5419|      5150|      5738|      6440|      5911|      5293|      4611|      4743|      5244|      5841|      5812|      5803|      5586|      5218|      6437|      6276|      6988|      6982|      6658|      6045|      6387|      7654|      7097|      8868|      9180|      9353|      9105|      8574|     11079|     11618|     13215|     12541|     12528|     10710|     10972|     12366|     11985|     13034|     15573|     15902|     17045|     14516|     16117|     17405|     17170|     16840|     17786|     17150|     15764|     17105|     19819|     20596|     20889|     19257|     18688|     17236|     19991|     20780|     21668|     21468|     20670|     20546|     19740|     19631|     22242|     22948|     23564|     22262|     19807|     17672|     20837|     22642|     24599|     22070|     22597|     20579|     19268|     20897|     18762|     20988|     19378|     19057|     20396|     17352|     18547|     19733|     19307|     21176|     19550|     19198|     16073|     15669|     19495|     18815|     17577|     15549|     14954|     14345|     15759|     14990|     13754|     14554|     13899|     13104|     10959|     11332|     12434|     12735|     11889|     10915|      9066|      8075|      8817|      9380|      9890|      9751|      8743|      7373|      6709|      7276|      7950|      8084|      7420|      7509|      6145|      5434|      5745|      5516|      6210|      6630|      5828|      5666|      4782|      5726|      6148|      6377|      6060|      5854|      4979|      4626|      5071|      5291|      5713|      4922|      4701|      4343|      4543|      5403|      6243|      6323|      6517|      5809|      5162|      5143|      5413|      6288|      6380|      6355|      5859|      4854|      4885|      5594|      5755|      6144|      5501|      5097|      4239|      4087|      4879|      5439|      5806|      5551|      4896|      4298|      4262|      4965|      5020|      5446|      5058|      4626|      3490|      3504|      4097|      3900|      4262|      4362|      4083|      3108|      2589|      3140|      3519|      3510|      3528|      3160|      2778|      2757|      2897|      3683|      3997|      3573|      3386|      2882|      2690|      2842|      3270|      3543|      3381|      3251|      2888|      2641|      3175|      3198|      3684|      3346|      3074|      3010|      2342|      3245|      3229|      3764|      4046|      4116|      3856|      3214|      4066|      4744|      5439|      5522|      5139|      4915|      4774|      5566|      5736|      5720|      7234|      9117|     10089|     11034|     13944|     17134|     19090|     20939|     22802|     21072|     21315|     22133|     27831|     26701|     27808|     28825|     26832|     25099|     27179|     31199|     32070|     30644|     27299|     24466|     23100|     25854|     27500|     32467|     33209|     33406|     27435|     26856|     31490|     30246|     30787|     32800|     26250|     22535|     22030|     26534|     28298|     27004|     24241|     22341|     19105|     17828|     21483|     22491|     24316|     21839|     20923|     16863|     13336|     15215|     15941|     18560|     17476|     14692|     12380|     10002|     12017|     12105|     11994|     14944|     10177|      8112|      7739|      9002|     10052|     10413|      9673|      9705|      6623|      7140|      6069|      6968|      5899|      6342|      5624|      4006|      2478|      3361|      3471|      2935|      2579|      2107|      1503|      1352|       922|      1054|      1278|      1251|      1372|      2153|      2246|      2605|      3321|      3410|      3029|      2373|\n",
            "|           Singapore|      null|      null|      null|      null|      null|      null|      null|      null|      null|      null|      null|      null|      null|      null|      null|      null|      null|      null|      null|      null|      null|      null|      null|      null|      null|         3|         2|         4|         3|         1|         1|         3|         0|         1|         1|         2|         3|         2|         4|         4|         2|         2|         2|         5|        13|         8|        12|        10|         6|        12|         9|        13|        12|        14|        17|        23|        47|        32|        40|        47|        23|        54|        49|        73|        52|        49|        70|        42|        35|        47|        74|        49|        65|        75|       120|        66|       106|       142|       287|       198|       191|       233|       386|       334|       447|       728|       623|       942|       596|      1426|      1111|      1016|      1037|       897|       618|       931|       799|       528|       690|       528|       932|       447|       657|       573|       632|       788|       741|       768|       753|       876|       451|       884|       675|       752|       793|       465|       682|       305|       451|       570|       448|       614|       642|       548|       344|       383|       533|       373|       611|       506|       518|       408|       544|       569|       517|       261|       344|       383|       386|       218|       451|       422|       463|       347|       407|       214|       151|       247|       257|       142|       218|       262|       218|       119|       191|       113|       219|       291|       213|       202|       246|       215|       188|       169|       185|       136|       183|       156|       158|       125|       191|       170|       178|       322|       346|       249|       248|       327|       202|       257|       123|       399|       310|       354|       277|       513|       481|       469|       359|       334|       278|       396|       307|       313|       226|       295|       908|       301|       242|       132|       175|       188|        61|        42|       102|        83|        81|        86|        91|       100|        93|        68|       117|        50|        87|        51|        31|        60|        77|        94|        51|        54|        41|        40|         8|        48|        40|        34|        40|        22|        47|        75|        63|        86|        42|        49|        48|        34|        26|        18|        11|        15|        18|        30|        21|        12|        15|        11|        20|        15|        15|        27|        23|        19|        10|         6|        12|         7|        11|        10|         9|        10|         7|        10|         4|         4|         5|         3|         9|         3|         7|         4|         6|        12|         8|        10|        14|         5|         3|         7|         7|         7|         9|        12|         4|         1|         9|         7|         7|         4|         7|         2|         8|         9|        18|        11|        12|         2|         3|         5|         6|         5|         4|         4|         5|        12|         5|        18|         7|         5|         4|         6|         8|         5|        10|         2|         9|         3|        13|         5|        13|        12|         6|         6|         8|         8|         7|         5|        16|        12|        24|         9|        17|        19|        10|        29|        21|        13|        14|        10|         5|         5|        13|        27|        30|        30|        33|        35|        24|        28|        31|        33|        23|        29|        42|        22|        17|        38|        45|        30|        24|        30|        14|        30|        40|        38|        15|        10|        48|        44|        14|        25|        34|        24|        58|        29|        29|        19|        18|        22|        25|        26|        24|        22|        11|        15|        12|        18|         9|        14|         9|         1|        11|        11|        14|        12|        11|        10|         4|         7|        10|        13|        12|        11|        12|         8|        23|        19|         9|        13|        13|        13|         6|        10|         8|        10|         8|        17|        12|        11|         9|        15|        15|        17|        12|        12|        13|        15|        17|        12|        23|        12|        21|        26|        34|        26|        43|        18|        10|        17|        24|        35|        21|        26|        32|        20|        25|        14|        27|        16|        34|        39|        23|        20|        14|        15|        24|        39|        23|        40|        45|        12|        23|        35|        24|        34|        39|        17|        17|        16|        18|        25|        20|        28|        19|        25|        16|        34|        52|        31|        49|        28|        38|        38|        41|        40|        29|        25|        36|        30|        26|        24|        30|        33|        25|        23|        18|        31|        45|        13|        18|        20|        14|         9|         4|        13|         9|        18|        13|        25|        14|        24|        27|        16|        21|        11|        16|        18|        22|        23|        20|        17|        14|         9|        10|        16|        10|        10|         7|        11|        13|        10|        12|        16|        10|         6|         8|        26|        26|        60|        48|        61|        68|        92|       172|       195|       181|       170|       133|       130|       125|       135|       139|       136|       133|       139|       120|       121|       111|       102|        95|        98|        97|        81|        78|        72|        54|        63|        59|        49|        58|        53|        53|        56|        53|        32|        40|        37|        35|        98|       116|       120|       116|       122|       121|       133|       155|       161|       180|       191|       219|       259|       191|       241|       332|       349|       457|       573|       555|       520|       607|       837|       807|       910|       935|      1009|      1012|       917|      1178|      1457|      1504|      1650|      1443|      1939|      1647|      2236|      2268|      2478|      2909|      2356|      2057|      2475|      3486|      3577|      3483|      3590|      3703|      2809|      2263|      2976|      3190|      2932|      3445|      3348|      3058|      2553|      3994|      3862|      3439|      3637|      3598|      3383|      3174|      3277|      5324|      3432|      4248|      3112|      3163|      2470|      3496|      3635|      3003|      1767|      3035|      2553|      2470|      3397|      3481|      2396|      3099|      2304|      1723|      2069|      2069|      3474|      2038|      1734|      1931|      1670|      1461|      1782|      2079|      1275|      1090|      1761|       747|      1103|      1239|      1324|      1101|       766|       743|       552|       662|       715|       709|       682|       454|       559|       370|       339|       442|       474|       355|       412|       271|       255|       195|       280|       335|       322|       265|       248|       209|       280|       365|       341|       311|       344|       456|       429|       464|       842|       805|      1287|      1251|      1285|      1319|      1224|      1320|      1356|      1434|      1419|      1430|      1337|      1639|      1922|      2089|      1945|      3155|      2463|      3496|      3002|      5996|      4832|      5469|      5554|      5207|      4498|      4481|      6264|      3101|      4297|     13208|     10390|      7752|      7806|     13011|     10314|     10686|      9930|     10505|      9420|      9082|     19420|     16883|     18545|     18094|     15836|     15283|     13623|     26032|     20312|     18593|     18597|     16857|     14228|     13544|     24080|     19159|     18162|     17564|     16274|     13158|     13520|     22201|     17051|     16165|     15345|     12632|      9701|      9042|     15851|     11278|     10713|     10594|     10244|      7859|      7538|     13166|      8940|      8478|      7584|      6434|      4848|      4925|      8164|      5729|      5605|      5010|      4563|      3743|      3334|      6341|      4467|      4269|      4014|      3259|      2573|      2568|      4552|      3535|      3521|      3404|      1670|      3049|      2480|      4718|      3472|      3420|      3025|      2709|      2044|      2058|      3688|      2646|      2690|      2517|      2141|      1732|      1336|      1570|      1638|      4733|      3420|      3162|      2423|      2271|      4831|      3890|      3645|      4291|      3383|\n",
            "|                Fiji|      null|      null|      null|      null|      null|      null|      null|      null|      null|      null|      null|      null|      null|      null|      null|      null|      null|      null|      null|      null|      null|      null|      null|      null|      null|      null|      null|      null|      null|      null|      null|      null|      null|      null|      null|      null|      null|      null|      null|      null|      null|      null|      null|      null|      null|      null|      null|      null|      null|      null|      null|      null|      null|      null|      null|      null|      null|      null|         0|         1|         0|         1|         1|         1|         0|         0|         0|         0|         0|         0|         0|         2|         0|         5|         0|         2|         1|         0|         0|         1|         0|         0|         0|         0|         0|         1|         0|         0|         0|         1|         0|         0|         0|         0|         0|         0|         0|         0|         0|         0|         0|         0|         0|         0|         0|         0|         0|         0|         0|         0|         0|         0|         0|         0|         0|         0|         0|         0|         0|         0|         0|         0|         0|         0|         0|         0|         0|         0|         0|         0|         0|         0|         0|         0|         0|         0|         0|         0|         0|         0|         0|         0|         0|         0|         0|         0|         0|         0|         0|         0|         0|         0|         0|         0|         0|         0|         0|         0|         0|         0|         0|         0|         0|         0|         0|         0|         1|         2|         0|         0|         5|         0|         0|         0|         0|         0|         0|         0|         0|         0|         1|         0|         0|         0|         0|         0|         0|         0|         0|         0|         0|         0|         0|         0|         0|         0|         0|         0|         0|         0|         0|         0|         0|         0|         1|         0|         0|         0|         0|         0|         0|         0|         0|         0|         0|         0|         0|         0|         0|         0|         0|         0|         0|         1|         0|         0|         0|         2|         0|         0|         0|         1|         0|         0|         0|         0|         0|         0|         0|         0|         0|         0|         0|         0|         0|         0|         0|         0|         0|         0|         0|         0|         0|         0|         0|         0|         0|         0|         0|         0|         0|         0|         0|         0|         0|         0|         0|         0|         0|         0|         0|         0|         0|         1|         0|         0|         0|         0|         0|         0|         0|         0|         1|         0|         0|         0|         0|         0|         0|         0|         0|         0|         0|         0|         1|         0|         0|         0|         0|         0|         0|         0|         0|         0|         0|         0|         0|         0|         3|         0|         0|         0|         0|         4|         0|         0|         0|         2|         0|         0|         0|         0|         0|         0|         2|         0|         0|         0|         0|         0|         0|         0|         0|         0|         0|         0|         0|         0|         0|         0|         0|         0|         0|         3|         0|         0|         0|         0|         0|         0|         4|         0|         0|         0|         0|         0|         0|         0|         0|         0|         0|         2|         0|         0|         0|         0|         0|         0|         0|         0|         0|         0|         0|         0|         0|         0|         0|         0|         1|         0|         0|         0|         0|         0|         0|         0|         0|         0|         0|         0|         0|         0|         0|         0|         0|         0|         0|         0|         0|         1|         0|         2|         0|         0|         0|         0|         4|         0|         0|         0|         0|         3|         0|         0|         0|         0|         0|         0|         0|         0|         0|         0|         1|         0|         0|         0|         0|         0|         0|         0|         0|         0|         0|         0|         0|         0|         0|         0|         0|         0|         0|         0|         0|         1|         0|         0|         0|         0|         0|         0|         0|         4|         0|         2|         3|         1|         8|         0|         1|         4|        12|         6|         2|         5|         1|         2|         0|         2|         0|         4|         4|         7|         0|         3|         1|        12|         9|         4|         1|         2|         4|         2|         4|         0|        12|         5|        11|        24|         8|        21|        27|        28|        46|        18|        28|        32|        35|        35|        28|        35|        33|        83|        64|        94|        35|        39|        48|        46|       105|        88|       116|       121|        90|       115|       150|       166|       126|       180|       270|       308|       215|       266|       262|       241|       312|       274|       431|       404|       386|       522|       352|       636|       791|       721|       860|       506|       485|       873|       647|       634|      1220|      1405|      1180|      1043|       784|      1054|      1091|       918|       468|       684|       626|      1285|       715|      1057|      1301|      1163|      1121|       632|      1100|      1220|      1187|       968|       752|       682|       657|       603|       264|       568|       398|       644|       314|       467|       350|       590|       653|       781|       485|       198|       303|       591|       302|       255|       423|       205|       258|       396|       184|       505|       290|       250|       253|       200|       156|       128|       160|       240|       179|       143|       143|       128|       127|       131|       146|       197|       132|       161|        79|       121|       118|        72|       177|        93|       161|        54|        52|        65|        81|        70|       107|        38|        34|        22|        49|        55|        58|        40|        57|        16|        36|         0|       113|        38|        14|        85|        39|        22|        38|        25|        21|        47|        22|        15|        14|        35|        16|        34|        28|        22|         8|         9|        17|        12|        17|        21|         0|         0|        51|        27|        31|        16|        25|         0|         0|        32|         7|         7|         0|        10|         0|         7|         8|         0|         6|         8|        12|         4|         8|         0|        14|        12|         9|         2|         3|         6|        10|         3|         2|         5|         5|         7|         5|         4|         5|         6|         7|        12|        20|         3|         5|         7|        48|        40|        69|        20|       109|        79|       115|       194|       326|       223|       266|       687|       175|       268|       372|       676|       320|       612|       499|        93|       438|       204|       443|       291|       193|       180|       187|       377|       347|       203|       219|       636|        81|       250|       183|       122|       126|        44|        93|        54|       335|         0|       292|        59|        68|        29|        24|        29|        26|        16|        61|        17|         0|         0|        33|        22|        12|        57|        24|        11|         3|        12|        26|        11|        24|       116|        97|         4|         9|        55|         7|         8|        12|         6|         5|         4|        14|        12|         2|         5|         6|         1|         7|        68|         5|         0|       155|         4|         9|         5|         0|         8|        36|         5|         5|         8|         5|         6|         4|         8|         5|         3|         2|        39|         5|         5|        20|         1|         6|         1|         0|         0|         3|         1|         6|         1|         3|         0|         9|         2|         4|         2|         2|         1|         2|        78|        12|         9|         6|         4|         0|        21|         4|        21|         9|        10|         9|         5|         2|        11|        18|        10|         9|         0|\n",
            "+--------------------+----------+----------+----------+----------+----------+----------+----------+----------+----------+----------+----------+----------+----------+----------+----------+----------+----------+----------+----------+----------+----------+----------+----------+----------+----------+----------+----------+----------+----------+----------+----------+----------+----------+----------+----------+----------+----------+----------+----------+----------+----------+----------+----------+----------+----------+----------+----------+----------+----------+----------+----------+----------+----------+----------+----------+----------+----------+----------+----------+----------+----------+----------+----------+----------+----------+----------+----------+----------+----------+----------+----------+----------+----------+----------+----------+----------+----------+----------+----------+----------+----------+----------+----------+----------+----------+----------+----------+----------+----------+----------+----------+----------+----------+----------+----------+----------+----------+----------+----------+----------+----------+----------+----------+----------+----------+----------+----------+----------+----------+----------+----------+----------+----------+----------+----------+----------+----------+----------+----------+----------+----------+----------+----------+----------+----------+----------+----------+----------+----------+----------+----------+----------+----------+----------+----------+----------+----------+----------+----------+----------+----------+----------+----------+----------+----------+----------+----------+----------+----------+----------+----------+----------+----------+----------+----------+----------+----------+----------+----------+----------+----------+----------+----------+----------+----------+----------+----------+----------+----------+----------+----------+----------+----------+----------+----------+----------+----------+----------+----------+----------+----------+----------+----------+----------+----------+----------+----------+----------+----------+----------+----------+----------+----------+----------+----------+----------+----------+----------+----------+----------+----------+----------+----------+----------+----------+----------+----------+----------+----------+----------+----------+----------+----------+----------+----------+----------+----------+----------+----------+----------+----------+----------+----------+----------+----------+----------+----------+----------+----------+----------+----------+----------+----------+----------+----------+----------+----------+----------+----------+----------+----------+----------+----------+----------+----------+----------+----------+----------+----------+----------+----------+----------+----------+----------+----------+----------+----------+----------+----------+----------+----------+----------+----------+----------+----------+----------+----------+----------+----------+----------+----------+----------+----------+----------+----------+----------+----------+----------+----------+----------+----------+----------+----------+----------+----------+----------+----------+----------+----------+----------+----------+----------+----------+----------+----------+----------+----------+----------+----------+----------+----------+----------+----------+----------+----------+----------+----------+----------+----------+----------+----------+----------+----------+----------+----------+----------+----------+----------+----------+----------+----------+----------+----------+----------+----------+----------+----------+----------+----------+----------+----------+----------+----------+----------+----------+----------+----------+----------+----------+----------+----------+----------+----------+----------+----------+----------+----------+----------+----------+----------+----------+----------+----------+----------+----------+----------+----------+----------+----------+----------+----------+----------+----------+----------+----------+----------+----------+----------+----------+----------+----------+----------+----------+----------+----------+----------+----------+----------+----------+----------+----------+----------+----------+----------+----------+----------+----------+----------+----------+----------+----------+----------+----------+----------+----------+----------+----------+----------+----------+----------+----------+----------+----------+----------+----------+----------+----------+----------+----------+----------+----------+----------+----------+----------+----------+----------+----------+----------+----------+----------+----------+----------+----------+----------+----------+----------+----------+----------+----------+----------+----------+----------+----------+----------+----------+----------+----------+----------+----------+----------+----------+----------+----------+----------+----------+----------+----------+----------+----------+----------+----------+----------+----------+----------+----------+----------+----------+----------+----------+----------+----------+----------+----------+----------+----------+----------+----------+----------+----------+----------+----------+----------+----------+----------+----------+----------+----------+----------+----------+----------+----------+----------+----------+----------+----------+----------+----------+----------+----------+----------+----------+----------+----------+----------+----------+----------+----------+----------+----------+----------+----------+----------+----------+----------+----------+----------+----------+----------+----------+----------+----------+----------+----------+----------+----------+----------+----------+----------+----------+----------+----------+----------+----------+----------+----------+----------+----------+----------+----------+----------+----------+----------+----------+----------+----------+----------+----------+----------+----------+----------+----------+----------+----------+----------+----------+----------+----------+----------+----------+----------+----------+----------+----------+----------+----------+----------+----------+----------+----------+----------+----------+----------+----------+----------+----------+----------+----------+----------+----------+----------+----------+----------+----------+----------+----------+----------+----------+----------+----------+----------+----------+----------+----------+----------+----------+----------+----------+----------+----------+----------+----------+----------+----------+----------+----------+----------+----------+----------+----------+----------+----------+----------+----------+----------+----------+----------+----------+----------+----------+----------+----------+----------+----------+----------+----------+----------+----------+----------+----------+----------+----------+----------+----------+----------+----------+----------+----------+----------+----------+----------+----------+----------+----------+----------+----------+----------+----------+----------+----------+----------+----------+----------+----------+----------+----------+----------+----------+----------+----------+----------+----------+----------+----------+----------+----------+----------+----------+----------+----------+----------+----------+----------+----------+----------+----------+----------+----------+----------+----------+----------+----------+----------+----------+----------+----------+----------+----------+----------+----------+----------+----------+----------+----------+----------+----------+----------+----------+----------+----------+----------+----------+----------+----------+----------+----------+----------+----------+----------+----------+----------+----------+----------+----------+----------+----------+----------+----------+----------+----------+----------+----------+----------+----------+----------+----------+----------+----------+----------+----------+----------+----------+----------+----------+----------+----------+----------+----------+----------+----------+----------+----------+----------+----------+----------+----------+----------+----------+----------+----------+----------+----------+----------+----------+----------+----------+----------+----------+----------+----------+----------+----------+----------+----------+----------+----------+----------+----------+----------+----------+----------+----------+----------+----------+----------+----------+----------+----------+----------+----------+----------+----------+----------+----------+----------+----------+----------+----------+----------+----------+----------+----------+----------+----------+----------+----------+----------+----------+----------+----------+----------+----------+----------+----------+----------+----------+----------+----------+----------+----------+----------+----------+----------+----------+----------+----------+----------+----------+----------+----------+----------+----------+----------+----------+----------+----------+----------+----------+----------+----------+----------+----------+----------+----------+----------+----------+----------+----------+----------+----------+----------+----------+----------+----------+----------+----------+----------+----------+----------+----------+----------+----------+----------+----------+----------+\n",
            "only showing top 20 rows\n",
            "\n"
          ]
        }
      ]
    },
    {
      "cell_type": "code",
      "source": [
        "from pyspark.sql.types import *"
      ],
      "metadata": {
        "id": "omj2HLnpYkqF"
      },
      "execution_count": 22,
      "outputs": []
    },
    {
      "cell_type": "code",
      "source": [
        "# converting pyspark to pandas\n",
        "df1_pandas = df_cast.toPandas()\n",
        "df1_pandas"
      ],
      "metadata": {
        "colab": {
          "base_uri": "https://localhost:8080/",
          "height": 424
        },
        "id": "9tgrKCwwXlwi",
        "outputId": "3a269389-1139-47f8-f071-b06d1ea886a7"
      },
      "execution_count": 23,
      "outputs": [
        {
          "output_type": "execute_result",
          "data": {
            "text/plain": [
              "              date      country  cumulative_total_cases  daily_new_cases  \\\n",
              "0       2020-02-15  Afghanistan                       0              NaN   \n",
              "1       2020-02-16  Afghanistan                       0              NaN   \n",
              "2       2020-02-17  Afghanistan                       0              NaN   \n",
              "3       2020-02-18  Afghanistan                       0              NaN   \n",
              "4       2020-02-19  Afghanistan                       0              NaN   \n",
              "...            ...          ...                     ...              ...   \n",
              "184782  2022-05-10     Zimbabwe                  248642            106.0   \n",
              "184783  2022-05-11     Zimbabwe                  248778            136.0   \n",
              "184784  2022-05-12     Zimbabwe                  248943            165.0   \n",
              "184785  2022-05-13     Zimbabwe                  249131            188.0   \n",
              "184786  2022-05-14     Zimbabwe                  249206             75.0   \n",
              "\n",
              "        active_cases  cumulative_total_deaths  daily_new_deaths  \n",
              "0                0.0                      0.0               NaN  \n",
              "1                0.0                      0.0               NaN  \n",
              "2                0.0                      0.0               NaN  \n",
              "3                0.0                      0.0               NaN  \n",
              "4                0.0                      0.0               NaN  \n",
              "...              ...                      ...               ...  \n",
              "184782         963.0                   5481.0               2.0  \n",
              "184783        1039.0                   5481.0               0.0  \n",
              "184784        1158.0                   5481.0               0.0  \n",
              "184785        1283.0                   5482.0               1.0  \n",
              "184786        1307.0                   5482.0               0.0  \n",
              "\n",
              "[184787 rows x 7 columns]"
            ],
            "text/html": [
              "\n",
              "  <div id=\"df-f28b5eba-a987-4fcb-814d-4cbc43310c21\">\n",
              "    <div class=\"colab-df-container\">\n",
              "      <div>\n",
              "<style scoped>\n",
              "    .dataframe tbody tr th:only-of-type {\n",
              "        vertical-align: middle;\n",
              "    }\n",
              "\n",
              "    .dataframe tbody tr th {\n",
              "        vertical-align: top;\n",
              "    }\n",
              "\n",
              "    .dataframe thead th {\n",
              "        text-align: right;\n",
              "    }\n",
              "</style>\n",
              "<table border=\"1\" class=\"dataframe\">\n",
              "  <thead>\n",
              "    <tr style=\"text-align: right;\">\n",
              "      <th></th>\n",
              "      <th>date</th>\n",
              "      <th>country</th>\n",
              "      <th>cumulative_total_cases</th>\n",
              "      <th>daily_new_cases</th>\n",
              "      <th>active_cases</th>\n",
              "      <th>cumulative_total_deaths</th>\n",
              "      <th>daily_new_deaths</th>\n",
              "    </tr>\n",
              "  </thead>\n",
              "  <tbody>\n",
              "    <tr>\n",
              "      <th>0</th>\n",
              "      <td>2020-02-15</td>\n",
              "      <td>Afghanistan</td>\n",
              "      <td>0</td>\n",
              "      <td>NaN</td>\n",
              "      <td>0.0</td>\n",
              "      <td>0.0</td>\n",
              "      <td>NaN</td>\n",
              "    </tr>\n",
              "    <tr>\n",
              "      <th>1</th>\n",
              "      <td>2020-02-16</td>\n",
              "      <td>Afghanistan</td>\n",
              "      <td>0</td>\n",
              "      <td>NaN</td>\n",
              "      <td>0.0</td>\n",
              "      <td>0.0</td>\n",
              "      <td>NaN</td>\n",
              "    </tr>\n",
              "    <tr>\n",
              "      <th>2</th>\n",
              "      <td>2020-02-17</td>\n",
              "      <td>Afghanistan</td>\n",
              "      <td>0</td>\n",
              "      <td>NaN</td>\n",
              "      <td>0.0</td>\n",
              "      <td>0.0</td>\n",
              "      <td>NaN</td>\n",
              "    </tr>\n",
              "    <tr>\n",
              "      <th>3</th>\n",
              "      <td>2020-02-18</td>\n",
              "      <td>Afghanistan</td>\n",
              "      <td>0</td>\n",
              "      <td>NaN</td>\n",
              "      <td>0.0</td>\n",
              "      <td>0.0</td>\n",
              "      <td>NaN</td>\n",
              "    </tr>\n",
              "    <tr>\n",
              "      <th>4</th>\n",
              "      <td>2020-02-19</td>\n",
              "      <td>Afghanistan</td>\n",
              "      <td>0</td>\n",
              "      <td>NaN</td>\n",
              "      <td>0.0</td>\n",
              "      <td>0.0</td>\n",
              "      <td>NaN</td>\n",
              "    </tr>\n",
              "    <tr>\n",
              "      <th>...</th>\n",
              "      <td>...</td>\n",
              "      <td>...</td>\n",
              "      <td>...</td>\n",
              "      <td>...</td>\n",
              "      <td>...</td>\n",
              "      <td>...</td>\n",
              "      <td>...</td>\n",
              "    </tr>\n",
              "    <tr>\n",
              "      <th>184782</th>\n",
              "      <td>2022-05-10</td>\n",
              "      <td>Zimbabwe</td>\n",
              "      <td>248642</td>\n",
              "      <td>106.0</td>\n",
              "      <td>963.0</td>\n",
              "      <td>5481.0</td>\n",
              "      <td>2.0</td>\n",
              "    </tr>\n",
              "    <tr>\n",
              "      <th>184783</th>\n",
              "      <td>2022-05-11</td>\n",
              "      <td>Zimbabwe</td>\n",
              "      <td>248778</td>\n",
              "      <td>136.0</td>\n",
              "      <td>1039.0</td>\n",
              "      <td>5481.0</td>\n",
              "      <td>0.0</td>\n",
              "    </tr>\n",
              "    <tr>\n",
              "      <th>184784</th>\n",
              "      <td>2022-05-12</td>\n",
              "      <td>Zimbabwe</td>\n",
              "      <td>248943</td>\n",
              "      <td>165.0</td>\n",
              "      <td>1158.0</td>\n",
              "      <td>5481.0</td>\n",
              "      <td>0.0</td>\n",
              "    </tr>\n",
              "    <tr>\n",
              "      <th>184785</th>\n",
              "      <td>2022-05-13</td>\n",
              "      <td>Zimbabwe</td>\n",
              "      <td>249131</td>\n",
              "      <td>188.0</td>\n",
              "      <td>1283.0</td>\n",
              "      <td>5482.0</td>\n",
              "      <td>1.0</td>\n",
              "    </tr>\n",
              "    <tr>\n",
              "      <th>184786</th>\n",
              "      <td>2022-05-14</td>\n",
              "      <td>Zimbabwe</td>\n",
              "      <td>249206</td>\n",
              "      <td>75.0</td>\n",
              "      <td>1307.0</td>\n",
              "      <td>5482.0</td>\n",
              "      <td>0.0</td>\n",
              "    </tr>\n",
              "  </tbody>\n",
              "</table>\n",
              "<p>184787 rows × 7 columns</p>\n",
              "</div>\n",
              "      <button class=\"colab-df-convert\" onclick=\"convertToInteractive('df-f28b5eba-a987-4fcb-814d-4cbc43310c21')\"\n",
              "              title=\"Convert this dataframe to an interactive table.\"\n",
              "              style=\"display:none;\">\n",
              "        \n",
              "  <svg xmlns=\"http://www.w3.org/2000/svg\" height=\"24px\"viewBox=\"0 0 24 24\"\n",
              "       width=\"24px\">\n",
              "    <path d=\"M0 0h24v24H0V0z\" fill=\"none\"/>\n",
              "    <path d=\"M18.56 5.44l.94 2.06.94-2.06 2.06-.94-2.06-.94-.94-2.06-.94 2.06-2.06.94zm-11 1L8.5 8.5l.94-2.06 2.06-.94-2.06-.94L8.5 2.5l-.94 2.06-2.06.94zm10 10l.94 2.06.94-2.06 2.06-.94-2.06-.94-.94-2.06-.94 2.06-2.06.94z\"/><path d=\"M17.41 7.96l-1.37-1.37c-.4-.4-.92-.59-1.43-.59-.52 0-1.04.2-1.43.59L10.3 9.45l-7.72 7.72c-.78.78-.78 2.05 0 2.83L4 21.41c.39.39.9.59 1.41.59.51 0 1.02-.2 1.41-.59l7.78-7.78 2.81-2.81c.8-.78.8-2.07 0-2.86zM5.41 20L4 18.59l7.72-7.72 1.47 1.35L5.41 20z\"/>\n",
              "  </svg>\n",
              "      </button>\n",
              "      \n",
              "  <style>\n",
              "    .colab-df-container {\n",
              "      display:flex;\n",
              "      flex-wrap:wrap;\n",
              "      gap: 12px;\n",
              "    }\n",
              "\n",
              "    .colab-df-convert {\n",
              "      background-color: #E8F0FE;\n",
              "      border: none;\n",
              "      border-radius: 50%;\n",
              "      cursor: pointer;\n",
              "      display: none;\n",
              "      fill: #1967D2;\n",
              "      height: 32px;\n",
              "      padding: 0 0 0 0;\n",
              "      width: 32px;\n",
              "    }\n",
              "\n",
              "    .colab-df-convert:hover {\n",
              "      background-color: #E2EBFA;\n",
              "      box-shadow: 0px 1px 2px rgba(60, 64, 67, 0.3), 0px 1px 3px 1px rgba(60, 64, 67, 0.15);\n",
              "      fill: #174EA6;\n",
              "    }\n",
              "\n",
              "    [theme=dark] .colab-df-convert {\n",
              "      background-color: #3B4455;\n",
              "      fill: #D2E3FC;\n",
              "    }\n",
              "\n",
              "    [theme=dark] .colab-df-convert:hover {\n",
              "      background-color: #434B5C;\n",
              "      box-shadow: 0px 1px 3px 1px rgba(0, 0, 0, 0.15);\n",
              "      filter: drop-shadow(0px 1px 2px rgba(0, 0, 0, 0.3));\n",
              "      fill: #FFFFFF;\n",
              "    }\n",
              "  </style>\n",
              "\n",
              "      <script>\n",
              "        const buttonEl =\n",
              "          document.querySelector('#df-f28b5eba-a987-4fcb-814d-4cbc43310c21 button.colab-df-convert');\n",
              "        buttonEl.style.display =\n",
              "          google.colab.kernel.accessAllowed ? 'block' : 'none';\n",
              "\n",
              "        async function convertToInteractive(key) {\n",
              "          const element = document.querySelector('#df-f28b5eba-a987-4fcb-814d-4cbc43310c21');\n",
              "          const dataTable =\n",
              "            await google.colab.kernel.invokeFunction('convertToInteractive',\n",
              "                                                     [key], {});\n",
              "          if (!dataTable) return;\n",
              "\n",
              "          const docLinkHtml = 'Like what you see? Visit the ' +\n",
              "            '<a target=\"_blank\" href=https://colab.research.google.com/notebooks/data_table.ipynb>data table notebook</a>'\n",
              "            + ' to learn more about interactive tables.';\n",
              "          element.innerHTML = '';\n",
              "          dataTable['output_type'] = 'display_data';\n",
              "          await google.colab.output.renderOutput(dataTable, element);\n",
              "          const docLink = document.createElement('div');\n",
              "          docLink.innerHTML = docLinkHtml;\n",
              "          element.appendChild(docLink);\n",
              "        }\n",
              "      </script>\n",
              "    </div>\n",
              "  </div>\n",
              "  "
            ]
          },
          "metadata": {},
          "execution_count": 23
        }
      ]
    },
    {
      "cell_type": "code",
      "source": [
        "df2_pandas=df1_pandas.sort_values(by=\"daily_new_cases\",ascending=False )\n",
        "df2_pandas"
      ],
      "metadata": {
        "colab": {
          "base_uri": "https://localhost:8080/",
          "height": 424
        },
        "id": "JlMmL60NcFgc",
        "outputId": "b02b4aaa-8e65-4b16-a5b6-cc8945dbfd69"
      },
      "execution_count": 24,
      "outputs": [
        {
          "output_type": "execute_result",
          "data": {
            "text/plain": [
              "              date   country  cumulative_total_cases  daily_new_cases  \\\n",
              "177285  2022-01-13       USA                65930256         909610.0   \n",
              "177279  2022-01-07       USA                61064610         903409.0   \n",
              "177284  2022-01-12       USA                65020646         891103.0   \n",
              "177286  2022-01-14       USA                66820408         890152.0   \n",
              "177293  2022-01-21       USA                71955193         831049.0   \n",
              "...            ...       ...                     ...              ...   \n",
              "183997  2020-03-16  Zimbabwe                       0              NaN   \n",
              "183998  2020-03-17  Zimbabwe                       0              NaN   \n",
              "183999  2020-03-18  Zimbabwe                       0              NaN   \n",
              "184000  2020-03-19  Zimbabwe                       0              NaN   \n",
              "184001  2020-03-20  Zimbabwe                       1              NaN   \n",
              "\n",
              "        active_cases  cumulative_total_deaths  daily_new_deaths  \n",
              "177285    12982758.0                 875261.0            2671.0  \n",
              "177279     9448674.0                 863018.0            2261.0  \n",
              "177284    12293209.0                 872590.0            2636.0  \n",
              "177286    13615194.0                 877851.0            2590.0  \n",
              "177293    16587751.0                 894664.0            3064.0  \n",
              "...              ...                      ...               ...  \n",
              "183997           0.0                      0.0               NaN  \n",
              "183998           0.0                      0.0               NaN  \n",
              "183999           0.0                      0.0               NaN  \n",
              "184000           0.0                      0.0               NaN  \n",
              "184001           1.0                      0.0               NaN  \n",
              "\n",
              "[184787 rows x 7 columns]"
            ],
            "text/html": [
              "\n",
              "  <div id=\"df-96b37376-5390-451d-9179-f2f47ab3f577\">\n",
              "    <div class=\"colab-df-container\">\n",
              "      <div>\n",
              "<style scoped>\n",
              "    .dataframe tbody tr th:only-of-type {\n",
              "        vertical-align: middle;\n",
              "    }\n",
              "\n",
              "    .dataframe tbody tr th {\n",
              "        vertical-align: top;\n",
              "    }\n",
              "\n",
              "    .dataframe thead th {\n",
              "        text-align: right;\n",
              "    }\n",
              "</style>\n",
              "<table border=\"1\" class=\"dataframe\">\n",
              "  <thead>\n",
              "    <tr style=\"text-align: right;\">\n",
              "      <th></th>\n",
              "      <th>date</th>\n",
              "      <th>country</th>\n",
              "      <th>cumulative_total_cases</th>\n",
              "      <th>daily_new_cases</th>\n",
              "      <th>active_cases</th>\n",
              "      <th>cumulative_total_deaths</th>\n",
              "      <th>daily_new_deaths</th>\n",
              "    </tr>\n",
              "  </thead>\n",
              "  <tbody>\n",
              "    <tr>\n",
              "      <th>177285</th>\n",
              "      <td>2022-01-13</td>\n",
              "      <td>USA</td>\n",
              "      <td>65930256</td>\n",
              "      <td>909610.0</td>\n",
              "      <td>12982758.0</td>\n",
              "      <td>875261.0</td>\n",
              "      <td>2671.0</td>\n",
              "    </tr>\n",
              "    <tr>\n",
              "      <th>177279</th>\n",
              "      <td>2022-01-07</td>\n",
              "      <td>USA</td>\n",
              "      <td>61064610</td>\n",
              "      <td>903409.0</td>\n",
              "      <td>9448674.0</td>\n",
              "      <td>863018.0</td>\n",
              "      <td>2261.0</td>\n",
              "    </tr>\n",
              "    <tr>\n",
              "      <th>177284</th>\n",
              "      <td>2022-01-12</td>\n",
              "      <td>USA</td>\n",
              "      <td>65020646</td>\n",
              "      <td>891103.0</td>\n",
              "      <td>12293209.0</td>\n",
              "      <td>872590.0</td>\n",
              "      <td>2636.0</td>\n",
              "    </tr>\n",
              "    <tr>\n",
              "      <th>177286</th>\n",
              "      <td>2022-01-14</td>\n",
              "      <td>USA</td>\n",
              "      <td>66820408</td>\n",
              "      <td>890152.0</td>\n",
              "      <td>13615194.0</td>\n",
              "      <td>877851.0</td>\n",
              "      <td>2590.0</td>\n",
              "    </tr>\n",
              "    <tr>\n",
              "      <th>177293</th>\n",
              "      <td>2022-01-21</td>\n",
              "      <td>USA</td>\n",
              "      <td>71955193</td>\n",
              "      <td>831049.0</td>\n",
              "      <td>16587751.0</td>\n",
              "      <td>894664.0</td>\n",
              "      <td>3064.0</td>\n",
              "    </tr>\n",
              "    <tr>\n",
              "      <th>...</th>\n",
              "      <td>...</td>\n",
              "      <td>...</td>\n",
              "      <td>...</td>\n",
              "      <td>...</td>\n",
              "      <td>...</td>\n",
              "      <td>...</td>\n",
              "      <td>...</td>\n",
              "    </tr>\n",
              "    <tr>\n",
              "      <th>183997</th>\n",
              "      <td>2020-03-16</td>\n",
              "      <td>Zimbabwe</td>\n",
              "      <td>0</td>\n",
              "      <td>NaN</td>\n",
              "      <td>0.0</td>\n",
              "      <td>0.0</td>\n",
              "      <td>NaN</td>\n",
              "    </tr>\n",
              "    <tr>\n",
              "      <th>183998</th>\n",
              "      <td>2020-03-17</td>\n",
              "      <td>Zimbabwe</td>\n",
              "      <td>0</td>\n",
              "      <td>NaN</td>\n",
              "      <td>0.0</td>\n",
              "      <td>0.0</td>\n",
              "      <td>NaN</td>\n",
              "    </tr>\n",
              "    <tr>\n",
              "      <th>183999</th>\n",
              "      <td>2020-03-18</td>\n",
              "      <td>Zimbabwe</td>\n",
              "      <td>0</td>\n",
              "      <td>NaN</td>\n",
              "      <td>0.0</td>\n",
              "      <td>0.0</td>\n",
              "      <td>NaN</td>\n",
              "    </tr>\n",
              "    <tr>\n",
              "      <th>184000</th>\n",
              "      <td>2020-03-19</td>\n",
              "      <td>Zimbabwe</td>\n",
              "      <td>0</td>\n",
              "      <td>NaN</td>\n",
              "      <td>0.0</td>\n",
              "      <td>0.0</td>\n",
              "      <td>NaN</td>\n",
              "    </tr>\n",
              "    <tr>\n",
              "      <th>184001</th>\n",
              "      <td>2020-03-20</td>\n",
              "      <td>Zimbabwe</td>\n",
              "      <td>1</td>\n",
              "      <td>NaN</td>\n",
              "      <td>1.0</td>\n",
              "      <td>0.0</td>\n",
              "      <td>NaN</td>\n",
              "    </tr>\n",
              "  </tbody>\n",
              "</table>\n",
              "<p>184787 rows × 7 columns</p>\n",
              "</div>\n",
              "      <button class=\"colab-df-convert\" onclick=\"convertToInteractive('df-96b37376-5390-451d-9179-f2f47ab3f577')\"\n",
              "              title=\"Convert this dataframe to an interactive table.\"\n",
              "              style=\"display:none;\">\n",
              "        \n",
              "  <svg xmlns=\"http://www.w3.org/2000/svg\" height=\"24px\"viewBox=\"0 0 24 24\"\n",
              "       width=\"24px\">\n",
              "    <path d=\"M0 0h24v24H0V0z\" fill=\"none\"/>\n",
              "    <path d=\"M18.56 5.44l.94 2.06.94-2.06 2.06-.94-2.06-.94-.94-2.06-.94 2.06-2.06.94zm-11 1L8.5 8.5l.94-2.06 2.06-.94-2.06-.94L8.5 2.5l-.94 2.06-2.06.94zm10 10l.94 2.06.94-2.06 2.06-.94-2.06-.94-.94-2.06-.94 2.06-2.06.94z\"/><path d=\"M17.41 7.96l-1.37-1.37c-.4-.4-.92-.59-1.43-.59-.52 0-1.04.2-1.43.59L10.3 9.45l-7.72 7.72c-.78.78-.78 2.05 0 2.83L4 21.41c.39.39.9.59 1.41.59.51 0 1.02-.2 1.41-.59l7.78-7.78 2.81-2.81c.8-.78.8-2.07 0-2.86zM5.41 20L4 18.59l7.72-7.72 1.47 1.35L5.41 20z\"/>\n",
              "  </svg>\n",
              "      </button>\n",
              "      \n",
              "  <style>\n",
              "    .colab-df-container {\n",
              "      display:flex;\n",
              "      flex-wrap:wrap;\n",
              "      gap: 12px;\n",
              "    }\n",
              "\n",
              "    .colab-df-convert {\n",
              "      background-color: #E8F0FE;\n",
              "      border: none;\n",
              "      border-radius: 50%;\n",
              "      cursor: pointer;\n",
              "      display: none;\n",
              "      fill: #1967D2;\n",
              "      height: 32px;\n",
              "      padding: 0 0 0 0;\n",
              "      width: 32px;\n",
              "    }\n",
              "\n",
              "    .colab-df-convert:hover {\n",
              "      background-color: #E2EBFA;\n",
              "      box-shadow: 0px 1px 2px rgba(60, 64, 67, 0.3), 0px 1px 3px 1px rgba(60, 64, 67, 0.15);\n",
              "      fill: #174EA6;\n",
              "    }\n",
              "\n",
              "    [theme=dark] .colab-df-convert {\n",
              "      background-color: #3B4455;\n",
              "      fill: #D2E3FC;\n",
              "    }\n",
              "\n",
              "    [theme=dark] .colab-df-convert:hover {\n",
              "      background-color: #434B5C;\n",
              "      box-shadow: 0px 1px 3px 1px rgba(0, 0, 0, 0.15);\n",
              "      filter: drop-shadow(0px 1px 2px rgba(0, 0, 0, 0.3));\n",
              "      fill: #FFFFFF;\n",
              "    }\n",
              "  </style>\n",
              "\n",
              "      <script>\n",
              "        const buttonEl =\n",
              "          document.querySelector('#df-96b37376-5390-451d-9179-f2f47ab3f577 button.colab-df-convert');\n",
              "        buttonEl.style.display =\n",
              "          google.colab.kernel.accessAllowed ? 'block' : 'none';\n",
              "\n",
              "        async function convertToInteractive(key) {\n",
              "          const element = document.querySelector('#df-96b37376-5390-451d-9179-f2f47ab3f577');\n",
              "          const dataTable =\n",
              "            await google.colab.kernel.invokeFunction('convertToInteractive',\n",
              "                                                     [key], {});\n",
              "          if (!dataTable) return;\n",
              "\n",
              "          const docLinkHtml = 'Like what you see? Visit the ' +\n",
              "            '<a target=\"_blank\" href=https://colab.research.google.com/notebooks/data_table.ipynb>data table notebook</a>'\n",
              "            + ' to learn more about interactive tables.';\n",
              "          element.innerHTML = '';\n",
              "          dataTable['output_type'] = 'display_data';\n",
              "          await google.colab.output.renderOutput(dataTable, element);\n",
              "          const docLink = document.createElement('div');\n",
              "          docLink.innerHTML = docLinkHtml;\n",
              "          element.appendChild(docLink);\n",
              "        }\n",
              "      </script>\n",
              "    </div>\n",
              "  </div>\n",
              "  "
            ]
          },
          "metadata": {},
          "execution_count": 24
        }
      ]
    },
    {
      "cell_type": "code",
      "source": [
        "\n",
        "\n",
        "# Plotting Line Chart\n",
        "%matplotlib inline\n",
        "import matplotlib.pyplot as plt\n",
        "\n",
        "# Figure size\n",
        "fig, ax = plt.subplots(figsize=(15, 10))\n",
        "\n",
        "# Using Transpose plot to plot columns on x axis\n",
        "#df3_pandas.plot()\n",
        "df3_pandas.T.plot(ax=ax)\n",
        "\n",
        "# Title and labels\n",
        "plt.title(\"Top 10 Countries by Covid-19 Deaths from 22-Jan-20 to 27-Jul-20\", fontsize = 18)\n",
        "plt.ylabel('daily_new_cases',fontsize = 15)\n",
        "plt.xlabel('date', fontsize = 15)\n",
        "ax.grid(True)\n",
        "plt.show()"
      ],
      "metadata": {
        "colab": {
          "base_uri": "https://localhost:8080/",
          "height": 630
        },
        "id": "jH-b6jKHZGP6",
        "outputId": "3ca5ed38-43f4-4eed-89c3-ebde9abd9e43"
      },
      "execution_count": 26,
      "outputs": [
        {
          "output_type": "display_data",
          "data": {
            "text/plain": [
              "<Figure size 1080x720 with 1 Axes>"
            ],
            "image/png": "[encoded data removed]"
          },
          "metadata": {
            "needs_background": "light"
          }
        }
      ]
    },
    {
      "cell_type": "code",
      "source": [
        "# Question 7)\n",
        "\n",
        "df1=df.withColumn(\"cumulative recovered cases\", df.cumulative_total_cases - df.active_cases - df.cumulative_total_deaths)"
      ],
      "metadata": {
        "id": "JrYl-6ZQN3oa"
      },
      "execution_count": 147,
      "outputs": []
    },
    {
      "cell_type": "code",
      "source": [
        "df1.show(50)"
      ],
      "metadata": {
        "colab": {
          "base_uri": "https://localhost:8080/"
        },
        "id": "or7BUgPvBxvI",
        "outputId": "920ea86a-ce9f-4531-f0f7-4cac8251c975"
      },
      "execution_count": 148,
      "outputs": [
        {
          "output_type": "stream",
          "name": "stdout",
          "text": [
            "+----------+-----------+----------------------+---------------+------------+-----------------------+----------------+--------------------------+\n",
            "|      date|    country|cumulative_total_cases|daily_new_cases|active_cases|cumulative_total_deaths|daily_new_deaths|cumulative recovered cases|\n",
            "+----------+-----------+----------------------+---------------+------------+-----------------------+----------------+--------------------------+\n",
            "|2020-02-15|Afghanistan|                     0|           null|           0|                      0|            null|                       0.0|\n",
            "|2020-02-16|Afghanistan|                     0|           null|           0|                      0|            null|                       0.0|\n",
            "|2020-02-17|Afghanistan|                     0|           null|           0|                      0|            null|                       0.0|\n",
            "|2020-02-18|Afghanistan|                     0|           null|           0|                      0|            null|                       0.0|\n",
            "|2020-02-19|Afghanistan|                     0|           null|           0|                      0|            null|                       0.0|\n",
            "|2020-02-20|Afghanistan|                     0|           null|           0|                      0|            null|                       0.0|\n",
            "|2020-02-21|Afghanistan|                     0|           null|           0|                      0|            null|                       0.0|\n",
            "|2020-02-22|Afghanistan|                     0|           null|           0|                      0|            null|                       0.0|\n",
            "|2020-02-23|Afghanistan|                     0|           null|           0|                      0|            null|                       0.0|\n",
            "|2020-02-24|Afghanistan|                     1|           null|           1|                      0|            null|                       0.0|\n",
            "|2020-02-25|Afghanistan|                     1|              0|           1|                      0|               0|                       0.0|\n",
            "|2020-02-26|Afghanistan|                     1|              0|           1|                      0|               0|                       0.0|\n",
            "|2020-02-27|Afghanistan|                     1|              0|           1|                      0|               0|                       0.0|\n",
            "|2020-02-28|Afghanistan|                     1|              0|           1|                      0|               0|                       0.0|\n",
            "|2020-02-29|Afghanistan|                     1|              0|           1|                      0|               0|                       0.0|\n",
            "|2020-03-01|Afghanistan|                     1|              0|           1|                      0|               0|                       0.0|\n",
            "|2020-03-02|Afghanistan|                     1|              0|           1|                      0|               0|                       0.0|\n",
            "|2020-03-03|Afghanistan|                     1|              0|           1|                      0|               0|                       0.0|\n",
            "|2020-03-04|Afghanistan|                     1|              0|           1|                      0|               0|                       0.0|\n",
            "|2020-03-05|Afghanistan|                     1|              0|           1|                      0|               0|                       0.0|\n",
            "|2020-03-06|Afghanistan|                     1|              0|           1|                      0|               0|                       0.0|\n",
            "|2020-03-07|Afghanistan|                     4|              3|           4|                      0|               0|                       0.0|\n",
            "|2020-03-08|Afghanistan|                     4|              0|           4|                      0|               0|                       0.0|\n",
            "|2020-03-09|Afghanistan|                     4|              0|           4|                      0|               0|                       0.0|\n",
            "|2020-03-10|Afghanistan|                     5|              1|           5|                      0|               0|                       0.0|\n",
            "|2020-03-11|Afghanistan|                     7|              2|           7|                      0|               0|                       0.0|\n",
            "|2020-03-12|Afghanistan|                     7|              0|           7|                      0|               0|                       0.0|\n",
            "|2020-03-13|Afghanistan|                     7|              0|           7|                      0|               0|                       0.0|\n",
            "|2020-03-14|Afghanistan|                    11|              4|          11|                      0|               0|                       0.0|\n",
            "|2020-03-15|Afghanistan|                    16|              5|          15|                      0|               0|                       1.0|\n",
            "|2020-03-16|Afghanistan|                    21|              5|          20|                      0|               0|                       1.0|\n",
            "|2020-03-17|Afghanistan|                    22|              1|          21|                      0|               0|                       1.0|\n",
            "|2020-03-18|Afghanistan|                    22|              0|          21|                      0|               0|                       1.0|\n",
            "|2020-03-19|Afghanistan|                    22|              0|          21|                      0|               0|                       1.0|\n",
            "|2020-03-20|Afghanistan|                    24|              2|          23|                      0|               0|                       1.0|\n",
            "|2020-03-21|Afghanistan|                    24|              0|          23|                      0|               0|                       1.0|\n",
            "|2020-03-22|Afghanistan|                    40|             16|          38|                      1|               1|                       1.0|\n",
            "|2020-03-23|Afghanistan|                    40|              0|          38|                      1|               0|                       1.0|\n",
            "|2020-03-24|Afghanistan|                    74|             34|          72|                      1|               0|                       1.0|\n",
            "|2020-03-25|Afghanistan|                    84|             10|          80|                      2|               1|                       2.0|\n",
            "|2020-03-26|Afghanistan|                    94|             10|          88|                      4|               2|                       2.0|\n",
            "|2020-03-27|Afghanistan|                   110|             16|         104|                      4|               0|                       2.0|\n",
            "|2020-03-28|Afghanistan|                   110|              0|         104|                      4|               0|                       2.0|\n",
            "|2020-03-29|Afghanistan|                   120|             10|         114|                      4|               0|                       2.0|\n",
            "|2020-03-30|Afghanistan|                   170|             50|         164|                      4|               0|                       2.0|\n",
            "|2020-03-31|Afghanistan|                   174|              4|         165|                      4|               0|                       5.0|\n",
            "|2020-04-01|Afghanistan|                   237|             63|         228|                      4|               0|                       5.0|\n",
            "|2020-04-02|Afghanistan|                   273|             36|         257|                      6|               2|                      10.0|\n",
            "|2020-04-03|Afghanistan|                   281|              8|         265|                      6|               0|                      10.0|\n",
            "|2020-04-04|Afghanistan|                   309|             28|         292|                      7|               1|                      10.0|\n",
            "+----------+-----------+----------------------+---------------+------------+-----------------------+----------------+--------------------------+\n",
            "only showing top 50 rows\n",
            "\n"
          ]
        }
      ]
    },
    {
      "cell_type": "code",
      "source": [
        "# Question 8)\n",
        "\n",
        "# converting pyspark to pandas to visualize the dataframe\n",
        "df2 = df1.toPandas()\n",
        "\n",
        "# Setting Country/Region as index\n",
        "df2 = df2.set_index('country')\n",
        "df2 "
      ],
      "metadata": {
        "colab": {
          "base_uri": "https://localhost:8080/",
          "height": 455
        },
        "id": "DhMBK3sIrWav",
        "outputId": "6989612c-6d30-4609-8840-1614a62d29ed"
      },
      "execution_count": 151,
      "outputs": [
        {
          "output_type": "execute_result",
          "data": {
            "text/plain": [
              "                   date cumulative_total_cases daily_new_cases active_cases  \\\n",
              "country                                                                       \n",
              "Afghanistan  2020-02-15                      0            None            0   \n",
              "Afghanistan  2020-02-16                      0            None            0   \n",
              "Afghanistan  2020-02-17                      0            None            0   \n",
              "Afghanistan  2020-02-18                      0            None            0   \n",
              "Afghanistan  2020-02-19                      0            None            0   \n",
              "...                 ...                    ...             ...          ...   \n",
              "Zimbabwe     2022-05-10                 248642             106          963   \n",
              "Zimbabwe     2022-05-11                 248778             136         1039   \n",
              "Zimbabwe     2022-05-12                 248943             165         1158   \n",
              "Zimbabwe     2022-05-13                 249131             188         1283   \n",
              "Zimbabwe     2022-05-14                 249206              75         1307   \n",
              "\n",
              "            cumulative_total_deaths daily_new_deaths  \\\n",
              "country                                                \n",
              "Afghanistan                       0             None   \n",
              "Afghanistan                       0             None   \n",
              "Afghanistan                       0             None   \n",
              "Afghanistan                       0             None   \n",
              "Afghanistan                       0             None   \n",
              "...                             ...              ...   \n",
              "Zimbabwe                       5481                2   \n",
              "Zimbabwe                       5481                0   \n",
              "Zimbabwe                       5481                0   \n",
              "Zimbabwe                       5482                1   \n",
              "Zimbabwe                       5482                0   \n",
              "\n",
              "             cumulative recovered cases  \n",
              "country                                  \n",
              "Afghanistan                         0.0  \n",
              "Afghanistan                         0.0  \n",
              "Afghanistan                         0.0  \n",
              "Afghanistan                         0.0  \n",
              "Afghanistan                         0.0  \n",
              "...                                 ...  \n",
              "Zimbabwe                       242198.0  \n",
              "Zimbabwe                       242258.0  \n",
              "Zimbabwe                       242304.0  \n",
              "Zimbabwe                       242366.0  \n",
              "Zimbabwe                       242417.0  \n",
              "\n",
              "[184787 rows x 7 columns]"
            ],
            "text/html": [
              "\n",
              "  <div id=\"df-cd421536-3fef-493e-80c9-57473b1fb20f\">\n",
              "    <div class=\"colab-df-container\">\n",
              "      <div>\n",
              "<style scoped>\n",
              "    .dataframe tbody tr th:only-of-type {\n",
              "        vertical-align: middle;\n",
              "    }\n",
              "\n",
              "    .dataframe tbody tr th {\n",
              "        vertical-align: top;\n",
              "    }\n",
              "\n",
              "    .dataframe thead th {\n",
              "        text-align: right;\n",
              "    }\n",
              "</style>\n",
              "<table border=\"1\" class=\"dataframe\">\n",
              "  <thead>\n",
              "    <tr style=\"text-align: right;\">\n",
              "      <th></th>\n",
              "      <th>date</th>\n",
              "      <th>cumulative_total_cases</th>\n",
              "      <th>daily_new_cases</th>\n",
              "      <th>active_cases</th>\n",
              "      <th>cumulative_total_deaths</th>\n",
              "      <th>daily_new_deaths</th>\n",
              "      <th>cumulative recovered cases</th>\n",
              "    </tr>\n",
              "    <tr>\n",
              "      <th>country</th>\n",
              "      <th></th>\n",
              "      <th></th>\n",
              "      <th></th>\n",
              "      <th></th>\n",
              "      <th></th>\n",
              "      <th></th>\n",
              "      <th></th>\n",
              "    </tr>\n",
              "  </thead>\n",
              "  <tbody>\n",
              "    <tr>\n",
              "      <th>Afghanistan</th>\n",
              "      <td>2020-02-15</td>\n",
              "      <td>0</td>\n",
              "      <td>None</td>\n",
              "      <td>0</td>\n",
              "      <td>0</td>\n",
              "      <td>None</td>\n",
              "      <td>0.0</td>\n",
              "    </tr>\n",
              "    <tr>\n",
              "      <th>Afghanistan</th>\n",
              "      <td>2020-02-16</td>\n",
              "      <td>0</td>\n",
              "      <td>None</td>\n",
              "      <td>0</td>\n",
              "      <td>0</td>\n",
              "      <td>None</td>\n",
              "      <td>0.0</td>\n",
              "    </tr>\n",
              "    <tr>\n",
              "      <th>Afghanistan</th>\n",
              "      <td>2020-02-17</td>\n",
              "      <td>0</td>\n",
              "      <td>None</td>\n",
              "      <td>0</td>\n",
              "      <td>0</td>\n",
              "      <td>None</td>\n",
              "      <td>0.0</td>\n",
              "    </tr>\n",
              "    <tr>\n",
              "      <th>Afghanistan</th>\n",
              "      <td>2020-02-18</td>\n",
              "      <td>0</td>\n",
              "      <td>None</td>\n",
              "      <td>0</td>\n",
              "      <td>0</td>\n",
              "      <td>None</td>\n",
              "      <td>0.0</td>\n",
              "    </tr>\n",
              "    <tr>\n",
              "      <th>Afghanistan</th>\n",
              "      <td>2020-02-19</td>\n",
              "      <td>0</td>\n",
              "      <td>None</td>\n",
              "      <td>0</td>\n",
              "      <td>0</td>\n",
              "      <td>None</td>\n",
              "      <td>0.0</td>\n",
              "    </tr>\n",
              "    <tr>\n",
              "      <th>...</th>\n",
              "      <td>...</td>\n",
              "      <td>...</td>\n",
              "      <td>...</td>\n",
              "      <td>...</td>\n",
              "      <td>...</td>\n",
              "      <td>...</td>\n",
              "      <td>...</td>\n",
              "    </tr>\n",
              "    <tr>\n",
              "      <th>Zimbabwe</th>\n",
              "      <td>2022-05-10</td>\n",
              "      <td>248642</td>\n",
              "      <td>106</td>\n",
              "      <td>963</td>\n",
              "      <td>5481</td>\n",
              "      <td>2</td>\n",
              "      <td>242198.0</td>\n",
              "    </tr>\n",
              "    <tr>\n",
              "      <th>Zimbabwe</th>\n",
              "      <td>2022-05-11</td>\n",
              "      <td>248778</td>\n",
              "      <td>136</td>\n",
              "      <td>1039</td>\n",
              "      <td>5481</td>\n",
              "      <td>0</td>\n",
              "      <td>242258.0</td>\n",
              "    </tr>\n",
              "    <tr>\n",
              "      <th>Zimbabwe</th>\n",
              "      <td>2022-05-12</td>\n",
              "      <td>248943</td>\n",
              "      <td>165</td>\n",
              "      <td>1158</td>\n",
              "      <td>5481</td>\n",
              "      <td>0</td>\n",
              "      <td>242304.0</td>\n",
              "    </tr>\n",
              "    <tr>\n",
              "      <th>Zimbabwe</th>\n",
              "      <td>2022-05-13</td>\n",
              "      <td>249131</td>\n",
              "      <td>188</td>\n",
              "      <td>1283</td>\n",
              "      <td>5482</td>\n",
              "      <td>1</td>\n",
              "      <td>242366.0</td>\n",
              "    </tr>\n",
              "    <tr>\n",
              "      <th>Zimbabwe</th>\n",
              "      <td>2022-05-14</td>\n",
              "      <td>249206</td>\n",
              "      <td>75</td>\n",
              "      <td>1307</td>\n",
              "      <td>5482</td>\n",
              "      <td>0</td>\n",
              "      <td>242417.0</td>\n",
              "    </tr>\n",
              "  </tbody>\n",
              "</table>\n",
              "<p>184787 rows × 7 columns</p>\n",
              "</div>\n",
              "      <button class=\"colab-df-convert\" onclick=\"convertToInteractive('df-cd421536-3fef-493e-80c9-57473b1fb20f')\"\n",
              "              title=\"Convert this dataframe to an interactive table.\"\n",
              "              style=\"display:none;\">\n",
              "        \n",
              "  <svg xmlns=\"http://www.w3.org/2000/svg\" height=\"24px\"viewBox=\"0 0 24 24\"\n",
              "       width=\"24px\">\n",
              "    <path d=\"M0 0h24v24H0V0z\" fill=\"none\"/>\n",
              "    <path d=\"M18.56 5.44l.94 2.06.94-2.06 2.06-.94-2.06-.94-.94-2.06-.94 2.06-2.06.94zm-11 1L8.5 8.5l.94-2.06 2.06-.94-2.06-.94L8.5 2.5l-.94 2.06-2.06.94zm10 10l.94 2.06.94-2.06 2.06-.94-2.06-.94-.94-2.06-.94 2.06-2.06.94z\"/><path d=\"M17.41 7.96l-1.37-1.37c-.4-.4-.92-.59-1.43-.59-.52 0-1.04.2-1.43.59L10.3 9.45l-7.72 7.72c-.78.78-.78 2.05 0 2.83L4 21.41c.39.39.9.59 1.41.59.51 0 1.02-.2 1.41-.59l7.78-7.78 2.81-2.81c.8-.78.8-2.07 0-2.86zM5.41 20L4 18.59l7.72-7.72 1.47 1.35L5.41 20z\"/>\n",
              "  </svg>\n",
              "      </button>\n",
              "      \n",
              "  <style>\n",
              "    .colab-df-container {\n",
              "      display:flex;\n",
              "      flex-wrap:wrap;\n",
              "      gap: 12px;\n",
              "    }\n",
              "\n",
              "    .colab-df-convert {\n",
              "      background-color: #E8F0FE;\n",
              "      border: none;\n",
              "      border-radius: 50%;\n",
              "      cursor: pointer;\n",
              "      display: none;\n",
              "      fill: #1967D2;\n",
              "      height: 32px;\n",
              "      padding: 0 0 0 0;\n",
              "      width: 32px;\n",
              "    }\n",
              "\n",
              "    .colab-df-convert:hover {\n",
              "      background-color: #E2EBFA;\n",
              "      box-shadow: 0px 1px 2px rgba(60, 64, 67, 0.3), 0px 1px 3px 1px rgba(60, 64, 67, 0.15);\n",
              "      fill: #174EA6;\n",
              "    }\n",
              "\n",
              "    [theme=dark] .colab-df-convert {\n",
              "      background-color: #3B4455;\n",
              "      fill: #D2E3FC;\n",
              "    }\n",
              "\n",
              "    [theme=dark] .colab-df-convert:hover {\n",
              "      background-color: #434B5C;\n",
              "      box-shadow: 0px 1px 3px 1px rgba(0, 0, 0, 0.15);\n",
              "      filter: drop-shadow(0px 1px 2px rgba(0, 0, 0, 0.3));\n",
              "      fill: #FFFFFF;\n",
              "    }\n",
              "  </style>\n",
              "\n",
              "      <script>\n",
              "        const buttonEl =\n",
              "          document.querySelector('#df-cd421536-3fef-493e-80c9-57473b1fb20f button.colab-df-convert');\n",
              "        buttonEl.style.display =\n",
              "          google.colab.kernel.accessAllowed ? 'block' : 'none';\n",
              "\n",
              "        async function convertToInteractive(key) {\n",
              "          const element = document.querySelector('#df-cd421536-3fef-493e-80c9-57473b1fb20f');\n",
              "          const dataTable =\n",
              "            await google.colab.kernel.invokeFunction('convertToInteractive',\n",
              "                                                     [key], {});\n",
              "          if (!dataTable) return;\n",
              "\n",
              "          const docLinkHtml = 'Like what you see? Visit the ' +\n",
              "            '<a target=\"_blank\" href=https://colab.research.google.com/notebooks/data_table.ipynb>data table notebook</a>'\n",
              "            + ' to learn more about interactive tables.';\n",
              "          element.innerHTML = '';\n",
              "          dataTable['output_type'] = 'display_data';\n",
              "          await google.colab.output.renderOutput(dataTable, element);\n",
              "          const docLink = document.createElement('div');\n",
              "          docLink.innerHTML = docLinkHtml;\n",
              "          element.appendChild(docLink);\n",
              "        }\n",
              "      </script>\n",
              "    </div>\n",
              "  </div>\n",
              "  "
            ]
          },
          "metadata": {},
          "execution_count": 151
        }
      ]
    },
    {
      "cell_type": "code",
      "source": [
        "# Question 10)\n",
        "\n",
        "# Creating a temp view for dates when first cases were confirmed in a country\n",
        "df.createOrReplaceTempView(\"firstcase\")\n",
        "f_first = spark.sql(\"SELECT `country`, min(date) AS `FirstCaseDate` FROM firstcase WHERE Confirmed > 0 GROUP BY `country`\")\n",
        "f_first.show(3)"
      ],
      "metadata": {
        "id": "vuW00BYhpwJj"
      },
      "execution_count": 33,
      "outputs": []
    },
    {
      "cell_type": "code",
      "source": [
        "startdate = []\n",
        "startdate = list(f_first.select('FirstCaseDate').toPandas()['FirstCaseDate']) \n",
        "country = list(f_first.select('Country/Region').toPandas()['country'])\n",
        "country.sort()\n",
        "startdate[0:5]"
      ],
      "metadata": {
        "id": "PhrvAnQjpwLI"
      },
      "execution_count": null,
      "outputs": []
    },
    {
      "cell_type": "code",
      "source": [
        "# Extracting confirmed case values for date 90 days after when first case was detected\n",
        "convert = []\n",
        "enddate = []\n",
        "\n",
        "from datetime import datetime\n",
        "from datetime import timedelta\n",
        "\n",
        "# converting startdate to datetime from str and adding 90 days\n",
        "for i in range(0,187):\n",
        "    convert.append(datetime.strptime(startdate[i], \"%Y-%m-%d\") + timedelta(days=90))\n",
        "\n",
        "# converting datetime back to string\n",
        "for i in range(0,187):\n",
        "    enddate.append(convert[i].strftime(\"%Y-%m-%d\"))\n",
        "    \n",
        "enddate[0:5]"
      ],
      "metadata": {
        "id": "09TVp6N0pwOd"
      },
      "execution_count": null,
      "outputs": []
    },
    {
      "cell_type": "code",
      "source": [],
      "metadata": {
        "id": "HifoDWqPqSJe"
      },
      "execution_count": null,
      "outputs": []
    },
    {
      "cell_type": "code",
      "source": [
        "# Question 11)\n",
        "\n",
        "df.write.json(\"file.json\")\n",
        "\n",
        "# Reading json to check the results\n",
        "df9 = spark.read.json(\"file.json\")\n",
        "df9.printSchema()\n",
        "df9.show()"
      ],
      "metadata": {
        "id": "rSxIMYNCqSOy"
      },
      "execution_count": null,
      "outputs": []
    },
    {
      "cell_type": "code",
      "source": [],
      "metadata": {
        "id": "gwlpEw9qrWcn"
      },
      "execution_count": null,
      "outputs": []
    },
    {
      "cell_type": "code",
      "source": [
        "# Didn't get the desired output for few questions because of the codes being not able to run and execute in the colab. Also, as a result couldn't\n",
        "#export into json file."
      ],
      "metadata": {
        "id": "g5x877AarWe_"
      },
      "execution_count": null,
      "outputs": []
    },
    {
      "cell_type": "code",
      "source": [],
      "metadata": {
        "id": "NeVgNxe4rWiV"
      },
      "execution_count": null,
      "outputs": []
    },
    {
      "cell_type": "code",
      "source": [],
      "metadata": {
        "id": "qHAySYaeN3qf"
      },
      "execution_count": null,
      "outputs": []
    },
    {
      "cell_type": "code",
      "source": [],
      "metadata": {
        "id": "lIheTiSON3uF"
      },
      "execution_count": null,
      "outputs": []
    }
  ]
}